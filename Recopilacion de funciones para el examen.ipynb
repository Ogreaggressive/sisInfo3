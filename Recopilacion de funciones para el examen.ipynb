{
 "cells": [
  {
   "cell_type": "code",
   "execution_count": 2,
   "id": "f443308f",
   "metadata": {},
   "outputs": [],
   "source": [
    "import pandas as pd\n",
    "#Series\n",
    "#Pandas Doc\n",
    "#  https://pandas.pydata.org/pandas-docs/stable/reference/series.html \n",
    "\n",
    "#Crear Serie\n",
    "array=[0.25, 0.5, 0.75, 1.0]\n",
    "serie = pd.Series(array)\n",
    "#tambien pueden ser diccionarios"
   ]
  },
  {
   "cell_type": "code",
   "execution_count": 3,
   "id": "3f0578e8",
   "metadata": {},
   "outputs": [
    {
     "name": "stdout",
     "output_type": "stream",
     "text": [
      "count    4.000000\n",
      "mean     0.625000\n",
      "std      0.322749\n",
      "min      0.250000\n",
      "25%      0.437500\n",
      "50%      0.625000\n",
      "75%      0.812500\n",
      "max      1.000000\n",
      "dtype: float64\n"
     ]
    }
   ],
   "source": [
    "#Se puede usar describe para obtener datos de la serie\n",
    "print(serie.describe())"
   ]
  },
  {
   "cell_type": "code",
   "execution_count": null,
   "id": "c6d5edd8",
   "metadata": {},
   "outputs": [],
   "source": [
    "#Se pueden cambiar los index mandando la lista como parametro\n",
    "serie = pd.Series([0.25, 0.5, 0.75, 1.0], index=['a', 'b', 'c', 'd']) "
   ]
  },
  {
   "cell_type": "code",
   "execution_count": null,
   "id": "59cd4807",
   "metadata": {},
   "outputs": [],
   "source": [
    "#Se puede obtener datos en base a una condicion \n",
    "serie[serie > 0.5]"
   ]
  },
  {
   "cell_type": "code",
   "execution_count": null,
   "id": "6bdcf66f",
   "metadata": {},
   "outputs": [],
   "source": [
    "#se pueden resetear los index\n",
    "serie.reset_index()"
   ]
  },
  {
   "cell_type": "code",
   "execution_count": null,
   "id": "718898f7",
   "metadata": {},
   "outputs": [],
   "source": [
    "#DataFrames\n",
    "#Se puede crear en base a diccionarios\n",
    "poblacion={\"test1\":5,\"test2\":6}\n",
    "datos_bolivia = pd.DataFrame({'poblacion':poblacion})"
   ]
  },
  {
   "cell_type": "code",
   "execution_count": null,
   "id": "079485d3",
   "metadata": {},
   "outputs": [],
   "source": [
    "#otra forma\n",
    "datos_bolivia = pd.DataFrame(data=zip([626000, 26448193,2883000,538000, 887000, 563000,3225000, 468000,144000], \n",
    "                                       [51514, 133985,55631,55588,117218,37623,370621,213564, 63287])\n",
    "                             ,columns=['poblacion', 'extension'])"
   ]
  },
  {
   "cell_type": "code",
   "execution_count": null,
   "id": "feab4ee5",
   "metadata": {},
   "outputs": [],
   "source": [
    "#creacion de nuevas columnas\n",
    "datos_bolivia['constante'] = 1\n",
    "datos_bolivia['densidad'] = datos_bolivia['poblacion'] / datos_bolivia['extension']"
   ]
  },
  {
   "cell_type": "code",
   "execution_count": null,
   "id": "1c53c10b",
   "metadata": {},
   "outputs": [],
   "source": [
    "#Se puede acceder como matriz usando \n",
    "datos_bolivia.iloc[0]\n",
    "#o con los nombres usando\n",
    "datos_bolivia.loc['Beni']\n",
    "#el segundo nos devuelve un dataframe y el primero una serie\n",
    "\n",
    "datos_bolivia.loc[['Beni']]"
   ]
  },
  {
   "cell_type": "code",
   "execution_count": null,
   "id": "68eabce6",
   "metadata": {},
   "outputs": [],
   "source": [
    "#Se puede obtener datos asi\n",
    "(datos_bolivia['poblacion'] > 2000000) & (datos_bolivia['extension']> 60000.0)"
   ]
  },
  {
   "cell_type": "code",
   "execution_count": null,
   "id": "685af6bd",
   "metadata": {},
   "outputs": [],
   "source": [
    "#eliminar columnas\n",
    "datos_bolivia.drop(columns=['constante'])\n",
    "#eliminar filas vacias\n",
    "datos_bolivia.dropna(how='any')"
   ]
  },
  {
   "cell_type": "code",
   "execution_count": null,
   "id": "d0e7291b",
   "metadata": {},
   "outputs": [],
   "source": [
    "#uso de apply \n",
    "datos_bolivia.apply(eco, axis='columns')\n",
    "#para filas\n",
    "datos_bolivia.apply(eco, axis='rows')"
   ]
  },
  {
   "cell_type": "code",
   "execution_count": null,
   "id": "92d7c12b",
   "metadata": {},
   "outputs": [],
   "source": [
    "#renombrar columnas\n",
    "ejemplo_split.rename(columns={0:'primera',1:'segunda'},inplace=True)\n",
    "#inplace es para que se modifique ejemplo_split"
   ]
  },
  {
   "cell_type": "code",
   "execution_count": null,
   "id": "fbc3d8c5",
   "metadata": {},
   "outputs": [],
   "source": [
    "#JOINS\n",
    "#para unir columnas de dos dataframes se usa\n",
    "customer_data = pd.merge(mall_customers_info,mall_customers_score,on='CustomerID')\n",
    "#se puede mandar como parametro left, right, outer e inner\n",
    "customer_data = pd.merge(mall_customers_info,mall_customers_score,on='CustomerID',how=\"left\")"
   ]
  },
  {
   "cell_type": "code",
   "execution_count": null,
   "id": "d6fe5f2b",
   "metadata": {},
   "outputs": [],
   "source": [
    "#UNIONS\n",
    "pd.concat([customer_data, mall_customers_more])\n",
    "#reset de index\n",
    "customers_data_all.reset_index(inplace=True, drop=True)"
   ]
  },
  {
   "cell_type": "code",
   "execution_count": null,
   "id": "6bcd1f94",
   "metadata": {},
   "outputs": [],
   "source": [
    "#PIVOT\n",
    "#si la info de un mismo producto esta en distintas filas se las puede unir usando\n",
    "products.pivot(index='id', columns='item', values='value')"
   ]
  },
  {
   "cell_type": "code",
   "execution_count": null,
   "id": "3ca1dd29",
   "metadata": {},
   "outputs": [],
   "source": [
    "#SPACY\n",
    "#sin modelo de lenguaje\n",
    "nlp = Spanish()\n",
    "#con\n",
    "nlp = spacy.load(\"es_core_news_md\")"
   ]
  },
  {
   "cell_type": "code",
   "execution_count": null,
   "id": "b1cff418",
   "metadata": {},
   "outputs": [],
   "source": [
    "spacy.explain('ORG') #para explicar "
   ]
  },
  {
   "cell_type": "code",
   "execution_count": null,
   "id": "99f99d62",
   "metadata": {},
   "outputs": [],
   "source": [
    "#fors utiles\n",
    "for token in doc:\n",
    "  print(f\"{token.text} (lemma: {token.lemma_})\")\n",
    "#morfologias y demas:\n",
    "for token in doc:\n",
    "    print(f\"{token.text} (POS: {token.pos_} / {spacy.explain(token.pos_)} : {token.morph} |lemma: {token.lemma_}\")\n",
    "    print(token.morph.get('Tense'))\n",
    "#spacy puede reconocer algunas entidades usando:\n",
    "for token in doc:\n",
    "  if token.ent_type != 0:\n",
    "    print(token.text, token.ent_type_)"
   ]
  },
  {
   "cell_type": "code",
   "execution_count": null,
   "id": "0ef453a8",
   "metadata": {},
   "outputs": [],
   "source": [
    "#agregar entidades\n",
    "ruler = nlp.add_pipe(\"entity_ruler\")\n",
    "pattern = [{\"label\": \"GPE\", \"pattern\": [{\"LOWER\": \"ciudad\"}, {\"LOWER\": \"de\"}, {\"LOWER\": \"los\"},  {\"POS\": \"NUM\"}, {\"LOWER\": \"nombres\"}]}]\n",
    "ruler.add_patterns(pattern)"
   ]
  },
  {
   "cell_type": "code",
   "execution_count": null,
   "id": "fd919f63",
   "metadata": {},
   "outputs": [],
   "source": [
    "#buscar patrones\n",
    "from spacy.matcher import Matcher\n",
    "\n",
    "matcher = Matcher(nlp.vocab)\n",
    "pattern = [{\"POS\":\"AUX\", \"LEMMA\": \"poder\"},{\"POS\":\"VERB\"}]\n",
    "matcher.add(\"PatterName1\", [pattern])\n",
    "matches = matcher(doc)\n",
    "for match_id, start, end in matches:\n",
    "    print(doc[start:end])\n",
    "    \n",
    "#otros ejemplos\n",
    "pattern = [{\"LEMMA\": {\"IN\": [\"poder\", \"querer\"]}},{\"POS\":\"VERB\"}]\n",
    "pattern = [{\"TEXT\": {\"REGEX\": \"[Bb]uen(os)?\"}}, {\"TEXT\": {\"REGEX\": \"[Dd]ía(s)?\"}}]\n",
    "pattern = [{\"LEMMA\": \"enviar\"}, {'OP':'?'}, {\"POS\": \"NOUN\"}]"
   ]
  },
  {
   "cell_type": "code",
   "execution_count": null,
   "id": "bbc2a48c",
   "metadata": {},
   "outputs": [],
   "source": [
    "#Arboles de relaciones\n",
    "for token in doc:\n",
    "  print(f\"{token.text} es '{token.dep_}' ({spacy.explain(token.dep_)}) de {token.head.text}\")\n",
    "\n",
    "#se puede graficar usando:\n",
    "from spacy import displacy\n",
    "displacy.render(doc, style=\"dep\")\n",
    "\n",
    "#funciones utiles\n",
    "doc[2].subtree\n",
    "doc[2].subtreedoc[2].children\n",
    "doc[1].head\n",
    "doc[1].left_edge\n",
    "doc[3].rights\n",
    "doc[1].lefts\n",
    "doc[1].right_edge\n",
    "doc[2].ancestors"
   ]
  }
 ],
 "metadata": {
  "kernelspec": {
   "display_name": "Python 3 (ipykernel)",
   "language": "python",
   "name": "python3"
  },
  "language_info": {
   "codemirror_mode": {
    "name": "ipython",
    "version": 3
   },
   "file_extension": ".py",
   "mimetype": "text/x-python",
   "name": "python",
   "nbconvert_exporter": "python",
   "pygments_lexer": "ipython3",
   "version": "3.9.12"
  }
 },
 "nbformat": 4,
 "nbformat_minor": 5
}
