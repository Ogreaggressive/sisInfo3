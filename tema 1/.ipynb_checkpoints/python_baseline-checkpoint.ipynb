{
 "cells": [
  {
   "cell_type": "code",
   "execution_count": 2,
   "id": "de8fe4a7",
   "metadata": {},
   "outputs": [],
   "source": [
    "marcas_automoviles = ['audi', 'toyota', 'ford', 'fiat', 'ferrari']"
   ]
  },
  {
   "cell_type": "code",
   "execution_count": 3,
   "id": "78cb83a8",
   "metadata": {},
   "outputs": [
    {
     "name": "stdout",
     "output_type": "stream",
     "text": [
      "toyota\n",
      "ferrari\n"
     ]
    }
   ],
   "source": [
    "#Obtener las cadenas con un tamñano mayor a cuatro letras\n",
    "for palabras in marcas_automoviles:\n",
    "    if(len(palabras)>4):\n",
    "        print(palabras)"
   ]
  },
  {
   "cell_type": "code",
   "execution_count": 4,
   "id": "6ad178f6",
   "metadata": {},
   "outputs": [
    {
     "name": "stdout",
     "output_type": "stream",
     "text": [
      "[4, 7]\n"
     ]
    }
   ],
   "source": [
    "#Convertir a una lista con los tamaños de las cadenas, obtener la lista con los dos últimos valores\n",
    "listaTam=[]\n",
    "for i in range(len(marcas_automoviles)-2, len(marcas_automoviles)):\n",
    "   listaTam.append(len(marcas_automoviles[i]))\n",
    "print(listaTam)"
   ]
  },
  {
   "cell_type": "code",
   "execution_count": 8,
   "id": "0784d04c",
   "metadata": {},
   "outputs": [
    {
     "name": "stdout",
     "output_type": "stream",
     "text": [
      "4 7\n",
      "2\n"
     ]
    }
   ],
   "source": [
    "print(len(marcas_automoviles[-2]),len(marcas_automoviles[-1]))\n",
    "print(len(marcas_automoviles[-2:]))"
   ]
  },
  {
   "cell_type": "code",
   "execution_count": 25,
   "id": "2c6ad762",
   "metadata": {},
   "outputs": [
    {
     "name": "stdout",
     "output_type": "stream",
     "text": [
      "[4, 6, 4, 4, 7]\n",
      "25\n"
     ]
    }
   ],
   "source": [
    "#Convertir a una lista con los tamaños de las cadenas, obtener la suma de los tamaños.\n",
    "listaTam=[]\n",
    "tot = 0\n",
    "for i in range(0, len(marcas_automoviles)):\n",
    "   listaTam.append(len(marcas_automoviles[i]))\n",
    "   tot = len(marcas_automoviles[i]) + tot\n",
    "print(listaTam)\n",
    "print(tot)"
   ]
  },
  {
   "cell_type": "code",
   "execution_count": 26,
   "id": "6a562947",
   "metadata": {},
   "outputs": [
    {
     "data": {
      "text/plain": [
       "{'name': 'Kelly', 'age': 25, 'salary': 8000, 'location': 'New york'}"
      ]
     },
     "execution_count": 26,
     "metadata": {},
     "output_type": "execute_result"
    }
   ],
   "source": [
    "#Renombre la clave 'city' a 'location' en el siguiente diccionario\n",
    "contactDict = {\n",
    "  \"name\": \"Kelly\",\n",
    "  \"age\":25,\n",
    "  \"salary\": 8000,\n",
    "  \"city\": \"New york\"\n",
    "}\n",
    "contactDict[\"location\"] = contactDict.pop(\"city\")\n",
    "contactDict"
   ]
  },
  {
   "cell_type": "code",
   "execution_count": 31,
   "id": "cbd3e1f5",
   "metadata": {},
   "outputs": [
    {
     "name": "stdout",
     "output_type": "stream",
     "text": [
      "['uno', 'dos']\n"
     ]
    }
   ],
   "source": [
    "# Complete la siguiente función. Obtener una lista son las cadenas vacías\n",
    "def remove_empty(*values):\n",
    "    lista = []\n",
    "    for i in values:\n",
    "        if (bool(i) == True):\n",
    "            if(i != \" \"):\n",
    "                lista.append(i)\n",
    "    return lista\n",
    "    #pass\n",
    "\n",
    "print(remove_empty(\" \", \"uno\", \"\" , \"dos\"))\n",
    "#[\"uno\", \"dos\"] == remove_empty(\" \", \"uno\", \"\" , \"dos\")\n"
   ]
  },
  {
   "cell_type": "code",
   "execution_count": 30,
   "id": "64f66e00",
   "metadata": {},
   "outputs": [
    {
     "data": {
      "text/plain": [
       "'Math'"
      ]
     },
     "execution_count": 30,
     "metadata": {},
     "output_type": "execute_result"
    }
   ],
   "source": [
    "#Obtenga la clave que corresponda al valor mínimo en el siguiente diccionario (aplique la función min)\n",
    "gradeDict = {\n",
    "  'Physics': 82,\n",
    "  'Math': 65,\n",
    "  'history': 75\n",
    "}\n",
    "\n",
    "min(gradeDict, key=gradeDict.get)"
   ]
  },
  {
   "cell_type": "code",
   "execution_count": null,
   "id": "060f4db6",
   "metadata": {},
   "outputs": [],
   "source": []
  }
 ],
 "metadata": {
  "kernelspec": {
   "display_name": "Python 3 (ipykernel)",
   "language": "python",
   "name": "python3"
  },
  "language_info": {
   "codemirror_mode": {
    "name": "ipython",
    "version": 3
   },
   "file_extension": ".py",
   "mimetype": "text/x-python",
   "name": "python",
   "nbconvert_exporter": "python",
   "pygments_lexer": "ipython3",
   "version": "3.9.12"
  }
 },
 "nbformat": 4,
 "nbformat_minor": 5
}
