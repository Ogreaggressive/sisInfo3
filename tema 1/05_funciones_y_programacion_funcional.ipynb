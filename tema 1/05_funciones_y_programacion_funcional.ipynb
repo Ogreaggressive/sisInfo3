{
 "cells": [
  {
   "cell_type": "code",
   "execution_count": 1,
   "metadata": {},
   "outputs": [],
   "source": [
    "#Habilitar intellisense\n",
    "%config IPCompleter.greedy = True"
   ]
  },
  {
   "cell_type": "markdown",
   "metadata": {},
   "source": [
    "## Funciones incorporadas\n",
    "- __[Built-in Functions](https://docs.python.org/3/library/functions.html)__\n",
    "- __[String](https://docs.python.org/3/library/string.html)__\n",
    "- __[Built-in Types](https://docs.python.org/3/library/stdtypes.html)__\n",
    "- __[Container datatypes](https://docs.python.org/3/library/collections.html)__"
   ]
  },
  {
   "cell_type": "markdown",
   "metadata": {},
   "source": [
    "## Funciones\n",
    "- __[Defining Functions](https://docs.python.org/3/tutorial/controlflow.html#defining-functions)__"
   ]
  },
  {
   "cell_type": "code",
   "execution_count": 4,
   "metadata": {},
   "outputs": [
    {
     "name": "stdout",
     "output_type": "stream",
     "text": [
      "Hola|sis225\n"
     ]
    }
   ],
   "source": [
    "print(\"Hola\", \"sis225\", sep=\"|\")"
   ]
  },
  {
   "cell_type": "code",
   "execution_count": 5,
   "metadata": {},
   "outputs": [
    {
     "name": "stdout",
     "output_type": "stream",
     "text": [
      "Hola sis225\n"
     ]
    }
   ],
   "source": [
    "print(\"Hola\", \"sis225\")"
   ]
  },
  {
   "cell_type": "code",
   "execution_count": 3,
   "metadata": {},
   "outputs": [
    {
     "name": "stdout",
     "output_type": "stream",
     "text": [
      "\n",
      "Buen Día, estimado Juan.\n",
      "\n",
      "Roberto, estimado hola.\n",
      "\n",
      "Hola, estimado Roberto.\n"
     ]
    }
   ],
   "source": [
    "#Declaración: identificador, parámetros y argumentos\n",
    "def saludar_persona(saludo, persona):\n",
    "    #pass\n",
    "    print(f\"\\n{saludo.title()}, estimado {persona}.\")\n",
    "\n",
    "#Emparejamiento posicional de argumentos\n",
    "saludar_persona(\"Buen día\", \"Juan\")\n",
    "saludar_persona(\"Roberto\", \"hola\") #Oops?\n",
    "\n",
    "#Emparejamiento de argumentos nombre=valor\n",
    "saludar_persona(persona=\"Roberto\", saludo=\"hola\")"
   ]
  },
  {
   "cell_type": "code",
   "execution_count": 10,
   "metadata": {},
   "outputs": [
    {
     "name": "stdout",
     "output_type": "stream",
     "text": [
      "\n",
      "Buen Dia, estimado Roberto.\n",
      "None\n",
      "\n",
      "Hola, estimado Roberto.\n",
      "None\n",
      "\n",
      "Hola, estimado Roberto.\n",
      "None\n"
     ]
    }
   ],
   "source": [
    "#Declaración: parametros por defecto\n",
    "# def saludar_persona(saludo=\"hola\", persona):\n",
    "#     print(f\"\\n{saludo.title()}, estimado {persona}.\")\n",
    "\n",
    "def saludar_persona(persona, saludo=\"hola\"):\n",
    "    print(f\"\\n{saludo.title()}, estimado {persona}.\")\n",
    "    \n",
    "print(saludar_persona(\"Roberto\", \"buen dia\"))\n",
    "print(saludar_persona(\"Roberto\"))\n",
    "saludo = saludar_persona(\"Roberto\", saludo=\"hola\")\n",
    "print(saludo)"
   ]
  },
  {
   "cell_type": "code",
   "execution_count": 5,
   "metadata": {},
   "outputs": [
    {
     "ename": "SyntaxError",
     "evalue": "non-default argument follows default argument (Temp/ipykernel_12848/1570153991.py, line 1)",
     "output_type": "error",
     "traceback": [
      "\u001b[1;36m  File \u001b[1;32m\"C:\\Users\\Marcelo\\AppData\\Local\\Temp/ipykernel_12848/1570153991.py\"\u001b[1;36m, line \u001b[1;32m1\u001b[0m\n\u001b[1;33m    def saludar_persona(saludo=\"hola\", persona):\u001b[0m\n\u001b[1;37m                        ^\u001b[0m\n\u001b[1;31mSyntaxError\u001b[0m\u001b[1;31m:\u001b[0m non-default argument follows default argument\n"
     ]
    }
   ],
   "source": [
    "def saludar_persona(saludo=\"hola\", persona):\n",
    "    print(f\"\\n{saludo.title()}, estimado {persona}.\")\n",
    "    \n",
    "print(saludar_persona(\"Roberto\", \"buen dia\"))\n",
    "print(saludar_persona(\"Roberto\"))"
   ]
  },
  {
   "cell_type": "code",
   "execution_count": 8,
   "metadata": {},
   "outputs": [
    {
     "name": "stdout",
     "output_type": "stream",
     "text": [
      "\n",
      "Hola, estimado Roberto.\n"
     ]
    }
   ],
   "source": [
    "#return\n",
    "def saludar_persona( persona, saludo=\"hola\"):\n",
    "    return f\"\\n{saludo.title()}, estimado {persona}.\"\n",
    "\n",
    "saludo = saludar_persona(\"Roberto\")\n",
    "print(saludo)"
   ]
  },
  {
   "cell_type": "markdown",
   "metadata": {},
   "source": [
    "### Número variable de parámetros (emplea paso posicional)\n",
    "- __[\"Any formal parameters which occur after the *args parameter are ‘keyword-only’ arguments\"](https://docs.python.org/3/tutorial/controlflow.html#arbitrary-argument-lists)__\n",
    "- __[Riesgos del uso de número variable de parámetros](https://www.informit.com/articles/article.aspx?p=2314818)__ \n",
    "    - The second issue with *args is that you can’t add new positional arguments to your function in the future without migrating every caller\n",
    "- __[Python Type Hinting](https://medium.com/depurr/python-type-hinting-a7afe4a5637e)__"
   ]
  },
  {
   "cell_type": "code",
   "execution_count": 1,
   "metadata": {},
   "outputs": [
    {
     "name": "stdout",
     "output_type": "stream",
     "text": [
      "('Hugo', 'Paco')\n",
      "\n",
      "Buenas Noches, estimado Hugo.\n",
      "\n",
      "Buenas Noches, estimado Paco.\n"
     ]
    }
   ],
   "source": [
    "#def saludar_personas(*saludo, *personas): #Error, invalid syntax  \n",
    "def saludar_personas(saludo: str, *personas: str ):\n",
    "    print(personas);\n",
    "    for persona in personas:\n",
    "        print(f\"\\n{saludo.title()}, estimado {persona}.\")\n",
    "\n",
    "saludar_personas(\"buenas noches\", \"Hugo\", \"Paco\")"
   ]
  },
  {
   "cell_type": "code",
   "execution_count": 9,
   "metadata": {},
   "outputs": [
    {
     "name": "stdout",
     "output_type": "stream",
     "text": [
      "La Paz,3600\n",
      "('La Paz', 3600)\n"
     ]
    },
    {
     "data": {
      "text/plain": [
       "tuple"
      ]
     },
     "execution_count": 9,
     "metadata": {},
     "output_type": "execute_result"
    }
   ],
   "source": [
    "#devolver más de un valor empleando tuplas\n",
    "from typing import List, Set, Dict, Tuple, Optional\n",
    "\n",
    "#def obtener_datos():\n",
    "def obtener_datos() -> Tuple[str, int]:\n",
    "    return \"La Paz\", 3600\n",
    "\n",
    "ciudad, altura = obtener_datos()\n",
    "print(ciudad, altura, sep=\",\")\n",
    "valor = obtener_datos()\n",
    "print(valor)\n",
    "type(obtener_datos())"
   ]
  },
  {
   "cell_type": "markdown",
   "metadata": {},
   "source": [
    "### Empaquetado y desempaquedato de parámetros\n",
    "- __[Packing and Unpacking Arguments in Python](http://hangar.runway7.net/python/packing-unpacking-arguments)__"
   ]
  },
  {
   "cell_type": "code",
   "execution_count": 2,
   "metadata": {
    "scrolled": true
   },
   "outputs": [
    {
     "name": "stdout",
     "output_type": "stream",
     "text": [
      "{'universidad': 'princeton', 'campo': 'fisica'}\n",
      "{'universidad': 'princeton', 'campo': 'fisica', 'nombre': 'albert', 'apellido': 'einstein'}\n"
     ]
    }
   ],
   "source": [
    "#Cómo funciona **?\n",
    "def construir_perfil(nombre, apellido, **datos):\n",
    "    print(datos)\n",
    "    datos[\"nombre\"] = nombre\n",
    "    datos[\"apellido\"] = apellido\n",
    "    return datos\n",
    "\n",
    "perfil = construir_perfil(\"albert\", \"einstein\", universidad=\"princeton\", campo='fisica')\n",
    "datos = {\"universidad\":\"princeton\", \"campo\":'fisica'}\n",
    "perfil = construir_perfil(\"albert\", \"einstein\", **datos)\n",
    "perfil = construir_perfil(\"albert\", \"einstein\", universidad=\"princeton\", campo='fisica' )\n",
    "print(perfil)"
   ]
  },
  {
   "cell_type": "code",
   "execution_count": null,
   "metadata": {},
   "outputs": [],
   "source": [
    "def ejemplo(param1, *param) # ya se ha comenzado a usar\n",
    "\n",
    "def ejemplo(param1, param2, *param)"
   ]
  },
  {
   "cell_type": "markdown",
   "metadata": {},
   "source": [
    "### Ventajas y deventajas?\n",
    "\n",
    "Analizaremos \n",
    "- número variable de parámetros \n",
    "    - pueden dificultar el mantenimiento\n",
    "    - se deben usar cuando el valor sea una colección\n",
    "- parámetros con valores por defecto.\n",
    "    - facilitan mucho el mantenimiento/extensión de funciones\n",
    "\n",
    "\n",
    "Extender una función si el lenguaje no soporta parámetros con valores por defecto:\n",
    "\n",
    "```\n",
    "def saludar_persona( persona, saludo):\n",
    "    saludar_persona( persona, saludo, \",\")\n",
    "    \n",
    "    \n",
    "def saludar_persona( persona, saludo, separador):\n",
    "    # usar separador\n",
    "    print(f\"\\n{saludo.title()}, estimado {persona}.\")\n",
    "```"
   ]
  },
  {
   "cell_type": "markdown",
   "metadata": {},
   "source": [
    "# Módulos"
   ]
  },
  {
   "cell_type": "code",
   "execution_count": 1,
   "metadata": {},
   "outputs": [
    {
     "name": "stdout",
     "output_type": "stream",
     "text": [
      "5\n",
      "-1\n",
      "-1\n",
      "5\n"
     ]
    }
   ],
   "source": [
    "import aritmetica\n",
    "from aritmetica import resta #from module_name import function_0, function_1, function_2\n",
    "from aritmetica import resta as sustraccion\n",
    "import aritmetica as operacion\n",
    "\n",
    "print(aritmetica.suma(2,3))\n",
    "print(resta(2,3))\n",
    "print(sustraccion(2,3))\n",
    "print(operacion.suma(2,3))"
   ]
  },
  {
   "cell_type": "code",
   "execution_count": 2,
   "metadata": {},
   "outputs": [
    {
     "name": "stdout",
     "output_type": "stream",
     "text": [
      "17\n",
      "11\n"
     ]
    }
   ],
   "source": [
    "from aritmetica import *\n",
    "#from aritmetica import suma, resta\n",
    "\n",
    "print(suma(16, 1))\n",
    "print(resta(12, 1))"
   ]
  },
  {
   "cell_type": "code",
   "execution_count": 3,
   "metadata": {},
   "outputs": [
    {
     "data": {
      "text/plain": [
       "['C:\\\\dev\\\\SIS225\\\\01_python\\\\sesion_03',\n",
       " 'C:\\\\Users\\\\Marcelo\\\\anaconda3\\\\python38.zip',\n",
       " 'C:\\\\Users\\\\Marcelo\\\\anaconda3\\\\DLLs',\n",
       " 'C:\\\\Users\\\\Marcelo\\\\anaconda3\\\\lib',\n",
       " 'C:\\\\Users\\\\Marcelo\\\\anaconda3',\n",
       " '',\n",
       " 'C:\\\\Users\\\\Marcelo\\\\anaconda3\\\\lib\\\\site-packages',\n",
       " 'C:\\\\Users\\\\Marcelo\\\\anaconda3\\\\lib\\\\site-packages\\\\win32',\n",
       " 'C:\\\\Users\\\\Marcelo\\\\anaconda3\\\\lib\\\\site-packages\\\\win32\\\\lib',\n",
       " 'C:\\\\Users\\\\Marcelo\\\\anaconda3\\\\lib\\\\site-packages\\\\Pythonwin']"
      ]
     },
     "execution_count": 3,
     "metadata": {},
     "output_type": "execute_result"
    }
   ],
   "source": [
    "#Las ubicaciones en las que se instalan y buscan los módulos en python\n",
    "import sys\n",
    "sys.path"
   ]
  },
  {
   "cell_type": "code",
   "execution_count": 4,
   "metadata": {},
   "outputs": [
    {
     "name": "stdout",
     "output_type": "stream",
     "text": [
      "Python 3.8.13\n"
     ]
    }
   ],
   "source": [
    "!python --version"
   ]
  },
  {
   "cell_type": "code",
   "execution_count": 5,
   "metadata": {},
   "outputs": [
    {
     "name": "stdout",
     "output_type": "stream",
     "text": [
      "Ejecutado como un script de Python con args > ['C:\\\\dev\\\\SIS225\\\\01_python\\\\sesion_03\\\\aritmetica.py', 'arg1,', 'arg2']\n"
     ]
    }
   ],
   "source": [
    "!python -m aritmetica arg1, arg2"
   ]
  },
  {
   "cell_type": "markdown",
   "metadata": {},
   "source": [
    "**Instalar módulos/paquetes desde el [Python Package Index (PyPI)](https://pypi.org/)**\n",
    "\n",
    "- ```pip install <nombre-paquete>```\n",
    "- ```pip install -U <nombre-paquete>```\n",
    "- ```pip install -r requirements.txt```\n",
    "- ```pip show <nombre-paquete>```\n",
    "- ```pip help <nombre-comando>```\n",
    "- ```pip uninstall <nombre-paquete>```\n",
    "- ```pip list grep <nombre-paquete> - MaxOS | pip list findStr \"<nombre-paquete>\" - Windows```"
   ]
  },
  {
   "cell_type": "code",
   "execution_count": 2,
   "metadata": {},
   "outputs": [
    {
     "name": "stdout",
     "output_type": "stream",
     "text": [
      "Name: requests\r\n",
      "Version: 2.24.0\r\n",
      "Summary: Python HTTP for Humans.\r\n",
      "Home-page: https://requests.readthedocs.io\r\n",
      "Author: Kenneth Reitz\r\n",
      "Author-email: me@kennethreitz.org\r\n",
      "License: Apache 2.0\r\n",
      "Location: /Users/marcelo/opt/anaconda3/lib/python3.8/site-packages\r\n",
      "Requires: certifi, idna, urllib3, chardet\r\n",
      "Required-by: Sphinx, smart-open, jupyterlab-server, google-cloud-storage, google-api-core, conda, conda-build, anaconda-project, anaconda-client\r\n"
     ]
    }
   ],
   "source": [
    "#Mostrar dónde está instalado un módulo\n",
    "!pip show requests"
   ]
  },
  {
   "cell_type": "code",
   "execution_count": 3,
   "metadata": {},
   "outputs": [
    {
     "name": "stdout",
     "output_type": "stream",
     "text": [
      "\r\n",
      "Usage:   \r\n",
      "  pip install [options] <requirement specifier> [package-index-options] ...\r\n",
      "  pip install [options] -r <requirements file> [package-index-options] ...\r\n",
      "  pip install [options] [-e] <vcs project url> ...\r\n",
      "  pip install [options] [-e] <local project path> ...\r\n",
      "  pip install [options] <archive url/path> ...\r\n",
      "\r\n",
      "Description:\r\n",
      "  Install packages from:\r\n",
      "  \r\n",
      "  - PyPI (and other indexes) using requirement specifiers.\r\n",
      "  - VCS project urls.\r\n",
      "  - Local project directories.\r\n",
      "  - Local or remote source archives.\r\n",
      "  \r\n",
      "  pip also supports installing from \"requirements files\", which provide\r\n",
      "  an easy way to specify a whole environment to be installed.\r\n",
      "\r\n",
      "Install Options:\r\n",
      "  -r, --requirement <file>    Install from the given requirements file. This\r\n",
      "                              option can be used multiple times.\r\n",
      "  -c, --constraint <file>     Constrain versions using the given constraints\r\n",
      "                              file. This option can be used multiple times.\r\n",
      "  --no-deps                   Don't install package dependencies.\r\n",
      "  --pre                       Include pre-release and development versions. By\r\n",
      "                              default, pip only finds stable versions.\r\n",
      "  -e, --editable <path/url>   Install a project in editable mode (i.e.\r\n",
      "                              setuptools \"develop mode\") from a local project\r\n",
      "                              path or a VCS url.\r\n",
      "  -t, --target <dir>          Install packages into <dir>. By default this\r\n",
      "                              will not replace existing files/folders in\r\n",
      "                              <dir>. Use --upgrade to replace existing\r\n",
      "                              packages in <dir> with new versions.\r\n",
      "  --platform <platform>       Only use wheels compatible with <platform>.\r\n",
      "                              Defaults to the platform of the running system.\r\n",
      "  --python-version <python_version>\r\n",
      "                              The Python interpreter version to use for wheel\r\n",
      "                              and \"Requires-Python\" compatibility checks.\r\n",
      "                              Defaults to a version derived from the running\r\n",
      "                              interpreter. The version can be specified using\r\n",
      "                              up to three dot-separated integers (e.g. \"3\" for\r\n",
      "                              3.0.0, \"3.7\" for 3.7.0, or \"3.7.3\"). A major-\r\n",
      "                              minor version can also be given as a string\r\n",
      "                              without dots (e.g. \"37\" for 3.7.0).\r\n",
      "  --implementation <implementation>\r\n",
      "                              Only use wheels compatible with Python\r\n",
      "                              implementation <implementation>, e.g. 'pp',\r\n",
      "                              'jy', 'cp',  or 'ip'. If not specified, then the\r\n",
      "                              current interpreter implementation is used.  Use\r\n",
      "                              'py' to force implementation-agnostic wheels.\r\n",
      "  --abi <abi>                 Only use wheels compatible with Python abi\r\n",
      "                              <abi>, e.g. 'pypy_41'.  If not specified, then\r\n",
      "                              the current interpreter abi tag is used.\r\n",
      "                              Generally you will need to specify\r\n",
      "                              --implementation, --platform, and --python-\r\n",
      "                              version when using this option.\r\n",
      "  --user                      Install to the Python user install directory for\r\n",
      "                              your platform. Typically ~/.local/, or\r\n",
      "                              %APPDATA%\\Python on Windows. (See the Python\r\n",
      "                              documentation for site.USER_BASE for full\r\n",
      "                              details.)\r\n",
      "  --root <dir>                Install everything relative to this alternate\r\n",
      "                              root directory.\r\n",
      "  --prefix <dir>              Installation prefix where lib, bin and other\r\n",
      "                              top-level folders are placed\r\n",
      "  -b, --build <dir>           (DEPRECATED) Directory to unpack packages into\r\n",
      "                              and build in. Note that an initial build still\r\n",
      "                              takes place in a temporary directory. The\r\n",
      "                              location of temporary directories can be\r\n",
      "                              controlled by setting the TMPDIR environment\r\n",
      "                              variable (TEMP on Windows) appropriately. When\r\n",
      "                              passed, build directories are not cleaned in\r\n",
      "                              case of failures.\r\n",
      "  --src <dir>                 Directory to check out editable projects into.\r\n",
      "                              The default in a virtualenv is \"<venv\r\n",
      "                              path>/src\". The default for global installs is\r\n",
      "                              \"<current dir>/src\".\r\n",
      "  -U, --upgrade               Upgrade all specified packages to the newest\r\n",
      "                              available version. The handling of dependencies\r\n",
      "                              depends on the upgrade-strategy used.\r\n",
      "  --upgrade-strategy <upgrade_strategy>\r\n",
      "                              Determines how dependency upgrading should be\r\n",
      "                              handled [default: only-if-needed]. \"eager\" -\r\n",
      "                              dependencies are upgraded regardless of whether\r\n",
      "                              the currently installed version satisfies the\r\n",
      "                              requirements of the upgraded package(s). \"only-\r\n",
      "                              if-needed\" -  are upgraded only when they do not\r\n",
      "                              satisfy the requirements of the upgraded\r\n",
      "                              package(s).\r\n",
      "  --force-reinstall           Reinstall all packages even if they are already\r\n",
      "                              up-to-date.\r\n",
      "  -I, --ignore-installed      Ignore the installed packages, overwriting them.\r\n",
      "                              This can break your system if the existing\r\n",
      "                              package is of a different version or was\r\n",
      "                              installed with a different package manager!\r\n",
      "  --ignore-requires-python    Ignore the Requires-Python information.\r\n",
      "  --no-build-isolation        Disable isolation when building a modern source\r\n",
      "                              distribution. Build dependencies specified by\r\n",
      "                              PEP 518 must be already installed if this option\r\n",
      "                              is used.\r\n",
      "  --use-pep517                Use PEP 517 for building source distributions\r\n",
      "                              (use --no-use-pep517 to force legacy behaviour).\r\n",
      "  --install-option <options>  Extra arguments to be supplied to the setup.py\r\n",
      "                              install command (use like --install-option=\"--\r\n",
      "                              install-scripts=/usr/local/bin\"). Use multiple\r\n",
      "                              --install-option options to pass multiple\r\n",
      "                              options to setup.py install. If you are using an\r\n",
      "                              option with a directory path, be sure to use\r\n",
      "                              absolute path.\r\n",
      "  --global-option <options>   Extra global options to be supplied to the\r\n",
      "                              setup.py call before the install command.\r\n",
      "  --compile                   Compile Python source files to bytecode\r\n",
      "  --no-compile                Do not compile Python source files to bytecode\r\n",
      "  --no-warn-script-location   Do not warn when installing scripts outside PATH\r\n",
      "  --no-warn-conflicts         Do not warn about broken dependencies\r\n",
      "  --no-binary <format_control>\r\n",
      "                              Do not use binary packages. Can be supplied\r\n",
      "                              multiple times, and each time adds to the\r\n",
      "                              existing value. Accepts either \":all:\" to\r\n",
      "                              disable all binary packages, \":none:\" to empty\r\n",
      "                              the set (notice the colons), or one or more\r\n",
      "                              package names with commas between them (no\r\n",
      "                              colons). Note that some packages are tricky to\r\n",
      "                              compile and may fail to install when this option\r\n",
      "                              is used on them.\r\n",
      "  --only-binary <format_control>\r\n",
      "                              Do not use source packages. Can be supplied\r\n",
      "                              multiple times, and each time adds to the\r\n",
      "                              existing value. Accepts either \":all:\" to\r\n",
      "                              disable all source packages, \":none:\" to empty\r\n",
      "                              the set, or one or more package names with\r\n",
      "                              commas between them. Packages without binary\r\n",
      "                              distributions will fail to install when this\r\n",
      "                              option is used on them.\r\n",
      "  --prefer-binary             Prefer older binary packages over newer source\r\n",
      "                              packages.\r\n",
      "  --require-hashes            Require a hash to check each requirement\r\n",
      "                              against, for repeatable installs. This option is\r\n",
      "                              implied when any package in a requirements file\r\n",
      "                              has a --hash option.\r\n",
      "  --progress-bar <progress_bar>\r\n",
      "                              Specify type of progress to be displayed\r\n",
      "                              [off|on|ascii|pretty|emoji] (default: on)\r\n",
      "  --no-clean                  Don't clean up build directories.\r\n",
      "\r\n",
      "Package Index Options:\r\n",
      "  -i, --index-url <url>       Base URL of the Python Package Index (default\r\n",
      "                              https://pypi.org/simple). This should point to a\r\n",
      "                              repository compliant with PEP 503 (the simple\r\n",
      "                              repository API) or a local directory laid out in\r\n",
      "                              the same format.\r\n",
      "  --extra-index-url <url>     Extra URLs of package indexes to use in addition\r\n",
      "                              to --index-url. Should follow the same rules as\r\n",
      "                              --index-url.\r\n",
      "  --no-index                  Ignore package index (only looking at --find-\r\n",
      "                              links URLs instead).\r\n",
      "  -f, --find-links <url>      If a URL or path to an html file, then parse for\r\n",
      "                              links to archives such as sdist (.tar.gz) or\r\n",
      "                              wheel (.whl) files. If a local path or file://\r\n",
      "                              URL that's a directory,  then look for archives\r\n",
      "                              in the directory listing. Links to VCS project\r\n",
      "                              URLs are not supported.\r\n",
      "\r\n",
      "General Options:\r\n",
      "  -h, --help                  Show help.\r\n",
      "  --isolated                  Run pip in an isolated mode, ignoring\r\n",
      "                              environment variables and user configuration.\r\n",
      "  -v, --verbose               Give more output. Option is additive, and can be\r\n",
      "                              used up to 3 times.\r\n",
      "  -V, --version               Show version and exit.\r\n",
      "  -q, --quiet                 Give less output. Option is additive, and can be\r\n",
      "                              used up to 3 times (corresponding to WARNING,\r\n",
      "                              ERROR, and CRITICAL logging levels).\r\n",
      "  --log <path>                Path to a verbose appending log.\r\n",
      "  --no-input                  Disable prompting for input.\r\n",
      "  --proxy <proxy>             Specify a proxy in the form\r\n",
      "                              [user:passwd@]proxy.server:port.\r\n",
      "  --retries <retries>         Maximum number of retries each connection should\r\n",
      "                              attempt (default 5 times).\r\n",
      "  --timeout <sec>             Set the socket timeout (default 15 seconds).\r\n",
      "  --exists-action <action>    Default action when a path already exists:\r\n",
      "                              (s)witch, (i)gnore, (w)ipe, (b)ackup, (a)bort.\r\n",
      "  --trusted-host <hostname>   Mark this host or host:port pair as trusted,\r\n",
      "                              even though it does not have valid or any HTTPS.\r\n",
      "  --cert <path>               Path to alternate CA bundle.\r\n",
      "  --client-cert <path>        Path to SSL client certificate, a single file\r\n",
      "                              containing the private key and the certificate\r\n",
      "                              in PEM format.\r\n",
      "  --cache-dir <dir>           Store the cache data in <dir>.\r\n",
      "  --no-cache-dir              Disable the cache.\r\n",
      "  --disable-pip-version-check\r\n",
      "                              Don't periodically check PyPI to determine\r\n",
      "                              whether a new version of pip is available for\r\n",
      "                              download. Implied with --no-index.\r\n",
      "  --no-color                  Suppress colored output\r\n",
      "  --no-python-version-warning\r\n",
      "                              Silence deprecation warnings for upcoming\r\n",
      "                              unsupported Pythons.\r\n",
      "  --use-feature <feature>     Enable new functionality, that may be backward\r\n",
      "                              incompatible.\r\n",
      "  --use-deprecated <feature>  Enable deprecated functionality, that will be\r\n",
      "                              removed in the future.\r\n"
     ]
    }
   ],
   "source": [
    "!pip help install"
   ]
  },
  {
   "cell_type": "markdown",
   "metadata": {},
   "source": [
    "## Referencias\n",
    "\n",
    "- __[Getting started with conda](https://conda.io/projects/conda/en/latest/user-guide/getting-started.html)__\n",
    "- __[pip - The Python Package Installer](https://pip.pypa.io/en/stable/)__\n",
    "- __[Command–query separation](https://es.wikipedia.org/wiki/Command%E2%80%93query_separation)__\n",
    "- __[Buenas Prácticas de Programación (Parte 1 de 2)](http://mindwaresrl.com/2015/07/30/buenas-practicas-de-programacion-parte-1-de-2/)__\n",
    "- __[Clean Code - Functions](https://www.todaysoftmag.com/article/1071/clean-code-functions)__\n",
    "- __[Null object pattern](https://en.wikipedia.org/wiki/Null_object_pattern)__\n",
    "- __[The Python Standard Library](https://docs.python.org/3/library/)__\n",
    "- __[Python import: Advanced Techniques and Tips](https://realpython.com/python-import/)__\n",
    "- __[Effective Python, 2nd Edition](https://www.amazon.com/Effective-Python-Specific-Software-Development-dp-0134853989/dp/0134853989/)__"
   ]
  },
  {
   "cell_type": "markdown",
   "metadata": {},
   "source": [
    "# Entornos virtuales\n",
    "\n",
    "En entorno virtual es un área/contexto que tiene asociado un nombre y una versión de Python.\n",
    "\n",
    "Es la manera recomedada para seleccionar la versión de Python y los paquetes necesarios para trabajar en un proyecto basado en Python. Gracias a los entornos virtuales: \n",
    "\n",
    "- varios proyectos pueden emplear versiones diferentes de los mismos paquetes. De esta manera se evita que los paquetes instalados para un proyecto modifiquen las versiones de los mismos paquetes empleados por otro proyecto.\n",
    "- el mismo proyecto puede desarrollarse con versiones diferentes de los mismos paquetes.\n",
    "- evita tener que modificar la versión de Python instalada a nivel del sistema operativo (usualmente Linux) de la cual podrían depender scripts de administración del sistema.\n",
    "\n",
    "Existen varias herramientas para crear entornos virtuales en Python: ```virtualenv```, ```pipenv``` y ```conda``. En este curso se emplea ```conda```."
   ]
  },
  {
   "cell_type": "markdown",
   "metadata": {},
   "source": [
    "- ```conda create --name <nombre_entorno> python=<version_python>```\n",
    "    - ```conda create -n my_proyecto python=3.8```\n",
    "- ```conda create --no-default-packages -n <nombre_entorno> python=<version_python>```\n",
    "- ```conda activate <nombre_entorno>```\n",
    "- ```conda env list```\n",
    "- ```conda env export > environment.yml```\n",
    "- ```conda env create -f environment.yml``` \n",
    "- ```conda env remove --name myenv```"
   ]
  },
  {
   "cell_type": "markdown",
   "metadata": {},
   "source": [
    "Pueden surgir problemas al [usar pip y conda juntos](https://docs.conda.io/projects/conda/en/latest/user-guide/tasks/manage-environments.html#using-pip-in-an-environment). \n",
    "\n",
    "Se recomienda que **Solo después de haber usado conda para instalar tantos paquetes como sea posible, se use pip para instalar cualquier software restante**. Si se necesitan modificaciones en el entorno, es mejor crear un nuevo entorno en lugar de ejecutar conda tras pip. Cuando sea apropiado, los requisitos de conda y pip deben almacenarse en archivos de texto.\n",
    "\n",
    "```\n",
    "conda install -n myenv python=<version_python> pip\n",
    "conda activate myenv\n",
    "conda install <lista de paquetes>\n",
    "conda env export > environment.yml\n",
    "pip install <lista de paquetes>\n",
    "pip freeze > requirements. txt\n",
    "```"
   ]
  },
  {
   "cell_type": "markdown",
   "metadata": {},
   "source": [
    "## Referencias\n",
    "\n",
    "- __[Pipenv vs virtualenv vs conda environment](https://medium.com/@krishnaregmi/pipenv-vs-virtualenv-vs-conda-environment-3dde3f6869ed)__\n",
    "- __[Managing environments -  Conda](https://docs.conda.io/projects/conda/en/latest/user-guide/tasks/manage-environments.html)__"
   ]
  },
  {
   "cell_type": "markdown",
   "metadata": {},
   "source": [
    "# Programación funcional"
   ]
  },
  {
   "cell_type": "markdown",
   "metadata": {},
   "source": [
    "## Las funciones son un tipo de dato\n",
    "__[Functions](https://docs.python.org/3/library/stdtypes.html#functions)__"
   ]
  },
  {
   "cell_type": "code",
   "execution_count": 7,
   "metadata": {},
   "outputs": [
    {
     "name": "stdout",
     "output_type": "stream",
     "text": [
      "<class 'function'>\n",
      "SIS225\n"
     ]
    }
   ],
   "source": [
    "def eco(mensaje):\n",
    "    print(mensaje)\n",
    "\n",
    "print(type(eco))\n",
    "eco(\"SIS225\")"
   ]
  },
  {
   "cell_type": "code",
   "execution_count": 8,
   "metadata": {},
   "outputs": [
    {
     "name": "stdout",
     "output_type": "stream",
     "text": [
      "True\n",
      "SIS225\n"
     ]
    }
   ],
   "source": [
    "echo = eco\n",
    "print(echo == eco)\n",
    "echo(\"SIS225\")"
   ]
  },
  {
   "cell_type": "code",
   "execution_count": 9,
   "metadata": {},
   "outputs": [
    {
     "name": "stdout",
     "output_type": "stream",
     "text": [
      "SIS225\n"
     ]
    }
   ],
   "source": [
    "def llamar_funcion(func, *args):\n",
    "    func(*args)\n",
    "    \n",
    "llamar_funcion(echo, \"SIS225\")"
   ]
  },
  {
   "cell_type": "code",
   "execution_count": 10,
   "metadata": {},
   "outputs": [
    {
     "name": "stdout",
     "output_type": "stream",
     "text": [
      "<function crear_eco_con_prefijo.<locals>.eco at 0x00000224C7633D30>\n",
      "hola:Juan\n",
      "hola:Pedro\n"
     ]
    }
   ],
   "source": [
    "def crear_eco_con_prefijo(prefijo):\n",
    "    def eco(mensaje):\n",
    "        # prefijo es accesible desde eco\n",
    "        print(f\"{prefijo}:{mensaje}\")\n",
    "        \n",
    "    return eco\n",
    "\n",
    "eco_con_hola = crear_eco_con_prefijo(\"hola\")\n",
    "print(eco_con_hola)\n",
    "\n",
    "eco_con_hola(\"Juan\")\n",
    "\n",
    "crear_eco_con_prefijo(\"hola\")(\"Pedro\")"
   ]
  },
  {
   "cell_type": "markdown",
   "metadata": {},
   "source": [
    "## Funciones sin nombre (lambdas)\n",
    "__[Expresiones lambda](https://docs.python.org/3/tutorial/controlflow.html#lambda-expressions)__"
   ]
  },
  {
   "cell_type": "code",
   "execution_count": 6,
   "metadata": {},
   "outputs": [
    {
     "name": "stdout",
     "output_type": "stream",
     "text": [
      "<class 'function'>\n",
      "hola\n"
     ]
    }
   ],
   "source": [
    "#Expresiones que retornan una función\n",
    "#lambda arg1, arg2,..argN : <expresión> #en la misma una línea de código\n",
    "\n",
    "#def eco_1(mensaje):\n",
    "#    print(mensaje)\n",
    "\n",
    "eco_1 = lambda mensaje: print(mensaje)\n",
    "\n",
    "#Nop :(\n",
    "#eco_1 = lambda mensaje : \n",
    "#    print(mensaje)\n",
    "print(type(eco_1))\n",
    "eco_1(\"hola\")"
   ]
  },
  {
   "cell_type": "code",
   "execution_count": 7,
   "metadata": {},
   "outputs": [
    {
     "data": {
      "text/plain": [
       "6"
      ]
     },
     "execution_count": 7,
     "metadata": {},
     "output_type": "execute_result"
    }
   ],
   "source": [
    "#def doble(numero):\n",
    "#    return numero * 2\n",
    "\n",
    "doble = lambda numero: numero * 2\n",
    "\n",
    "doble(3)"
   ]
  },
  {
   "cell_type": "markdown",
   "metadata": {},
   "source": [
    "## Parametrización por valor"
   ]
  },
  {
   "cell_type": "code",
   "execution_count": 11,
   "metadata": {},
   "outputs": [],
   "source": [
    "automoviles = [\n",
    "    {\"marca\":\"Ford\"\n",
    "     ,\"color\":\"rojo\"\n",
    "     ,\"procedencia\":\"USA\"\n",
    "    }\n",
    "    ,{\"marca\":\"Audi\"\n",
    "     ,\"color\":\"blanco\"\n",
    "     ,\"procedencia\":\"Alemania\"\n",
    "    }\n",
    "    ,{\"marca\":\"Fiat\"\n",
    "     ,\"color\":\"negro\"\n",
    "     ,\"procedencia\":\"Italia\"\n",
    "    }\n",
    "    ,{\"marca\":\"Renault\"\n",
    "     ,\"color\":\"negro\"\n",
    "     ,\"procedencia\":\"Francia\"\n",
    "    }\n",
    "    ,{\"marca\":\"Chevrolet \"\n",
    "     ,\"color\":\"azul\"\n",
    "     ,\"procedencia\":\"USA\"\n",
    "    }\n",
    "]"
   ]
  },
  {
   "cell_type": "code",
   "execution_count": 12,
   "metadata": {},
   "outputs": [
    {
     "data": {
      "text/plain": [
       "[{'marca': 'Fiat', 'color': 'negro', 'procedencia': 'Italia'},\n",
       " {'marca': 'Renault', 'color': 'negro', 'procedencia': 'Francia'}]"
      ]
     },
     "execution_count": 12,
     "metadata": {},
     "output_type": "execute_result"
    }
   ],
   "source": [
    "#obtener automoviles negros - #1\n",
    "def obtener_automoviles_negros(automoviles):\n",
    "    resultado = []\n",
    "    for automovil in automoviles:\n",
    "        if (automovil[\"color\"] == \"negro\"):\n",
    "            resultado.append(automovil)\n",
    "    return resultado\n",
    "\n",
    "obtener_automoviles_negros(automoviles)"
   ]
  },
  {
   "cell_type": "code",
   "execution_count": 13,
   "metadata": {},
   "outputs": [
    {
     "data": {
      "text/plain": [
       "[{'marca': 'Chevrolet ', 'color': 'azul', 'procedencia': 'USA'}]"
      ]
     },
     "execution_count": 13,
     "metadata": {},
     "output_type": "execute_result"
    }
   ],
   "source": [
    "#obtener automoviles azules - #2\n",
    "def obtener_automoviles(automoviles, color):\n",
    "    resultado = []\n",
    "    for automovil in automoviles:\n",
    "        if (automovil[\"color\"] == color):\n",
    "            resultado.append(automovil)\n",
    "    return resultado\n",
    "\n",
    "obtener_automoviles(automoviles, \"azul\")"
   ]
  },
  {
   "cell_type": "code",
   "execution_count": 10,
   "metadata": {},
   "outputs": [
    {
     "data": {
      "text/plain": [
       "[{'marca': 'Renault', 'color': 'negro', 'procedencia': 'Francia'}]"
      ]
     },
     "execution_count": 10,
     "metadata": {},
     "output_type": "execute_result"
    }
   ],
   "source": [
    "#obtener automoviles negros procendentes de Francia - #3\n",
    "def obtener_automoviles(automoviles, color, procedencia):\n",
    "    resultado = []\n",
    "    for automovil in automoviles:\n",
    "        if automovil[\"color\"] == color and automovil[\"procedencia\"] == procedencia:\n",
    "            resultado.append(automovil)\n",
    "    return resultado\n",
    "\n",
    "obtener_automoviles(automoviles, \"negro\", \"Francia\")"
   ]
  },
  {
   "cell_type": "code",
   "execution_count": 39,
   "metadata": {},
   "outputs": [],
   "source": [
    "#obtener automoviles negros procendentes de Francia o Italia\n",
    "# >:/"
   ]
  },
  {
   "cell_type": "markdown",
   "metadata": {},
   "source": [
    "## Parametrización por comportamiento"
   ]
  },
  {
   "cell_type": "code",
   "execution_count": 14,
   "metadata": {},
   "outputs": [
    {
     "data": {
      "text/plain": [
       "function"
      ]
     },
     "execution_count": 14,
     "metadata": {},
     "output_type": "execute_result"
    }
   ],
   "source": [
    "def auto_negro_italiano_o_frances(automovil):\n",
    "    return automovil[\"color\"] == \"negro\" and (automovil[\"procedencia\"] == \"Italia\" or automovil[\"procedencia\"] == \"Francia\")\n",
    "type(auto_negro_italiano_o_frances)"
   ]
  },
  {
   "cell_type": "code",
   "execution_count": 15,
   "metadata": {},
   "outputs": [
    {
     "data": {
      "text/plain": [
       "function"
      ]
     },
     "execution_count": 15,
     "metadata": {},
     "output_type": "execute_result"
    }
   ],
   "source": [
    "auto_negro_italiano_o_frances = lambda automovil : automovil[\"color\"] == \"negro\" and (automovil[\"procedencia\"] == \"Italia\" or automovil[\"procedencia\"] == \"Francia\")\n",
    "type(auto_negro_italiano_o_frances)"
   ]
  },
  {
   "cell_type": "code",
   "execution_count": 12,
   "metadata": {},
   "outputs": [
    {
     "data": {
      "text/plain": [
       "[{'marca': 'Fiat', 'color': 'negro', 'procedencia': 'Italia'},\n",
       " {'marca': 'Renault', 'color': 'negro', 'procedencia': 'Francia'}]"
      ]
     },
     "execution_count": 12,
     "metadata": {},
     "output_type": "execute_result"
    }
   ],
   "source": [
    "auto_negro_italiano_o_frances = lambda automovil : automovil[\"color\"] == \"negro\" and (automovil[\"procedencia\"] == \"Italia\" or automovil[\"procedencia\"] == \"Francia\")\n",
    "\n",
    "def obtener_automoviles_f(automoviles, criterio_seleccion):\n",
    "    resultado = []\n",
    "    for automovil in automoviles:\n",
    "        if criterio_seleccion(automovil) :\n",
    "            resultado.append(automovil)\n",
    "    return resultado\n",
    "\n",
    "obtener_automoviles_f(automoviles, auto_negro_italiano_o_frances)"
   ]
  },
  {
   "cell_type": "code",
   "execution_count": 13,
   "metadata": {},
   "outputs": [],
   "source": [
    "# Emplear obtener_automoviles_f para obtener los mismos resultados que las funciones 1, 2, 3"
   ]
  },
  {
   "cell_type": "code",
   "execution_count": null,
   "metadata": {},
   "outputs": [],
   "source": []
  },
  {
   "cell_type": "markdown",
   "metadata": {},
   "source": [
    "### map, filter and reduce in Python\n",
    "\n",
    "- __[map](https://docs.python.org/3.6/library/functions.html#map)__\n",
    "- __[filter](https://docs.python.org/3.6/library/functions.html#filter)__\n",
    "- __[reduce](https://docs.python.org/3.6/library/functools.html#functools.reduce)__"
   ]
  },
  {
   "cell_type": "code",
   "execution_count": 16,
   "metadata": {},
   "outputs": [
    {
     "name": "stdout",
     "output_type": "stream",
     "text": [
      "<class 'map'>\n"
     ]
    },
    {
     "data": {
      "text/plain": [
       "[2, 4, 6, 8]"
      ]
     },
     "execution_count": 16,
     "metadata": {},
     "output_type": "execute_result"
    }
   ],
   "source": [
    "dobles = map(lambda x : x*2, [1,2,3,4])\n",
    "print(type(dobles))\n",
    "list(dobles)"
   ]
  },
  {
   "cell_type": "code",
   "execution_count": 17,
   "metadata": {},
   "outputs": [
    {
     "data": {
      "text/plain": [
       "[4, 6, 6, 4]"
      ]
     },
     "execution_count": 17,
     "metadata": {},
     "output_type": "execute_result"
    }
   ],
   "source": [
    "productos = map(lambda x,y : x*y, [1,2,3,4],[4,3,2,1])\n",
    "list(productos)"
   ]
  },
  {
   "cell_type": "code",
   "execution_count": 18,
   "metadata": {},
   "outputs": [
    {
     "data": {
      "text/plain": [
       "[0, 2, 4, 6, 8, 10]"
      ]
     },
     "execution_count": 18,
     "metadata": {},
     "output_type": "execute_result"
    }
   ],
   "source": [
    "pares = filter(lambda x: x % 2 == 0, range(0,11))\n",
    "# pares = filter(lambda x: False, range(0,11))\n",
    "list(pares)"
   ]
  },
  {
   "cell_type": "code",
   "execution_count": 19,
   "metadata": {
    "scrolled": true
   },
   "outputs": [
    {
     "name": "stdout",
     "output_type": "stream",
     "text": [
      "<class 'int'>\n"
     ]
    },
    {
     "data": {
      "text/plain": [
       "15"
      ]
     },
     "execution_count": 19,
     "metadata": {},
     "output_type": "execute_result"
    }
   ],
   "source": [
    "#https://docs.python.org/3/library/functools.html#functools.reduce\n",
    "from functools import reduce\n",
    "\n",
    "#combina el resultado actual con el siguiente item de la lista\n",
    "suma = reduce(lambda x,y :  x + y, [1,2,3,4,5], 0)\n",
    "print(type(suma))\n",
    "suma"
   ]
  },
  {
   "cell_type": "code",
   "execution_count": 10,
   "metadata": {},
   "outputs": [
    {
     "data": {
      "text/plain": [
       "120"
      ]
     },
     "execution_count": 10,
     "metadata": {},
     "output_type": "execute_result"
    }
   ],
   "source": [
    "producto = reduce(lambda x,y :  x * y, [1,2,3,4,5], 1)\n",
    "producto"
   ]
  },
  {
   "cell_type": "code",
   "execution_count": 2,
   "metadata": {},
   "outputs": [],
   "source": []
  },
  {
   "cell_type": "code",
   "execution_count": 3,
   "metadata": {},
   "outputs": [
    {
     "data": {
      "text/plain": [
       "[{'marca': 'Fiat', 'color': 'negro', 'procedencia': 'Italia'},\n",
       " {'marca': 'Renault', 'color': 'negro', 'procedencia': 'Francia'}]"
      ]
     },
     "execution_count": 3,
     "metadata": {},
     "output_type": "execute_result"
    }
   ],
   "source": []
  },
  {
   "cell_type": "markdown",
   "metadata": {},
   "source": [
    "### Decorators\n",
    "\n",
    "Un decorador es esencialmente una función que le da funcionalidad adicional a la función que se le pasa como argumento.\n",
    "\n",
    "- __[Primer on Python Decorators](https://realpython.com/primer-on-python-decorators/)__\n",
    "- __[3 Essential Decorators in Python You Need To Know](https://betterprogramming.pub/3-essential-decorators-in-python-you-need-to-know-654650bd5c36)__"
   ]
  },
  {
   "cell_type": "markdown",
   "metadata": {},
   "source": [
    "## Concurrencia\n",
    "\n",
    "\n",
    "La concurrencia puede marcar una gran diferencia para dos tipos de problemas:\n",
    "\n",
    "- *Vinculados a la CPU (CPU-bound)*. Un programa está vinculado a la CPU si iría más rápido si la CPU fuera más rápida, es decir, pasa la mayor parte de su tiempo simplemente usando la CPU (haciendo cálculos). Un programa que calcula nuevos dígitos de π generalmente estará enlazado a la CP\n",
    "\n",
    "- *Vinculado a la E/S (I/O-bound)*. Un programa está vinculado a E/S si iría más rápido si el subsistema de E/S fuera más rápido (disco, acceso a red). Un programa que busca datos en un archivo enorme podría estar vinculado a E/S, ya que el cuello de botella es la lectura de los datos del disco\n",
    "\n",
    "\n",
    "\n",
    "**Referencias**\n",
    "- __[Speed Up Your Python Program With Concurrency](https://realpython.com/python-concurrency/)__\n",
    "- __[Python Concurrency & Parallel Programming](https://realpython.com/learning-paths/python-concurrency-parallel-programming/)__"
   ]
  },
  {
   "cell_type": "markdown",
   "metadata": {},
   "source": []
  },
  {
   "cell_type": "markdown",
   "metadata": {},
   "source": [
    "## Ejercicio\n",
    "\n",
    "Completar la siguiente función"
   ]
  },
  {
   "cell_type": "code",
   "execution_count": 1,
   "metadata": {},
   "outputs": [],
   "source": [
    "from collections import Counter\n",
    "import numpy as np"
   ]
  },
  {
   "cell_type": "code",
   "execution_count": 7,
   "metadata": {},
   "outputs": [],
   "source": [
    "from asyncio.windows_events import NULL\n",
    "\n",
    "\n",
    "def majority_element_indexes(aList):\n",
    "    \"\"\"\n",
    "    Recibe: una lista.\n",
    "    Retorna: una lista de los índices del elemento mayoritario\n",
    "    \n",
    "    El elemento mayoritario es el elemento que aparece con una frecuencia mayor a floor(n/2)\n",
    "    donde n es el tamaño de la lista\n",
    "    \n",
    "    Si no hay un elemento mayoritario, retornar un lista vacía\n",
    "    \"\"\"\n",
    "    if len(aList)==0:\n",
    "        return NULL\n",
    "    num,tot = Counter(aList).most_common(1)[0]\n",
    "    #num, tot = count[0]\n",
    "    if (tot > len(aList)/2):\n",
    "       list= np.array(aList)\n",
    "       ListaNueva = np.where(list == num)\n",
    "    else:\n",
    "        return NULL\n",
    "    res = ListaNueva[0]\n",
    "    #print(res)\n",
    "    return res\n",
    "    \n",
    "    #pass"
   ]
  },
  {
   "cell_type": "code",
   "execution_count": 5,
   "metadata": {},
   "outputs": [
    {
     "name": "stdout",
     "output_type": "stream",
     "text": [
      "0\n"
     ]
    }
   ],
   "source": [
    "print(majority_element_indexes([]))\n",
    "\n"
   ]
  },
  {
   "cell_type": "code",
   "execution_count": 8,
   "metadata": {},
   "outputs": [
    {
     "data": {
      "text/plain": [
       "array([ True,  True])"
      ]
     },
     "execution_count": 8,
     "metadata": {},
     "output_type": "execute_result"
    }
   ],
   "source": [
    "majority_element_indexes([1,1,2]) == [0,1]"
   ]
  },
  {
   "cell_type": "code",
   "execution_count": 84,
   "metadata": {},
   "outputs": [
    {
     "data": {
      "text/plain": [
       "False"
      ]
     },
     "execution_count": 84,
     "metadata": {},
     "output_type": "execute_result"
    }
   ],
   "source": [
    "majority_element_indexes([1,2,3]) == []"
   ]
  },
  {
   "cell_type": "code",
   "execution_count": null,
   "metadata": {},
   "outputs": [],
   "source": []
  }
 ],
 "metadata": {
  "kernelspec": {
   "display_name": "Python 3.10.0 64-bit",
   "language": "python",
   "name": "python3"
  },
  "language_info": {
   "codemirror_mode": {
    "name": "ipython",
    "version": 3
   },
   "file_extension": ".py",
   "mimetype": "text/x-python",
   "name": "python",
   "nbconvert_exporter": "python",
   "pygments_lexer": "ipython3",
   "version": "3.10.0"
  },
  "vscode": {
   "interpreter": {
    "hash": "85c576d62e5a69baba7dcae6282c7bf6fba6f8d537c9cbb11ca984aece3c77a0"
   }
  }
 },
 "nbformat": 4,
 "nbformat_minor": 2
}
