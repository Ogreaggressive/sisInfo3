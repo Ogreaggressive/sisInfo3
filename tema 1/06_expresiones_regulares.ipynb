{
 "cells": [
  {
   "cell_type": "markdown",
   "id": "9e325849",
   "metadata": {},
   "source": [
    "# Expresiones regulares\n",
    "\n",
    "Las expresiones regulares son cadenas que definen un patrón que permite encontrar cadenas que emparejan dicho patrón. Algunas aplicaciones de las expresiones regulares son:\n",
    "\n",
    "- Validación de datos\n",
    "- Búsqueda y reemplazo\n",
    "- Extracción de datos de un texto"
   ]
  },
  {
   "cell_type": "markdown",
   "id": "d138de52",
   "metadata": {},
   "source": [
    "## Emparejamiento literal\n",
    "- ```ana```\n",
    "- ```Ana```"
   ]
  },
  {
   "cell_type": "markdown",
   "id": "e695e0f5",
   "metadata": {},
   "source": [
    "## Emparejamiento por clases y rangos\n",
    "- ```amig[oa]```\n",
    "- ```l[ao]```\n",
    "- ```[0-9][0-9]```\n",
    "- ```[a-z]```\n",
    "- ```[A-Z][A-Za-z]```\n",
    "- ```[^0-9]```\n",
    "- ```[AZ] = A|Z```"
   ]
  },
  {
   "cell_type": "markdown",
   "id": "d520fe76",
   "metadata": {},
   "source": [
    "## Meta caracteres\n",
    "\n",
    "Caracteres que representan clases: dígitos, espacios, palabras, etc.\n",
    "\n",
    "- ```.``` (Punto - cualquier caracter excepto los saltos de línea)\n",
    "- ```\\.``` - 'escapar' un meta caracter\n",
    "- ```\\w = [a-zA-Z0-9_]``` (word)\n",
    "- ```\\W```  (not word)\n",
    "- ```\\d``` (digit)\n",
    "- ```\\D``` (not digit)\n",
    "- ```\\s``` (space - \\t, \\r, \\n)\n",
    "- ```\\S``` (not space)"
   ]
  },
  {
   "cell_type": "markdown",
   "id": "bc4c1b47",
   "metadata": {},
   "source": [
    "## Anclaje de la búsqueda al principio o al final\n",
    "- ```^ - ^[EM]``` (al principio)\n",
    "- ```$ - \\.$``` (al final)\n",
    "- ```\\b - \\bp, s\\b``` (boundary)\n",
    "- ```\\B - \\Bp``` (not boundary)\n",
    "\n",
    "Probar con y sin modo **multine**."
   ]
  },
  {
   "cell_type": "markdown",
   "id": "4b9528c6",
   "metadata": {},
   "source": [
    "## Cuantificadores\n",
    "\n",
    "- ```*``` Cero o más repeticiones ```1\\d*```\n",
    "- ```+``` Uno o más repeticiones ```1\\d+```\n",
    "- ```?``` Cero o una repetición ```1\\d?```\n",
    "- ```{m,n}``` Entre ```m``` y ```n``` repeticiones```1\\d{1,3}```\n",
    "- ```{m,}``` Al menos ```m```repeticiones\n",
    "- ```{m}``` Exactamente ```m```repeticiones\n",
    "\n",
    "Otros ejemplos (podemos describir qué patrones se está tratando de buscar?)\n",
    "\n",
    "- ```\\b[aeiou][a-z]*\\b```\n",
    "\n",
    "\n",
    "**Tarea**\n",
    "- Averiguar la diferencia en el comportamiento de los cuantificadores cuando __[operan en modo *greedy* o no *greedy* (glotón)](https://blog.finxter.com/python-regex-greedy-vs-non-greedy-quantifiers/)__\n",
    "- Elaborar algunos ejemplos que muestren la diferencia"
   ]
  },
  {
   "cell_type": "markdown",
   "id": "9e31711e",
   "metadata": {},
   "source": [
    "## Agrupamiento\n",
    "\n",
    "El agrupamiento facilita acceso al contenido emparejado con un patrón.\n",
    "\n",
    "- ```1\\d+  (1\\d+)  1(\\d+)   1(\\d)+``` "
   ]
  },
  {
   "cell_type": "markdown",
   "id": "8b63dfda",
   "metadata": {},
   "source": [
    "# Expresiones regulares en Python\n",
    "\n",
    "- ```import re```\n",
    "- La mayoría de las funciones aceptan dos parámetros: la expresión regular (string) y el texto en el cual se busca el patrón definido en la expresión regular\n",
    "- La mayoría de las funciones retornan un objeto de tipo ```re.Match``` con información sobre el resultado del emparejamiento"
   ]
  },
  {
   "cell_type": "code",
   "execution_count": 1,
   "id": "c67fd97c",
   "metadata": {},
   "outputs": [
    {
     "data": {
      "text/plain": [
       "'En el marco de la Lucha Contra el Contrabando, 1.197 cajas con tomate y 27 bosas de ají, mercadería de contrabando, al interior de una vivienda en la comunidad Talita, fueron decomisados por efectivos de la Capitanía de Puerto Mayor “Bermejo”, junto a la Aduana, Fiscalía de Bermejo y el Servicio Nacional de Sanidad Agropecuaria e Inocuidad Alimentaria.\\n\\n\"Este cargamento habría sido internado de manera ilegal a nuestro país para su comercialización, lamentablemente quienes se dedican a esta actividad ilícita piensan poco en el desmedro que puede ocasionar este tipo de productos, no solamente a la economía nacional sino también a la producción boliviana\", informó Eduardo Mendiola, comandante del Área Naval No. 3 “Bermejo”.\\n\\nMendiola aseveró que los operativos continuarán para evitar que haya más delitos de contrabando y otros que atentan a la economía del País'"
      ]
     },
     "execution_count": 1,
     "metadata": {},
     "output_type": "execute_result"
    }
   ],
   "source": [
    "texto = \"\"\"En el marco de la Lucha Contra el Contrabando, 1.197 cajas con tomate y 27 bosas de ají, mercadería de contrabando, al interior de una vivienda en la comunidad Talita, fueron decomisados por efectivos de la Capitanía de Puerto Mayor “Bermejo”, junto a la Aduana, Fiscalía de Bermejo y el Servicio Nacional de Sanidad Agropecuaria e Inocuidad Alimentaria.\n",
    "\n",
    "\"Este cargamento habría sido internado de manera ilegal a nuestro país para su comercialización, lamentablemente quienes se dedican a esta actividad ilícita piensan poco en el desmedro que puede ocasionar este tipo de productos, no solamente a la economía nacional sino también a la producción boliviana\", informó Eduardo Mendiola, comandante del Área Naval No. 3 “Bermejo”.\n",
    "\n",
    "Mendiola aseveró que los operativos continuarán para evitar que haya más delitos de contrabando y otros que atentan a la economía del País\"\"\"\n",
    "texto"
   ]
  },
  {
   "cell_type": "code",
   "execution_count": 3,
   "id": "6953c8b8",
   "metadata": {},
   "outputs": [],
   "source": [
    "import re"
   ]
  },
  {
   "cell_type": "code",
   "execution_count": 6,
   "id": "b387b77c",
   "metadata": {},
   "outputs": [
    {
     "name": "stdout",
     "output_type": "stream",
     "text": [
      "True\n",
      "(258, 261)\n",
      "258\n",
      "261\n",
      "ana\n"
     ]
    }
   ],
   "source": [
    "match = re.search(r\"ana\", texto)\n",
    "print(bool(match))\n",
    "print(match.span())\n",
    "print(match.start())\n",
    "print(match.end())\n",
    "print(texto[match.start():match.end()])"
   ]
  },
  {
   "cell_type": "markdown",
   "id": "aaeefe25",
   "metadata": {},
   "source": [
    "## Emparejamiento y agrupamiento"
   ]
  },
  {
   "cell_type": "code",
   "execution_count": 7,
   "id": "b5c653f4",
   "metadata": {},
   "outputs": [
    {
     "data": {
      "text/plain": [
       "True"
      ]
     },
     "execution_count": 7,
     "metadata": {},
     "output_type": "execute_result"
    }
   ],
   "source": [
    "#re.match busca al principio del texto (^)\n",
    "match = re.match(r\"ana\", texto)\n",
    "match is None"
   ]
  },
  {
   "cell_type": "code",
   "execution_count": 8,
   "id": "8be50aab",
   "metadata": {},
   "outputs": [
    {
     "data": {
      "text/plain": [
       "True"
      ]
     },
     "execution_count": 8,
     "metadata": {},
     "output_type": "execute_result"
    }
   ],
   "source": [
    "#re.match busca al principio del texto (^)\n",
    "match = re.search(r\"^ana\", texto)\n",
    "match is None"
   ]
  },
  {
   "cell_type": "code",
   "execution_count": 9,
   "id": "e6e329b1",
   "metadata": {},
   "outputs": [
    {
     "data": {
      "text/plain": [
       "['la', 'la', 'la', 'la', 'la', 'la', 'la', 'la', 'la', 'la', 'lo', 'la']"
      ]
     },
     "execution_count": 9,
     "metadata": {},
     "output_type": "execute_result"
    }
   ],
   "source": [
    "#re.findall retorna una lista re.finditer retorna un iterable\n",
    "re.findall(\"l[ao]\", texto)"
   ]
  },
  {
   "cell_type": "code",
   "execution_count": 13,
   "id": "63005c38",
   "metadata": {
    "scrolled": true
   },
   "outputs": [
    {
     "name": "stdout",
     "output_type": "stream",
     "text": [
      "('97',)\n",
      "197\n",
      "97\n",
      "('197', '97')\n"
     ]
    }
   ],
   "source": [
    "#El objeto match permite acceder a los grupos capturados por la regex\n",
    "\n",
    "match = re.search(r\"1(\\d+)\", texto)\n",
    "print(match.groups())\n",
    "# print(match.groupdict())\n",
    "print(match.group(0))\n",
    "print(match.group(1))\n",
    "print(match.group(0,1))"
   ]
  },
  {
   "cell_type": "code",
   "execution_count": 11,
   "id": "f2c8740b",
   "metadata": {},
   "outputs": [
    {
     "name": "stdout",
     "output_type": "stream",
     "text": [
      "('97',)\n",
      "{'number': '97'}\n",
      "97\n"
     ]
    }
   ],
   "source": [
    "#Es posible asignar nombres a los grupos\n",
    "match = re.search(r\"1(?P<number>\\d+)\", texto)\n",
    "print(match.groups())\n",
    "print(match.groupdict())\n",
    "print(match.group('number'))"
   ]
  },
  {
   "cell_type": "markdown",
   "id": "b24eba24",
   "metadata": {},
   "source": [
    "## __[Sustituciones](https://docs.python.org/3/library/re.html#re.sub)__"
   ]
  },
  {
   "cell_type": "code",
   "execution_count": 15,
   "id": "b7a0ad4d",
   "metadata": {},
   "outputs": [
    {
     "data": {
      "text/plain": [
       "'En el marco de la Lucha Contra el Contrabando, 1.197 cajas con tomate y 27 bosas de ají, mercadería de contrabando, al interior de una vivienda en la comunidad Talita, fueron decomisados'"
      ]
     },
     "execution_count": 15,
     "metadata": {},
     "output_type": "execute_result"
    }
   ],
   "source": [
    "texto = \"En el marco de la Lucha Contra el Contrabando, 1.197 cajas con tomate y 27 bosas de ají, \\\n",
    "mercadería de contrabando, al interior de una vivienda en la comunidad Talita, fueron decomisados\"\n",
    "texto"
   ]
  },
  {
   "cell_type": "code",
   "execution_count": 16,
   "id": "a1147727",
   "metadata": {},
   "outputs": [
    {
     "data": {
      "text/plain": [
       "'En el marco de la Lucha Contra el Contrabando, #.### cajas con tomate y ## bosas de ají, mercadería de contrabando, al interior de una vivienda en la comunidad Talita, fueron decomisados'"
      ]
     },
     "execution_count": 16,
     "metadata": {},
     "output_type": "execute_result"
    }
   ],
   "source": [
    "#Reemplazar dígitos por '#'\n",
    "re.sub(r\"\\d\", \"#\", texto)"
   ]
  },
  {
   "cell_type": "code",
   "execution_count": 17,
   "id": "39ee6c97",
   "metadata": {},
   "outputs": [
    {
     "data": {
      "text/plain": [
       "'En el marco de la Lucha Contra el Contrabando, #.197 cajas con tomate y 27 bosas de ají, mercadería de contrabando, al interior de una vivienda en la comunidad Talita, fueron decomisados'"
      ]
     },
     "execution_count": 17,
     "metadata": {},
     "output_type": "execute_result"
    }
   ],
   "source": [
    "#Reemplazar dígitos por '#'\n",
    "re.sub(r\"\\d\", \"#\", texto, count = 1)"
   ]
  },
  {
   "cell_type": "code",
   "execution_count": 20,
   "id": "3791987c",
   "metadata": {},
   "outputs": [
    {
     "data": {
      "text/plain": [
       "'En el marco de la Lucha Contra el Contrabando, 1,197197 cajas con tomate y 27 bosas de ají, mercadería de contrabando, al interior de una vivienda en la comunidad Talita, fueron decomisados'"
      ]
     },
     "execution_count": 20,
     "metadata": {},
     "output_type": "execute_result"
    }
   ],
   "source": [
    "#Emplear partes de la cadena en el substitución para reemplazar '.' por ','\n",
    "re.sub(r'(\\d)\\.(\\d{3})', r'\\1,\\2', texto)"
   ]
  },
  {
   "cell_type": "markdown",
   "id": "d4ddd4aa",
   "metadata": {},
   "source": [
    "## __[Tokenización](https://docs.python.org/3/library/re.html#re.split)__"
   ]
  },
  {
   "cell_type": "code",
   "execution_count": 21,
   "id": "024dcbf4",
   "metadata": {},
   "outputs": [
    {
     "data": {
      "text/plain": [
       "['uno', ' dos', ' tres']"
      ]
     },
     "execution_count": 21,
     "metadata": {},
     "output_type": "execute_result"
    }
   ],
   "source": [
    "\"uno, dos, tres\".split(\",\")"
   ]
  },
  {
   "cell_type": "code",
   "execution_count": 22,
   "id": "765f3989",
   "metadata": {},
   "outputs": [
    {
     "data": {
      "text/plain": [
       "['Mis múmeros favoritos son ', ' y ', '']"
      ]
     },
     "execution_count": 22,
     "metadata": {},
     "output_type": "execute_result"
    }
   ],
   "source": [
    "re.split(r\"\\d+\", \"Mis múmeros favoritos son 7 y 69\")"
   ]
  },
  {
   "cell_type": "code",
   "execution_count": 23,
   "id": "2ea529b4",
   "metadata": {},
   "outputs": [
    {
     "data": {
      "text/plain": [
       "['Mis múmeros favoritos son ', ' y 69']"
      ]
     },
     "execution_count": 23,
     "metadata": {},
     "output_type": "execute_result"
    }
   ],
   "source": [
    "re.split(r\"\\d+\", \"Mis múmeros favoritos son 7 y 69\", maxsplit = 1)"
   ]
  },
  {
   "cell_type": "code",
   "execution_count": 25,
   "id": "c4e5c85a",
   "metadata": {},
   "outputs": [
    {
     "data": {
      "text/plain": [
       "['Mis múmeros favoritos son ', '7', ' y ', '69', '']"
      ]
     },
     "execution_count": 25,
     "metadata": {},
     "output_type": "execute_result"
    }
   ],
   "source": [
    "re.split(r\"(\\d+)\", \"Mis múmeros favoritos son 7 y 69\")"
   ]
  },
  {
   "cell_type": "code",
   "execution_count": 27,
   "id": "7cd9abe8",
   "metadata": {},
   "outputs": [
    {
     "data": {
      "text/plain": [
       "[7, 'a']"
      ]
     },
     "execution_count": 27,
     "metadata": {},
     "output_type": "execute_result"
    }
   ],
   "source": [
    "[7, 'a']"
   ]
  },
  {
   "cell_type": "markdown",
   "id": "7ad528c4",
   "metadata": {},
   "source": [
    "##  __[Moficadores (flags)](https://docs.python.org/3/library/re.html#re.A)__"
   ]
  },
  {
   "cell_type": "code",
   "execution_count": 28,
   "id": "458565c9",
   "metadata": {},
   "outputs": [],
   "source": [
    "re.search(r\"a+\", \"AAA\")"
   ]
  },
  {
   "cell_type": "code",
   "execution_count": 21,
   "id": "18afb64b",
   "metadata": {},
   "outputs": [
    {
     "data": {
      "text/plain": [
       "<re.Match object; span=(0, 3), match='AAA'>"
      ]
     },
     "execution_count": 21,
     "metadata": {},
     "output_type": "execute_result"
    }
   ],
   "source": [
    "re.search(r\"a+\", \"AAA\", re.IGNORECASE)"
   ]
  },
  {
   "cell_type": "code",
   "execution_count": 37,
   "id": "50dc2433",
   "metadata": {},
   "outputs": [
    {
     "data": {
      "text/plain": [
       "'En el marco de la Lucha Contra el Contrabando, 1,197 cajas con tomate y 27 bosas de ají, mercadería de contrabando, al interior de una vivienda en la comunidad Talita, fueron decomisados'"
      ]
     },
     "execution_count": 37,
     "metadata": {},
     "output_type": "execute_result"
    }
   ],
   "source": [
    "#re.VERBOSE ignora los espacios en el texto de la regex\n",
    "cambiar_separador_decimal_regex = re.compile(r\"\"\"(\\d)             #Un dígito\n",
    "                                                \\.                #El punto\n",
    "                                                (\\d{3})           #Tres dígitos\"\"\", re.VERBOSE)\n",
    "cambiar_separador_decimal_regex.sub(r'\\1,\\2', texto)\n",
    "\n",
    "#Es posible combinar varios modificadores: re.IGNORECASE | re.MULTILINE"
   ]
  },
  {
   "cell_type": "markdown",
   "id": "44cac9a8",
   "metadata": {},
   "source": [
    "**Tarea**\n",
    "\n",
    "Investigar el propósito de estos modificadores\n",
    "\n",
    "- re.MULTILINE\n",
    "- re.DOTALL"
   ]
  },
  {
   "cell_type": "markdown",
   "id": "dfed559d",
   "metadata": {},
   "source": [
    "## Look around\n",
    "\n",
    "- (?=foo)\tLook ahead\n",
    "- (?<=foo)\tLook behind\n",
    "- (?!foo)\tNegative Look ahead\n",
    "- (?<!foo)\tNegative Look behind"
   ]
  },
  {
   "cell_type": "code",
   "execution_count": 29,
   "id": "f1bd78bf",
   "metadata": {},
   "outputs": [
    {
     "data": {
      "text/plain": [
       "'En el marco de la Lucha Contra el Contrabando, 1.197 cajas con tomate y 27 bosas de ají, mercadería de contrabando, al interior de una vivienda en la comunidad Talita, fueron decomisados y los propietarios imputados por delito de contrabando'"
      ]
     },
     "execution_count": 29,
     "metadata": {},
     "output_type": "execute_result"
    }
   ],
   "source": [
    "texto = \"En el marco de la Lucha Contra el Contrabando, 1.197 cajas con tomate y 27 bosas de ají, \\\n",
    "mercadería de contrabando, al interior de una vivienda en la comunidad Talita, fueron decomisados y los propietarios \\\n",
    "imputados por delito de contrabando\"\n",
    "texto"
   ]
  },
  {
   "cell_type": "markdown",
   "id": "74192920",
   "metadata": {},
   "source": [
    "### Look ahead"
   ]
  },
  {
   "cell_type": "code",
   "execution_count": 30,
   "id": "3d75030e",
   "metadata": {},
   "outputs": [
    {
     "data": {
      "text/plain": [
       "<re.Match object; span=(103, 115), match='contrabando,'>"
      ]
     },
     "execution_count": 30,
     "metadata": {},
     "output_type": "execute_result"
    }
   ],
   "source": [
    "match =  re.search(r\"contrabando,\", texto)\n",
    "match"
   ]
  },
  {
   "cell_type": "code",
   "execution_count": 31,
   "id": "0963f986",
   "metadata": {},
   "outputs": [
    {
     "data": {
      "text/plain": [
       "<re.Match object; span=(103, 114), match='contrabando'>"
      ]
     },
     "execution_count": 31,
     "metadata": {},
     "output_type": "execute_result"
    }
   ],
   "source": [
    "#'Contrabando' seguido de ','\n",
    "match =  re.search(r\"contrabando(?=,)\", texto)\n",
    "match"
   ]
  },
  {
   "cell_type": "code",
   "execution_count": 30,
   "id": "cbd6cbce",
   "metadata": {},
   "outputs": [],
   "source": [
    "#'Contrabando' NO seguido de ','"
   ]
  },
  {
   "cell_type": "code",
   "execution_count": 32,
   "id": "14e53a34",
   "metadata": {},
   "outputs": [
    {
     "data": {
      "text/plain": [
       "<re.Match object; span=(230, 241), match='contrabando'>"
      ]
     },
     "execution_count": 32,
     "metadata": {},
     "output_type": "execute_result"
    }
   ],
   "source": [
    "match =  re.search(r\"contrabando(?!,)\", texto)\n",
    "match"
   ]
  },
  {
   "cell_type": "markdown",
   "id": "00edf3dc",
   "metadata": {},
   "source": [
    "### Look behind"
   ]
  },
  {
   "cell_type": "code",
   "execution_count": 34,
   "id": "a55ffcf0",
   "metadata": {},
   "outputs": [
    {
     "data": {
      "text/plain": [
       "<re.Match object; span=(45, 47), match=', '>"
      ]
     },
     "execution_count": 34,
     "metadata": {},
     "output_type": "execute_result"
    }
   ],
   "source": [
    "match =  re.search(r\",\\s\", texto)\n",
    "match"
   ]
  },
  {
   "cell_type": "code",
   "execution_count": 35,
   "id": "62e89de0",
   "metadata": {},
   "outputs": [
    {
     "data": {
      "text/plain": [
       "<re.Match object; span=(46, 47), match=' '>"
      ]
     },
     "execution_count": 35,
     "metadata": {},
     "output_type": "execute_result"
    }
   ],
   "source": [
    "#espacio precedido por ','\n",
    "match =  re.search(r\"(?<=,)\\s\", texto)\n",
    "match"
   ]
  },
  {
   "cell_type": "code",
   "execution_count": 36,
   "id": "d1398ced",
   "metadata": {},
   "outputs": [
    {
     "data": {
      "text/plain": [
       "<re.Match object; span=(2, 3), match=' '>"
      ]
     },
     "execution_count": 36,
     "metadata": {},
     "output_type": "execute_result"
    }
   ],
   "source": [
    "#espacio NO precedido por ','\n",
    "match =  re.search(r\"(?<!,)\\s\", texto)\n",
    "match"
   ]
  },
  {
   "cell_type": "markdown",
   "id": "0d6bf97e",
   "metadata": {},
   "source": [
    "# Referencias\n",
    "\n",
    "- __[Pythex](https://pythex.org/)__\n",
    "\n",
    "- __[Regular Expression HOWTO](https://docs.python.org/3/howto/regex.html#module-level-functions)__\n",
    "\n",
    "- __[Regular expression operations](https://docs.python.org/3/library/re.html#module-contents)__\n",
    "\n",
    "- __[Python regex - Raw String Notation](https://docs.python.org/3/library/re.html#raw-string-notation)__\n",
    "\n",
    "- __[Regex Cheat Sheet: A Quick Guide to Regular Expressions in Python](https://www.dataquest.io/blog/regex-cheatsheet/)__\n",
    "\n",
    "- __[Regular Expression cheat sheet](https://web.mit.edu/hackl/www/lab/turkshop/slides/regex-cheatsheet.pdf)__\n",
    "\n",
    "- __[RegexBuddy - Learn, Create, Understand, Test, Use and Save Regular Expressions](https://www.regexbuddy.com/)__\n",
    "\n",
    "- __[Decomisan más de mil cajas con tomate de contrabando en Bermejo](https://www.lostiempos.com/actualidad/pais/20210807/decomisan-mas-mil-cajas-tomate-contrabando-bermejo)__"
   ]
  },
  {
   "cell_type": "markdown",
   "id": "aa2a7bf1",
   "metadata": {},
   "source": [
    "# Ejercicio"
   ]
  },
  {
   "cell_type": "code",
   "execution_count": 10,
   "id": "83826ecb",
   "metadata": {},
   "outputs": [
    {
     "data": {
      "text/plain": [
       "[\"File 'BW-CDR-20210803130000-2-005056881C45-227529.csv' from 'as13.voip.evolveip.net' failed to load\",\n",
       " \"File 'BW-CDR-20210803130000-2-2C44FD9144F8-140243.csv' from 'as12.voip.evolveip.net' failed to load\",\n",
       " \"File 'BW-CDR-20210803130000-2-2C44FD910A90-222131.csv' from 'as1.voip.evolveip.net' failed to load\",\n",
       " \"File 'BW-CDR-20210803130000-2-2C44FD914A90-216977.csv' from 'as2.voip.evolveip.net' failed to load\",\n",
       " \"File 'BW-CDR-20210803130000-2-2C44FD998A90-138209.csv' from 'as16.voip.evolveip.net' failed to load\",\n",
       " \"File 'BW-CDR-20210803130000-2-2C44FD911688-223036.csv' from 'as11.voip.evolveip.net' failed to load\",\n",
       " \"File 'BW-CDR-20210803130000-2-E4434B14ADD4-086428.csv' from 'as17.voip.evolveip.net' failed to load\",\n",
       " \"File 'BW-CDR-20210803130003-2-FC15B4F7B7C0-138403.csv' from 'as15.voip.evolveip.net' failed to load\",\n",
       " \"File 'BW-CDR-20210803130000-2-E4434B14AA94-087718.csv' from 'as18.voip.evolveip.net' failed to load\",\n",
       " \"File 'BW-CDR-20210803131500-2-2C44FD910A90-222132.csv' from 'as1.voip.evolveip.net' failed to load\"]"
      ]
     },
     "execution_count": 10,
     "metadata": {},
     "output_type": "execute_result"
    }
   ],
   "source": [
    "errores = [\n",
    "\"File 'BW-CDR-20210803130000-2-005056881C45-227529.csv' from 'as13.voip.evolveip.net' failed to load\"\n",
    ",\"File 'BW-CDR-20210803130000-2-2C44FD9144F8-140243.csv' from 'as12.voip.evolveip.net' failed to load\"\n",
    ",\"File 'BW-CDR-20210803130000-2-2C44FD910A90-222131.csv' from 'as1.voip.evolveip.net' failed to load\"\n",
    ",\"File 'BW-CDR-20210803130000-2-2C44FD914A90-216977.csv' from 'as2.voip.evolveip.net' failed to load\"\n",
    ",\"File 'BW-CDR-20210803130000-2-2C44FD998A90-138209.csv' from 'as16.voip.evolveip.net' failed to load\"\n",
    ",\"File 'BW-CDR-20210803130000-2-2C44FD911688-223036.csv' from 'as11.voip.evolveip.net' failed to load\"\n",
    ",\"File 'BW-CDR-20210803130000-2-E4434B14ADD4-086428.csv' from 'as17.voip.evolveip.net' failed to load\"\n",
    ",\"File 'BW-CDR-20210803130003-2-FC15B4F7B7C0-138403.csv' from 'as15.voip.evolveip.net' failed to load\"\n",
    ",\"File 'BW-CDR-20210803130000-2-E4434B14AA94-087718.csv' from 'as18.voip.evolveip.net' failed to load\"\n",
    ",\"File 'BW-CDR-20210803131500-2-2C44FD910A90-222132.csv' from 'as1.voip.evolveip.net' failed to load\"\n",
    "]\n",
    "\n",
    "errores"
   ]
  },
  {
   "cell_type": "markdown",
   "id": "e2b175cf",
   "metadata": {},
   "source": [
    "## 1 Genere la lista de archivos"
   ]
  },
  {
   "cell_type": "code",
   "execution_count": 11,
   "id": "9deacf22",
   "metadata": {},
   "outputs": [
    {
     "data": {
      "text/plain": [
       "['BW-CDR-20210803130000-2-005056881C45-227529.csv',\n",
       " 'BW-CDR-20210803130000-2-2C44FD9144F8-140243.csv',\n",
       " 'BW-CDR-20210803130000-2-2C44FD910A90-222131.csv',\n",
       " 'BW-CDR-20210803130000-2-2C44FD914A90-216977.csv',\n",
       " 'BW-CDR-20210803130000-2-2C44FD998A90-138209.csv',\n",
       " 'BW-CDR-20210803130000-2-2C44FD911688-223036.csv',\n",
       " 'BW-CDR-20210803130000-2-E4434B14ADD4-086428.csv',\n",
       " 'BW-CDR-20210803130003-2-FC15B4F7B7C0-138403.csv',\n",
       " 'BW-CDR-20210803130000-2-E4434B14AA94-087718.csv',\n",
       " 'BW-CDR-20210803131500-2-2C44FD910A90-222132.csv']"
      ]
     },
     "execution_count": 11,
     "metadata": {},
     "output_type": "execute_result"
    }
   ],
   "source": []
  },
  {
   "cell_type": "markdown",
   "id": "805c7e59",
   "metadata": {},
   "source": [
    "## 2 Genere la lista de tuplas (archivo, host)"
   ]
  },
  {
   "cell_type": "code",
   "execution_count": 13,
   "id": "653fc8bb",
   "metadata": {},
   "outputs": [
    {
     "data": {
      "text/plain": [
       "[('BW-CDR-20210803130000-2-005056881C45-227529.csv', 'as13.voip.evolveip.net'),\n",
       " ('BW-CDR-20210803130000-2-2C44FD9144F8-140243.csv', 'as12.voip.evolveip.net'),\n",
       " ('BW-CDR-20210803130000-2-2C44FD910A90-222131.csv', 'as1.voip.evolveip.net'),\n",
       " ('BW-CDR-20210803130000-2-2C44FD914A90-216977.csv', 'as2.voip.evolveip.net'),\n",
       " ('BW-CDR-20210803130000-2-2C44FD998A90-138209.csv', 'as16.voip.evolveip.net'),\n",
       " ('BW-CDR-20210803130000-2-2C44FD911688-223036.csv', 'as11.voip.evolveip.net'),\n",
       " ('BW-CDR-20210803130000-2-E4434B14ADD4-086428.csv', 'as17.voip.evolveip.net'),\n",
       " ('BW-CDR-20210803130003-2-FC15B4F7B7C0-138403.csv', 'as15.voip.evolveip.net'),\n",
       " ('BW-CDR-20210803130000-2-E4434B14AA94-087718.csv', 'as18.voip.evolveip.net'),\n",
       " ('BW-CDR-20210803131500-2-2C44FD910A90-222132.csv', 'as1.voip.evolveip.net')]"
      ]
     },
     "execution_count": 13,
     "metadata": {},
     "output_type": "execute_result"
    }
   ],
   "source": []
  },
  {
   "cell_type": "markdown",
   "id": "07fd1d9e",
   "metadata": {},
   "source": [
    "# 3 - Valida si una cadena es un numero entero\n",
    "\n",
    "- -10, 12, 0, 1 -1\n",
    "- A10, x20"
   ]
  },
  {
   "cell_type": "code",
   "execution_count": null,
   "id": "b7cf217d",
   "metadata": {},
   "outputs": [],
   "source": []
  }
 ],
 "metadata": {
  "kernelspec": {
   "display_name": "Python 3 (ipykernel)",
   "language": "python",
   "name": "python3"
  },
  "language_info": {
   "codemirror_mode": {
    "name": "ipython",
    "version": 3
   },
   "file_extension": ".py",
   "mimetype": "text/x-python",
   "name": "python",
   "nbconvert_exporter": "python",
   "pygments_lexer": "ipython3",
   "version": "3.8.13"
  }
 },
 "nbformat": 4,
 "nbformat_minor": 5
}
