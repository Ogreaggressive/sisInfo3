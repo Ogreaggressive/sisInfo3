{
 "cells": [
  {
   "cell_type": "markdown",
   "id": "9e325849",
   "metadata": {},
   "source": [
    "# Expresiones regulares\n",
    "\n",
    "Las expresiones regulares son cadenas que definen un patrón que permite encontrar cadenas que emparejan dicho patrón. Algunas aplicaciones de las expresiones regulares son:\n",
    "\n",
    "- Validación de datos\n",
    "- Búsqueda y reemplazo\n",
    "- Extracción de datos de un texto"
   ]
  },
  {
   "cell_type": "markdown",
   "id": "d138de52",
   "metadata": {},
   "source": [
    "## Emparejamiento literal\n",
    "- ```ana```\n",
    "- ```Ana```"
   ]
  },
  {
   "cell_type": "markdown",
   "id": "e695e0f5",
   "metadata": {},
   "source": [
    "## Emparejamiento por clases y rangos\n",
    "- ```amig[oa]```\n",
    "- ```l[ao]```\n",
    "- ```[0-9][0-9]```\n",
    "- ```[a-z]```\n",
    "- ```[A-Z][A-Za-z]```\n",
    "- ```[^0-9]```\n",
    "- ```[AZ] = A|Z```"
   ]
  },
  {
   "cell_type": "markdown",
   "id": "d520fe76",
   "metadata": {},
   "source": [
    "## Meta caracteres\n",
    "\n",
    "Caracteres que representan clases: dígitos, espacios, palabras, etc.\n",
    "\n",
    "- ```.``` (Punto - cualquier caracter excepto los saltos de línea)\n",
    "- ```\\.``` - 'escapar' un meta caracter\n",
    "- ```\\w = [a-zA-Z0-9_]``` (word)\n",
    "- ```\\W```  (not word)\n",
    "- ```\\d``` (digit)\n",
    "- ```\\D``` (not digit)\n",
    "- ```\\s``` (space - \\t, \\r, \\n)\n",
    "- ```\\S``` (not space)"
   ]
  },
  {
   "cell_type": "markdown",
   "id": "bc4c1b47",
   "metadata": {},
   "source": [
    "## Anclaje de la búsqueda al principio o al final\n",
    "- ```^ - ^[EM]``` (al principio)\n",
    "- ```$ - \\.$``` (al final)\n",
    "- ```\\b - \\bp, s\\b``` (boundary)\n",
    "- ```\\B - \\Bp``` (not boundary)\n",
    "\n",
    "Probar con y sin modo **multine**."
   ]
  },
  {
   "cell_type": "markdown",
   "id": "4b9528c6",
   "metadata": {},
   "source": [
    "## Cuantificadores\n",
    "\n",
    "- ```*``` Cero o más repeticiones ```1\\d*```\n",
    "- ```+``` Uno o más repeticiones ```1\\d+```\n",
    "- ```?``` Cero o una repetición ```1\\d?```\n",
    "- ```{m,n}``` Entre ```m``` y ```n``` repeticiones```1\\d{1,3}```\n",
    "- ```{m,}``` Al menos ```m```repeticiones\n",
    "- ```{m}``` Exactamente ```m```repeticiones\n",
    "\n",
    "Otros ejemplos (podemos describir qué patrones se está tratando de buscar?)\n",
    "\n",
    "- ```\\b[aeiou][a-z]*\\b```\n",
    "\n",
    "\n",
    "**Tarea**\n",
    "- Averiguar la diferencia en el comportamiento de los cuantificadores cuando __[operan en modo *greedy* o no *greedy* (glotón)](https://blog.finxter.com/python-regex-greedy-vs-non-greedy-quantifiers/)__\n",
    "- Elaborar algunos ejemplos que muestren la diferencia"
   ]
  },
  {
   "cell_type": "markdown",
   "id": "9e31711e",
   "metadata": {},
   "source": [
    "## Agrupamiento\n",
    "\n",
    "El agrupamiento facilita acceso al contenido emparejado con un patrón.\n",
    "\n",
    "- ```1\\d+  (1\\d+)  1(\\d+)   1(\\d)+``` "
   ]
  },
  {
   "cell_type": "code",
   "execution_count": null,
   "id": "a4db77e4",
   "metadata": {},
   "outputs": [],
   "source": [
    "texto = \"\"\"En el marco de la Lucha Contra el Contrabando, 1.197 cajas con tomate y 27 bosas de ají, mercadería de contrabando, al interior de una vivienda en la comunidad Talita, fueron decomisados por efectivos de la Capitanía de Puerto Mayor “Bermejo”, junto a la Aduana, Fiscalía de Bermejo y el Servicio Nacional de Sanidad Agropecuaria e Inocuidad Alimentaria.\n",
    "\n",
    "\"Este cargamento habría sido internado de manera ilegal a nuestro país para su comercialización, lamentablemente quienes se dedican a esta actividad ilícita piensan poco en el desmedro que puede ocasionar este tipo de productos, no solamente a la economía nacional sino también a la producción boliviana\", informó Eduardo Mendiola, comandante del Área Naval No. 3 “Bermejo”.\n",
    "\n",
    "Mendiola aseveró que los operativos continuarán para evitar que haya más delitos de contrabando y otros que atentan a la economía del País\"\"\"\n",
    "texto"
   ]
  },
  {
   "cell_type": "markdown",
   "id": "0d6bf97e",
   "metadata": {},
   "source": [
    "# Referencias\n",
    "\n",
    "- __[Pythex](https://pythex.org/)__\n",
    "\n",
    "- __[Regular Expression HOWTO](https://docs.python.org/3/howto/regex.html#module-level-functions)__\n",
    "\n",
    "- __[Regular expression operations](https://docs.python.org/3/library/re.html#module-contents)__\n",
    "\n",
    "- __[Python regex - Raw String Notation](https://docs.python.org/3/library/re.html#raw-string-notation)__\n",
    "\n",
    "- __[Regex Cheat Sheet: A Quick Guide to Regular Expressions in Python](https://www.dataquest.io/blog/regex-cheatsheet/)__\n",
    "\n",
    "- __[Regular Expression cheat sheet](https://web.mit.edu/hackl/www/lab/turkshop/slides/regex-cheatsheet.pdf)__\n",
    "\n",
    "- __[RegexBuddy - Learn, Create, Understand, Test, Use and Save Regular Expressions](https://www.regexbuddy.com/)__\n",
    "\n",
    "- __[Decomisan más de mil cajas con tomate de contrabando en Bermejo](https://www.lostiempos.com/actualidad/pais/20210807/decomisan-mas-mil-cajas-tomate-contrabando-bermejo)__"
   ]
  },
  {
   "cell_type": "code",
   "execution_count": null,
   "id": "b7cf217d",
   "metadata": {},
   "outputs": [],
   "source": []
  }
 ],
 "metadata": {
  "kernelspec": {
   "display_name": "Python 3 (ipykernel)",
   "language": "python",
   "name": "python3"
  },
  "language_info": {
   "codemirror_mode": {
    "name": "ipython",
    "version": 3
   },
   "file_extension": ".py",
   "mimetype": "text/x-python",
   "name": "python",
   "nbconvert_exporter": "python",
   "pygments_lexer": "ipython3",
   "version": "3.8.13"
  }
 },
 "nbformat": 4,
 "nbformat_minor": 5
}
