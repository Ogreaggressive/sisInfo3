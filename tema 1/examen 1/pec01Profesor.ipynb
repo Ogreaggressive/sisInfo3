{
 "cells": [
  {
   "cell_type": "code",
   "execution_count": 3,
   "id": "088cf064",
   "metadata": {},
   "outputs": [],
   "source": [
    "#Habilitar intellisense\"\n",
    "%config IPCompleter.greedy = True"
   ]
  },
  {
   "cell_type": "markdown",
   "id": "37a084ec",
   "metadata": {},
   "source": [
    "- Completar los nombres de los integrantes del grupo\n",
    "- Pueden agregar más celdas para elaborar las respuestas (crear funciones de apoyo, definir resultados intermedios, etc)\n",
    "- Pueden apoyarse en búsquedas en internet y/o los notebooks para resolver los ejercicios.\n",
    "- La expresividad y claridad del código serán tomadas en cuenta.\n",
    "- Al finalizar, deberán enviar el notebook a jrocabado.t@ucb.edu.bo (**un** correo por grupo)\n",
    "- **Cada 5 minutos de retraso en la entrega se penalizará con 2 puntos. Si se envían múltiples correos sólo se tomará en cuenta el último.** "
   ]
  },
  {
   "cell_type": "code",
   "execution_count": 4,
   "id": "ab070551",
   "metadata": {},
   "outputs": [],
   "source": [
    "# Integrantes del grupo\n"
   ]
  },
  {
   "cell_type": "markdown",
   "id": "7939fac1",
   "metadata": {},
   "source": [
    "**Extraer la masa, densidad, gravedad y duración del día de la siguiente fuente**"
   ]
  },
  {
   "cell_type": "code",
   "execution_count": 2,
   "id": "d76c41d7",
   "metadata": {},
   "outputs": [
    {
     "data": {
      "text/plain": [
       "<Response [200]>"
      ]
     },
     "execution_count": 2,
     "metadata": {},
     "output_type": "execute_result"
    }
   ],
   "source": [
    "import requests\n",
    "\n",
    "response = requests.get(\"http://localhost:8000/Planetary_Fact_Sheet.html\")\n",
    "response"
   ]
  },
  {
   "cell_type": "code",
   "execution_count": null,
   "id": "6b8f0f6a",
   "metadata": {},
   "outputs": [],
   "source": [
    "# encontrar los TDs con align=left\n",
    "# Seleccionar los Tds que corresponden con los datos que nos han pedido (masa, densidad, gravedad y duración del día)\n",
    "# - Para recuperar los datos puedo ir a los hermanos de un TD con align=left\n",
    "# - Otra alternative es (TDs con align=left).parent y ahi buscar los TDs con align=center"
   ]
  },
  {
   "cell_type": "code",
   "execution_count": 3,
   "id": "1ffcc95c",
   "metadata": {},
   "outputs": [],
   "source": [
    "from bs4 import BeautifulSoup\n",
    "page = BeautifulSoup(response.text, \"html.parser\" )"
   ]
  },
  {
   "cell_type": "code",
   "execution_count": 6,
   "id": "82636241",
   "metadata": {},
   "outputs": [],
   "source": [
    "row_headers = page.body.find_all(name=\"td\", attrs={\"align\":\"left\"})"
   ]
  },
  {
   "cell_type": "code",
   "execution_count": 17,
   "id": "65014dd0",
   "metadata": {},
   "outputs": [],
   "source": [
    "def extract_numbers(row_headers, row_number):\n",
    "    tds = row_headers[row_number].find_parent().find_all(name=\"td\", attrs={\"align\":\"center\"})\n",
    "    return [float(td.text) for td in tds]"
   ]
  },
  {
   "cell_type": "code",
   "execution_count": 35,
   "id": "8c13caaa",
   "metadata": {},
   "outputs": [],
   "source": [
    "HEADER_ROW = 0\n",
    "MASS_ROW = 1\n",
    "DENSITY_ROW = 3\n",
    "GRAVITY_ROW = 4\n",
    "LENGTH_OF_DAY = 7"
   ]
  },
  {
   "cell_type": "code",
   "execution_count": 25,
   "id": "19c8bf5d",
   "metadata": {},
   "outputs": [
    {
     "data": {
      "text/plain": [
       "[0.33, 4.87, 5.97, 0.073, 0.642, 1898.0, 568.0, 86.8, 102.0, 0.013]"
      ]
     },
     "execution_count": 25,
     "metadata": {},
     "output_type": "execute_result"
    }
   ],
   "source": [
    "mass_data = extract_numbers(row_headers, MASS_ROW)\n",
    "mass_data"
   ]
  },
  {
   "cell_type": "code",
   "execution_count": 26,
   "id": "006f0f81",
   "metadata": {},
   "outputs": [
    {
     "data": {
      "text/plain": [
       "[5429.0, 5243.0, 5514.0, 3340.0, 3934.0, 1326.0, 687.0, 1270.0, 1638.0, 1850.0]"
      ]
     },
     "execution_count": 26,
     "metadata": {},
     "output_type": "execute_result"
    }
   ],
   "source": [
    "density_data = extract_numbers(row_headers, DENSITY_ROW)\n",
    "density_data"
   ]
  },
  {
   "cell_type": "code",
   "execution_count": 27,
   "id": "ebc28ac6",
   "metadata": {},
   "outputs": [
    {
     "data": {
      "text/plain": [
       "[3.7, 8.9, 9.8, 1.6, 3.7, 23.1, 9.0, 8.7, 11.0, 0.7]"
      ]
     },
     "execution_count": 27,
     "metadata": {},
     "output_type": "execute_result"
    }
   ],
   "source": [
    "gravity_data = extract_numbers(row_headers, GRAVITY_ROW)\n",
    "gravity_data"
   ]
  },
  {
   "cell_type": "code",
   "execution_count": 40,
   "id": "ba2bdd29",
   "metadata": {},
   "outputs": [
    {
     "data": {
      "text/plain": [
       "[4222.6, 2802.0, 24.0, 708.7, 24.7, 9.9, 10.7, 17.2, 16.1, 153.3]"
      ]
     },
     "execution_count": 40,
     "metadata": {},
     "output_type": "execute_result"
    }
   ],
   "source": [
    "length_of_day_data = extract_numbers(row_headers, LENGTH_OF_DAY)\n",
    "length_of_day_data"
   ]
  },
  {
   "cell_type": "code",
   "execution_count": 37,
   "id": "f478d029",
   "metadata": {},
   "outputs": [],
   "source": [
    "def extract_headers(row_headers):\n",
    "    tds = row_headers[HEADER_ROW].find_parent().find_all(name=\"td\", attrs={\"align\":\"center\"})\n",
    "    return [td.find(\"a\").text for td in tds]"
   ]
  },
  {
   "cell_type": "code",
   "execution_count": 39,
   "id": "100ac9df",
   "metadata": {},
   "outputs": [
    {
     "data": {
      "text/plain": [
       "['MERCURY',\n",
       " 'VENUS',\n",
       " 'EARTH',\n",
       " 'MOON',\n",
       " 'MARS',\n",
       " 'JUPITER',\n",
       " 'SATURN',\n",
       " 'URANUS',\n",
       " 'NEPTUNE',\n",
       " 'PLUTO']"
      ]
     },
     "execution_count": 39,
     "metadata": {},
     "output_type": "execute_result"
    }
   ],
   "source": [
    "names = extract_headers(row_headers)\n",
    "names"
   ]
  },
  {
   "cell_type": "code",
   "execution_count": 42,
   "id": "a94b82f5",
   "metadata": {},
   "outputs": [],
   "source": [
    "def build_dict(planet_tuple):\n",
    "    return { \"name\": planet_tuple[0]\n",
    "        , \"mass\": planet_tuple[1]\n",
    "        , \"density\": planet_tuple[2]\n",
    "        , \"gravity\": planet_tuple[3]\n",
    "        , \"length_if_day\": planet_tuple[4]\n",
    "    }"
   ]
  },
  {
   "cell_type": "code",
   "execution_count": 44,
   "id": "eb378edc",
   "metadata": {},
   "outputs": [
    {
     "data": {
      "text/plain": [
       "[{'name': 'MERCURY',\n",
       "  'mass': 0.33,\n",
       "  'density': 5429.0,\n",
       "  'gravity': 3.7,\n",
       "  'length_if_day': 4222.6},\n",
       " {'name': 'VENUS',\n",
       "  'mass': 4.87,\n",
       "  'density': 5243.0,\n",
       "  'gravity': 8.9,\n",
       "  'length_if_day': 2802.0},\n",
       " {'name': 'EARTH',\n",
       "  'mass': 5.97,\n",
       "  'density': 5514.0,\n",
       "  'gravity': 9.8,\n",
       "  'length_if_day': 24.0},\n",
       " {'name': 'MOON',\n",
       "  'mass': 0.073,\n",
       "  'density': 3340.0,\n",
       "  'gravity': 1.6,\n",
       "  'length_if_day': 708.7},\n",
       " {'name': 'MARS',\n",
       "  'mass': 0.642,\n",
       "  'density': 3934.0,\n",
       "  'gravity': 3.7,\n",
       "  'length_if_day': 24.7},\n",
       " {'name': 'JUPITER',\n",
       "  'mass': 1898.0,\n",
       "  'density': 1326.0,\n",
       "  'gravity': 23.1,\n",
       "  'length_if_day': 9.9},\n",
       " {'name': 'SATURN',\n",
       "  'mass': 568.0,\n",
       "  'density': 687.0,\n",
       "  'gravity': 9.0,\n",
       "  'length_if_day': 10.7},\n",
       " {'name': 'URANUS',\n",
       "  'mass': 86.8,\n",
       "  'density': 1270.0,\n",
       "  'gravity': 8.7,\n",
       "  'length_if_day': 17.2},\n",
       " {'name': 'NEPTUNE',\n",
       "  'mass': 102.0,\n",
       "  'density': 1638.0,\n",
       "  'gravity': 11.0,\n",
       "  'length_if_day': 16.1},\n",
       " {'name': 'PLUTO',\n",
       "  'mass': 0.013,\n",
       "  'density': 1850.0,\n",
       "  'gravity': 0.7,\n",
       "  'length_if_day': 153.3}]"
      ]
     },
     "execution_count": 44,
     "metadata": {},
     "output_type": "execute_result"
    }
   ],
   "source": [
    "planet_tuples = list(zip(names, mass_data, density_data, gravity_data, length_of_day_data))\n",
    "planet_dict = [build_dict(planet_tuple) for planet_tuple in planet_tuples]\n",
    "planet_dict"
   ]
  },
  {
   "cell_type": "markdown",
   "id": "fa1e97ab",
   "metadata": {},
   "source": [
    "**Mostrar los datos de los tres planetas con mayor duración del día que La Tierra ordenados de manera descendente (por duración del día)**"
   ]
  },
  {
   "cell_type": "code",
   "execution_count": null,
   "id": "31141aa7",
   "metadata": {},
   "outputs": [],
   "source": []
  },
  {
   "cell_type": "markdown",
   "id": "d2a0f9d9",
   "metadata": {},
   "source": [
    "**Guardar en un archivo CSV los siguientes datos: el nombre, número de teléfono y rating de todos los negocios con ```\"price\"=\"$\"```**"
   ]
  },
  {
   "cell_type": "code",
   "execution_count": 6,
   "id": "7969ead2",
   "metadata": {},
   "outputs": [
    {
     "data": {
      "text/plain": [
       "<Response [200]>"
      ]
     },
     "execution_count": 6,
     "metadata": {},
     "output_type": "execute_result"
    }
   ],
   "source": [
    "import requests\n",
    "\n",
    "response = requests.get(\"http://localhost:8000/businesses.json\")\n",
    "response"
   ]
  },
  {
   "cell_type": "code",
   "execution_count": null,
   "id": "cb3d64cd",
   "metadata": {},
   "outputs": [],
   "source": []
  }
 ],
 "metadata": {
  "kernelspec": {
   "display_name": "Python 3.10.0 64-bit",
   "language": "python",
   "name": "python3"
  },
  "language_info": {
   "codemirror_mode": {
    "name": "ipython",
    "version": 3
   },
   "file_extension": ".py",
   "mimetype": "text/x-python",
   "name": "python",
   "nbconvert_exporter": "python",
   "pygments_lexer": "ipython3",
   "version": "3.10.0"
  },
  "vscode": {
   "interpreter": {
    "hash": "85c576d62e5a69baba7dcae6282c7bf6fba6f8d537c9cbb11ca984aece3c77a0"
   }
  }
 },
 "nbformat": 4,
 "nbformat_minor": 5
}
