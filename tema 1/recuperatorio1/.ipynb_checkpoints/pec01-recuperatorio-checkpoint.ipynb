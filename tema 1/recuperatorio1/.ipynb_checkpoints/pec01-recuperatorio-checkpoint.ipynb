{
 "cells": [
  {
   "cell_type": "code",
   "execution_count": 3,
   "id": "088cf064",
   "metadata": {},
   "outputs": [],
   "source": [
    "#Habilitar intellisense\"\n",
    "%config IPCompleter.greedy = True"
   ]
  },
  {
   "cell_type": "markdown",
   "id": "37a084ec",
   "metadata": {},
   "source": [
    "- Completar los nombres de los integrantes del grupo\n",
    "- Pueden agregar más celdas para elaborar las respuestas (crear funciones de apoyo, definir resultados intermedios, etc)\n",
    "- Pueden apoyarse en búsquedas en internet y/o los notebooks para resolver los ejercicios.\n",
    "- La expresividad y claridad del código serán tomadas en cuenta.\n",
    "- Al finalizar, deberán enviar el notebook a jrocabado.t@ucb.edu.bo (**un** correo por grupo)\n",
    "- **Cada 5 minutos de retraso en la entrega se penalizará con 2 puntos. Si se envían múltiples correos sólo se tomará en cuenta el último.** "
   ]
  },
  {
   "cell_type": "code",
   "execution_count": 4,
   "id": "ab070551",
   "metadata": {},
   "outputs": [],
   "source": [
    "# Integrantes del grupo\n"
   ]
  },
  {
   "cell_type": "markdown",
   "id": "7939fac1",
   "metadata": {},
   "source": [
    "**Obtener una lista de diccionarios con el nombre y la población de los países en los que se habla español**"
   ]
  },
  {
   "cell_type": "code",
   "execution_count": 1,
   "id": "d76c41d7",
   "metadata": {},
   "outputs": [
    {
     "data": {
      "text/plain": [
       "<Response [200]>"
      ]
     },
     "execution_count": 1,
     "metadata": {},
     "output_type": "execute_result"
    }
   ],
   "source": [
    "import requests\n",
    "\n",
    "response = requests.get(\"http://localhost:8000/Pa%C3%ADses_de_Am%C3%A9rica_por_poblaci%C3%B3n.html\")\n",
    "response"
   ]
  },
  {
   "cell_type": "code",
   "execution_count": null,
   "id": "22327427",
   "metadata": {},
   "outputs": [],
   "source": []
  },
  {
   "cell_type": "markdown",
   "id": "fa1e97ab",
   "metadata": {},
   "source": [
    "**Mostrar los datos de los tres países con mayor probación de la lista anterior**"
   ]
  },
  {
   "cell_type": "code",
   "execution_count": null,
   "id": "31141aa7",
   "metadata": {},
   "outputs": [],
   "source": [
    "dict(sorted(valor.items(), key=lambda item: item[pos]))"
   ]
  },
  {
   "cell_type": "code",
   "execution_count": null,
   "id": "d66b6ab0",
   "metadata": {},
   "outputs": [],
   "source": [
    "CountriesARRAY=[(country[index],Values[0][index]) for index in range(len(Planets))]"
   ]
  },
  {
   "cell_type": "code",
   "execution_count": null,
   "id": "258fd69f",
   "metadata": {},
   "outputs": [],
   "source": [
    "def sortSubject(CountryTuple):\n",
    "    return CountryTuple[0]\n",
    "CountriesARRAY.sort(key=sortSubject,reverse=True)\n",
    "header = [\"población\"]\n",
    "print(header)\n",
    "print(TuplePlanetsARRAY[:3])\n"
   ]
  },
  {
   "cell_type": "code",
   "execution_count": null,
   "id": "69ef360c",
   "metadata": {},
   "outputs": [],
   "source": [
    "dict(sorted(CountriesARRAY.items(), key=lambda item: item[0]))"
   ]
  }
 ],
 "metadata": {
  "kernelspec": {
   "display_name": "Python 3 (ipykernel)",
   "language": "python",
   "name": "python3"
  },
  "language_info": {
   "codemirror_mode": {
    "name": "ipython",
    "version": 3
   },
   "file_extension": ".py",
   "mimetype": "text/x-python",
   "name": "python",
   "nbconvert_exporter": "python",
   "pygments_lexer": "ipython3",
   "version": "3.9.12"
  }
 },
 "nbformat": 4,
 "nbformat_minor": 5
}
