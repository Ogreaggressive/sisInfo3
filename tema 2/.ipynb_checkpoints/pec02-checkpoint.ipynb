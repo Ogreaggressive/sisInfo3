{
 "cells": [
  {
   "cell_type": "code",
   "execution_count": 1,
   "id": "088cf064",
   "metadata": {},
   "outputs": [],
   "source": [
    "#Habilitar intellisense\"\n",
    "%config IPCompleter.greedy = True"
   ]
  },
  {
   "cell_type": "markdown",
   "id": "37a084ec",
   "metadata": {},
   "source": [
    "- Completar los nombres de los integrantes del grupo\n",
    "- Pueden agregar más celdas para elaborar las respuestas (crear funciones de apoyo, definir resultados intermedios, etc)\n",
    "- Pueden apoyarse en búsquedas en internet y/o los notebooks para resolver los ejercicios.\n",
    "- *La expresividad y claridad del código serán tomadas en cuenta*.\n",
    "- Al finalizar, deberán enviar el notebook a jrocabado.t@ucb.edu.bo (**un** correo por grupo)\n",
    "- **Cada 5 minutos de retraso en la entrega se penalizará con 2 puntos. Si se envían múltiples correos sólo se tomará en cuenta el último.** "
   ]
  },
  {
   "cell_type": "code",
   "execution_count": 2,
   "id": "ab070551",
   "metadata": {},
   "outputs": [],
   "source": [
    "# Integrantes del grupo\n"
   ]
  },
  {
   "cell_type": "markdown",
   "id": "7939fac1",
   "metadata": {},
   "source": [
    "**Las conversaciones con los clientes que realizaron pedidos a un restaurante están registradas en el dataframe ```pedidos```; el restaurante necesita extraer los siguientes datos de esas conversaciones en otro dataframe:**\n",
    "\n",
    "- ```categoria```, valores posibles: ```venta```, ```consulta```\n",
    "- ```importe_bs```, el importe (numérico o literal) en bolivianos cuando se haya realizado una venta. Si no se ha realizado una venta el importe es cero.\n",
    "- ```item```, el item que se ha vendido (Ej. hamburguesas, sillpanchos, etc ). Si no se ha realizado una venta el item es ```ninguno```"
   ]
  },
  {
   "cell_type": "code",
   "execution_count": 3,
   "id": "10d95fee",
   "metadata": {},
   "outputs": [],
   "source": [
    "import numpy as np\n",
    "import pandas as pd\n",
    "import spacy\n",
    "from spacy import displacy\n",
    "nlp = spacy.load(\"es_core_news_md\")"
   ]
  },
  {
   "cell_type": "code",
   "execution_count": 4,
   "id": "81461cb4",
   "metadata": {},
   "outputs": [
    {
     "data": {
      "text/html": [
       "<div>\n",
       "<style scoped>\n",
       "    .dataframe tbody tr th:only-of-type {\n",
       "        vertical-align: middle;\n",
       "    }\n",
       "\n",
       "    .dataframe tbody tr th {\n",
       "        vertical-align: top;\n",
       "    }\n",
       "\n",
       "    .dataframe thead th {\n",
       "        text-align: right;\n",
       "    }\n",
       "</style>\n",
       "<table border=\"1\" class=\"dataframe\">\n",
       "  <thead>\n",
       "    <tr style=\"text-align: right;\">\n",
       "      <th></th>\n",
       "      <th>cliente</th>\n",
       "      <th>restaurante</th>\n",
       "    </tr>\n",
       "  </thead>\n",
       "  <tbody>\n",
       "    <tr>\n",
       "      <th>0</th>\n",
       "      <td>¿Todavía tiene pizza americana?</td>\n",
       "      <td>Sí</td>\n",
       "    </tr>\n",
       "    <tr>\n",
       "      <th>1</th>\n",
       "      <td>Queremos dos hamburguesas dobles</td>\n",
       "      <td>Ok, son 70 Bs.</td>\n",
       "    </tr>\n",
       "    <tr>\n",
       "      <th>2</th>\n",
       "      <td>¿Todavía están recibiendo pedidos?</td>\n",
       "      <td>Así es, atenderemos media hora más</td>\n",
       "    </tr>\n",
       "    <tr>\n",
       "      <th>3</th>\n",
       "      <td>Por favor, envíen dos sillpanchos especiales</td>\n",
       "      <td>Ok, le enviaremos la factura por 40 bolivianos</td>\n",
       "    </tr>\n",
       "    <tr>\n",
       "      <th>4</th>\n",
       "      <td>Por favor, envíen</td>\n",
       "      <td>Perdón,¿enviar qué?</td>\n",
       "    </tr>\n",
       "    <tr>\n",
       "      <th>5</th>\n",
       "      <td>Queremos un pique especial</td>\n",
       "      <td>Son cien Bs., le enviaremos en 10 minutos</td>\n",
       "    </tr>\n",
       "  </tbody>\n",
       "</table>\n",
       "</div>"
      ],
      "text/plain": [
       "                                        cliente  \\\n",
       "0               ¿Todavía tiene pizza americana?   \n",
       "1              Queremos dos hamburguesas dobles   \n",
       "2            ¿Todavía están recibiendo pedidos?   \n",
       "3  Por favor, envíen dos sillpanchos especiales   \n",
       "4                             Por favor, envíen   \n",
       "5                    Queremos un pique especial   \n",
       "\n",
       "                                      restaurante  \n",
       "0                                              Sí  \n",
       "1                                  Ok, son 70 Bs.  \n",
       "2              Así es, atenderemos media hora más  \n",
       "3  Ok, le enviaremos la factura por 40 bolivianos  \n",
       "4                             Perdón,¿enviar qué?  \n",
       "5       Son cien Bs., le enviaremos en 10 minutos  "
      ]
     },
     "execution_count": 4,
     "metadata": {},
     "output_type": "execute_result"
    }
   ],
   "source": [
    "pedidos = pd.read_csv(\"log_pedidos.csv\")\n",
    "pedidos"
   ]
  },
  {
   "cell_type": "code",
   "execution_count": null,
   "id": "7c933bb9",
   "metadata": {},
   "outputs": [],
   "source": []
  },
  {
   "cell_type": "code",
   "execution_count": null,
   "id": "245ee9c6",
   "metadata": {},
   "outputs": [],
   "source": []
  }
 ],
 "metadata": {
  "kernelspec": {
   "display_name": "Python 3 (ipykernel)",
   "language": "python",
   "name": "python3"
  },
  "language_info": {
   "codemirror_mode": {
    "name": "ipython",
    "version": 3
   },
   "file_extension": ".py",
   "mimetype": "text/x-python",
   "name": "python",
   "nbconvert_exporter": "python",
   "pygments_lexer": "ipython3",
   "version": "3.9.12"
  }
 },
 "nbformat": 4,
 "nbformat_minor": 5
}
