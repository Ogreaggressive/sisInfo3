{
 "cells": [
  {
   "cell_type": "code",
   "execution_count": 1,
   "id": "088cf064",
   "metadata": {},
   "outputs": [],
   "source": [
    "#Habilitar intellisense\"\n",
    "%config IPCompleter.greedy = True"
   ]
  },
  {
   "cell_type": "markdown",
   "id": "7939fac1",
   "metadata": {},
   "source": [
    "**Convertir el siguiente dataframe a otro dataframe llamado ```reservas``` con las siguientes columnas:**\n",
    "\n",
    "- ```estado_reserva```, valores posibles: ```confirmada```, ```no-confirmada```\n",
    "- ```importe_bs```, el importe en bolivianos cuando la reserva ha sido confirmada. Si la reserva no ha sido confirmada el importe es cero.\n",
    "- ```mes```, el nombre del mes en el que se hizo la reserva. En el dataframe origen la fecha tiene el siguiente __[formato](https://docs.python.org/3/library/datetime.html#strftime-and-strptime-format-codes)__: ```%Y%m%d```"
   ]
  },
  {
   "cell_type": "code",
   "execution_count": null,
   "id": "dc7658a0",
   "metadata": {},
   "outputs": [],
   "source": []
  },
  {
   "cell_type": "markdown",
   "id": "aa19d137",
   "metadata": {},
   "source": [
    "**Referencias**\n",
    "\n",
    "- [pd.to_datetime()](https://dataindependent.com/pandas/pandas-to-datetime-string-to-date-pd-to_datetime/)\n",
    "- [Series.dt.month_name()](https://es.acervolima.com/python-pandas-series-dt-month_name/)"
   ]
  },
  {
   "cell_type": "code",
   "execution_count": 75,
   "id": "10d95fee",
   "metadata": {},
   "outputs": [],
   "source": [
    "import numpy as np\n",
    "import pandas as pd\n",
    "import spacy\n",
    "from spacy import displacy\n",
    "nlp = spacy.load(\"es_core_news_md\")\n",
    "from spacy.matcher import Matcher"
   ]
  },
  {
   "cell_type": "code",
   "execution_count": 46,
   "id": "81461cb4",
   "metadata": {},
   "outputs": [
    {
     "data": {
      "text/html": [
       "<div>\n",
       "<style scoped>\n",
       "    .dataframe tbody tr th:only-of-type {\n",
       "        vertical-align: middle;\n",
       "    }\n",
       "\n",
       "    .dataframe tbody tr th {\n",
       "        vertical-align: top;\n",
       "    }\n",
       "\n",
       "    .dataframe thead th {\n",
       "        text-align: right;\n",
       "    }\n",
       "</style>\n",
       "<table border=\"1\" class=\"dataframe\">\n",
       "  <thead>\n",
       "    <tr style=\"text-align: right;\">\n",
       "      <th></th>\n",
       "      <th>mensaje</th>\n",
       "      <th>respuesta</th>\n",
       "      <th>fecha</th>\n",
       "    </tr>\n",
       "  </thead>\n",
       "  <tbody>\n",
       "    <tr>\n",
       "      <th>0</th>\n",
       "      <td>Necesito reservar una habitación para el sigui...</td>\n",
       "      <td>Reserva aceptada, son 500 bolivianos</td>\n",
       "      <td>20220927</td>\n",
       "    </tr>\n",
       "    <tr>\n",
       "      <th>1</th>\n",
       "      <td>Por favor, reservar la mesa cerca del escenari...</td>\n",
       "      <td>Hemos confirmado su reserva, son 150 bolivianos</td>\n",
       "      <td>20221002</td>\n",
       "    </tr>\n",
       "    <tr>\n",
       "      <th>2</th>\n",
       "      <td>Debido a razones de fuerza mayor tengo que can...</td>\n",
       "      <td>No hay problema, lo esperamos en otra oportunidad</td>\n",
       "      <td>20220930</td>\n",
       "    </tr>\n",
       "    <tr>\n",
       "      <th>3</th>\n",
       "      <td>Reservaré los asientos en el palco izquierdo</td>\n",
       "      <td>Deberá cancelar 200 bolivianos, reserva lista</td>\n",
       "      <td>20221005</td>\n",
       "    </tr>\n",
       "    <tr>\n",
       "      <th>4</th>\n",
       "      <td>Voy a reservar</td>\n",
       "      <td>¿El asiento 9F o el 10A? ambos cuestan 310 bol...</td>\n",
       "      <td>20220930</td>\n",
       "    </tr>\n",
       "  </tbody>\n",
       "</table>\n",
       "</div>"
      ],
      "text/plain": [
       "                                             mensaje  \\\n",
       "0  Necesito reservar una habitación para el sigui...   \n",
       "1  Por favor, reservar la mesa cerca del escenari...   \n",
       "2  Debido a razones de fuerza mayor tengo que can...   \n",
       "3       Reservaré los asientos en el palco izquierdo   \n",
       "4                                     Voy a reservar   \n",
       "\n",
       "                                           respuesta     fecha  \n",
       "0               Reserva aceptada, son 500 bolivianos  20220927  \n",
       "1    Hemos confirmado su reserva, son 150 bolivianos  20221002  \n",
       "2  No hay problema, lo esperamos en otra oportunidad  20220930  \n",
       "3      Deberá cancelar 200 bolivianos, reserva lista  20221005  \n",
       "4  ¿El asiento 9F o el 10A? ambos cuestan 310 bol...  20220930  "
      ]
     },
     "execution_count": 46,
     "metadata": {},
     "output_type": "execute_result"
    }
   ],
   "source": [
    "mensajes = pd.read_csv(\"log_mensajes.csv\")\n",
    "mensajes"
   ]
  },
  {
   "cell_type": "code",
   "execution_count": 47,
   "id": "8f3e1ac3",
   "metadata": {},
   "outputs": [
    {
     "data": {
      "text/plain": [
       "mensaje      object\n",
       "respuesta    object\n",
       "fecha         int64\n",
       "dtype: object"
      ]
     },
     "execution_count": 47,
     "metadata": {},
     "output_type": "execute_result"
    }
   ],
   "source": [
    "mensajes.dtypes"
   ]
  },
  {
   "cell_type": "code",
   "execution_count": null,
   "id": "1d15df6d",
   "metadata": {},
   "outputs": [],
   "source": []
  },
  {
   "cell_type": "code",
   "execution_count": 59,
   "id": "4e2615ee",
   "metadata": {},
   "outputs": [
    {
     "data": {
      "text/plain": [
       "0                 Reserva aceptada, son 500 bolivianos\n",
       "1      Hemos confirmado su reserva, son 150 bolivianos\n",
       "2    No hay problema, lo esperamos en otra oportunidad\n",
       "3        Deberá cancelar 200 bolivianos, reserva lista\n",
       "4    ¿El asiento 9F o el 10A? ambos cuestan 310 bol...\n",
       "Name: respuesta, dtype: object"
      ]
     },
     "execution_count": 59,
     "metadata": {},
     "output_type": "execute_result"
    }
   ],
   "source": [
    "mensajes['respuesta']"
   ]
  },
  {
   "cell_type": "code",
   "execution_count": 60,
   "id": "0afa6263",
   "metadata": {},
   "outputs": [
    {
     "data": {
      "text/plain": [
       "'¿El asiento 9F o el 10A? ambos cuestan 310 boliviannos'"
      ]
     },
     "execution_count": 60,
     "metadata": {},
     "output_type": "execute_result"
    }
   ],
   "source": [
    "mensajes['respuesta'][4]"
   ]
  },
  {
   "cell_type": "code",
   "execution_count": 64,
   "id": "c2650753",
   "metadata": {},
   "outputs": [],
   "source": [
    "mensaje = mensajes['respuesta'][4]"
   ]
  },
  {
   "cell_type": "code",
   "execution_count": 65,
   "id": "97fd413d",
   "metadata": {},
   "outputs": [
    {
     "data": {
      "text/plain": [
       "'¿El asiento 9F o el 10A? ambos cuestan 310 boliviannos'"
      ]
     },
     "execution_count": 65,
     "metadata": {},
     "output_type": "execute_result"
    }
   ],
   "source": [
    "mensaje"
   ]
  },
  {
   "cell_type": "code",
   "execution_count": 66,
   "id": "1dfc9fa6",
   "metadata": {},
   "outputs": [
    {
     "name": "stdout",
     "output_type": "stream",
     "text": [
      "¿ (POS: PUNCT / punctuation : PunctSide=Ini|PunctType=Qest\n",
      "El (POS: DET / determiner : Definite=Def|Gender=Masc|Number=Sing|PronType=Art\n",
      "asiento (POS: NOUN / noun : Gender=Masc|Number=Sing\n",
      "9F (POS: NUM / numeral : NumForm=Digit|NumType=Card\n",
      "o (POS: CCONJ / coordinating conjunction : \n",
      "el (POS: DET / determiner : Definite=Def|Gender=Masc|Number=Sing|PronType=Art\n",
      "10A (POS: NUM / numeral : NumForm=Digit|NumType=Card\n",
      "? (POS: PUNCT / punctuation : PunctSide=Fin|PunctType=Qest\n",
      "ambos (POS: NUM / numeral : Gender=Masc|NumType=Card|Number=Plur\n",
      "cuestan (POS: VERB / verb : Mood=Ind|Number=Plur|Person=3|Tense=Pres|VerbForm=Fin\n",
      "310 (POS: NUM / numeral : NumForm=Digit|NumType=Card\n",
      "boliviannos (POS: NOUN / noun : Gender=Masc|Number=Plur\n"
     ]
    }
   ],
   "source": [
    "doc = nlp(mensaje)\n",
    "for token in doc:\n",
    "    print(f\"{token.text} (POS: {token.pos_} / {spacy.explain(token.pos_)} : {token.morph}\")"
   ]
  },
  {
   "cell_type": "code",
   "execution_count": 53,
   "id": "3d7f0e54",
   "metadata": {},
   "outputs": [],
   "source": [
    "def getMoney(sent):\n",
    "    doc = nlp(sent.text)\n",
    "    for token in doc:\n",
    "        if (token.pos_ == 'NUM'):\n",
    "            return token.text"
   ]
  },
  {
   "cell_type": "code",
   "execution_count": 82,
   "id": "f2e392a8",
   "metadata": {},
   "outputs": [],
   "source": [
    "def verificarLemmas(sent):\n",
    "    lemas = [\"confirmado\",\"aceptado\",\"confirmar\",\"cancelar\"]\n",
    "    doc = nlp(sent.text)\n",
    "    for token in doc:\n",
    "        if token.lemma_ in lemas:\n",
    "            return True\n",
    "    return False"
   ]
  },
  {
   "cell_type": "code",
   "execution_count": 55,
   "id": "3f61af45",
   "metadata": {},
   "outputs": [
    {
     "name": "stdout",
     "output_type": "stream",
     "text": [
      "500\n"
     ]
    }
   ],
   "source": [
    "for sentence in doc.sents:\n",
    "    if (verificarLemmas(sentence) == True):\n",
    "        print(getMoney(sentence))\n",
    "        print(\"confirmado\")\n",
    "    "
   ]
  },
  {
   "cell_type": "code",
   "execution_count": 44,
   "id": "0b946095",
   "metadata": {},
   "outputs": [
    {
     "name": "stdout",
     "output_type": "stream",
     "text": [
      "PROPN\n",
      "ADJ\n",
      "PUNCT\n",
      "AUX\n",
      "NUM\n",
      "500\n"
     ]
    }
   ],
   "source": [
    "print(getMoney(doc))"
   ]
  },
  {
   "cell_type": "code",
   "execution_count": 74,
   "id": "da004044",
   "metadata": {},
   "outputs": [],
   "source": [
    "def getMoney(text):\n",
    "    doc = nlp(text)\n",
    "    print(text)\n",
    "    matcher = Matcher(nlp.vocab)\n",
    "    pattern = [{\"IS_DIGIT\":True},{\"LEMMA\":\"boliviano\"}]\n",
    "    matcher.add(\"aux_verb_pattern\", [pattern])\n",
    "    matches = matcher(doc)\n",
    "    for match_id, start, end in matches:\n",
    "        return doc[start]"
   ]
  },
  {
   "cell_type": "code",
   "execution_count": 58,
   "id": "d807e9f9",
   "metadata": {},
   "outputs": [
    {
     "data": {
      "text/plain": [
       "0     500\n",
       "1     150\n",
       "2    None\n",
       "3     200\n",
       "4      9F\n",
       "Name: respuesta, dtype: object"
      ]
     },
     "execution_count": 58,
     "metadata": {},
     "output_type": "execute_result"
    }
   ],
   "source": [
    "mensajes[\"respuesta\"].apply(getMoney)"
   ]
  },
  {
   "cell_type": "code",
   "execution_count": 67,
   "id": "da149e07",
   "metadata": {},
   "outputs": [],
   "source": [
    "def getText(text):\n",
    "    doc = nlp(text)\n",
    "    return doc"
   ]
  },
  {
   "cell_type": "code",
   "execution_count": 68,
   "id": "c10731f5",
   "metadata": {},
   "outputs": [
    {
     "data": {
      "text/plain": [
       "0         (Reserva, aceptada, ,, son, 500, bolivianos)\n",
       "1    (Hemos, confirmado, su, reserva, ,, son, 150, ...\n",
       "2    (No, hay, problema, ,, lo, esperamos, en, otra...\n",
       "3    (Deberá, cancelar, 200, bolivianos, ,, reserva...\n",
       "4    (¿, El, asiento, 9F, o, el, 10A, ?, ambos, cue...\n",
       "Name: respuesta, dtype: object"
      ]
     },
     "execution_count": 68,
     "metadata": {},
     "output_type": "execute_result"
    }
   ],
   "source": [
    "mensajes[\"respuesta\"].apply(getText)"
   ]
  },
  {
   "cell_type": "code",
   "execution_count": 77,
   "id": "399bb9c8",
   "metadata": {},
   "outputs": [
    {
     "ename": "ValueError",
     "evalue": "[E1041] Expected a string, Doc, or bytes as input, but got: <class 'list'>",
     "output_type": "error",
     "traceback": [
      "\u001b[1;31m---------------------------------------------------------------------------\u001b[0m",
      "\u001b[1;31mValueError\u001b[0m                                Traceback (most recent call last)",
      "Input \u001b[1;32mIn [77]\u001b[0m, in \u001b[0;36m<cell line: 3>\u001b[1;34m()\u001b[0m\n\u001b[0;32m      1\u001b[0m sentences \u001b[38;5;241m=\u001b[39m mensajes[\u001b[38;5;124m\"\u001b[39m\u001b[38;5;124mrespuesta\u001b[39m\u001b[38;5;124m\"\u001b[39m]\u001b[38;5;241m.\u001b[39mtolist()\n\u001b[0;32m      2\u001b[0m sentences\n\u001b[1;32m----> 3\u001b[0m doc \u001b[38;5;241m=\u001b[39m \u001b[43mnlp\u001b[49m\u001b[43m(\u001b[49m\u001b[43msentences\u001b[49m\u001b[43m)\u001b[49m\n",
      "File \u001b[1;32m~\\anaconda3\\lib\\site-packages\\spacy\\language.py:1008\u001b[0m, in \u001b[0;36mLanguage.__call__\u001b[1;34m(self, text, disable, component_cfg)\u001b[0m\n\u001b[0;32m    987\u001b[0m \u001b[38;5;28;01mdef\u001b[39;00m \u001b[38;5;21m__call__\u001b[39m(\n\u001b[0;32m    988\u001b[0m     \u001b[38;5;28mself\u001b[39m,\n\u001b[0;32m    989\u001b[0m     text: Union[\u001b[38;5;28mstr\u001b[39m, Doc],\n\u001b[1;32m   (...)\u001b[0m\n\u001b[0;32m    992\u001b[0m     component_cfg: Optional[Dict[\u001b[38;5;28mstr\u001b[39m, Dict[\u001b[38;5;28mstr\u001b[39m, Any]]] \u001b[38;5;241m=\u001b[39m \u001b[38;5;28;01mNone\u001b[39;00m,\n\u001b[0;32m    993\u001b[0m ) \u001b[38;5;241m-\u001b[39m\u001b[38;5;241m>\u001b[39m Doc:\n\u001b[0;32m    994\u001b[0m     \u001b[38;5;124;03m\"\"\"Apply the pipeline to some text. The text can span multiple sentences,\u001b[39;00m\n\u001b[0;32m    995\u001b[0m \u001b[38;5;124;03m    and can contain arbitrary whitespace. Alignment into the original string\u001b[39;00m\n\u001b[0;32m    996\u001b[0m \u001b[38;5;124;03m    is preserved.\u001b[39;00m\n\u001b[1;32m   (...)\u001b[0m\n\u001b[0;32m   1006\u001b[0m \u001b[38;5;124;03m    DOCS: https://spacy.io/api/language#call\u001b[39;00m\n\u001b[0;32m   1007\u001b[0m \u001b[38;5;124;03m    \"\"\"\u001b[39;00m\n\u001b[1;32m-> 1008\u001b[0m     doc \u001b[38;5;241m=\u001b[39m \u001b[38;5;28;43mself\u001b[39;49m\u001b[38;5;241;43m.\u001b[39;49m\u001b[43m_ensure_doc\u001b[49m\u001b[43m(\u001b[49m\u001b[43mtext\u001b[49m\u001b[43m)\u001b[49m\n\u001b[0;32m   1009\u001b[0m     \u001b[38;5;28;01mif\u001b[39;00m component_cfg \u001b[38;5;129;01mis\u001b[39;00m \u001b[38;5;28;01mNone\u001b[39;00m:\n\u001b[0;32m   1010\u001b[0m         component_cfg \u001b[38;5;241m=\u001b[39m {}\n",
      "File \u001b[1;32m~\\anaconda3\\lib\\site-packages\\spacy\\language.py:1102\u001b[0m, in \u001b[0;36mLanguage._ensure_doc\u001b[1;34m(self, doc_like)\u001b[0m\n\u001b[0;32m   1100\u001b[0m \u001b[38;5;28;01mif\u001b[39;00m \u001b[38;5;28misinstance\u001b[39m(doc_like, \u001b[38;5;28mbytes\u001b[39m):\n\u001b[0;32m   1101\u001b[0m     \u001b[38;5;28;01mreturn\u001b[39;00m Doc(\u001b[38;5;28mself\u001b[39m\u001b[38;5;241m.\u001b[39mvocab)\u001b[38;5;241m.\u001b[39mfrom_bytes(doc_like)\n\u001b[1;32m-> 1102\u001b[0m \u001b[38;5;28;01mraise\u001b[39;00m \u001b[38;5;167;01mValueError\u001b[39;00m(Errors\u001b[38;5;241m.\u001b[39mE1041\u001b[38;5;241m.\u001b[39mformat(\u001b[38;5;28mtype\u001b[39m\u001b[38;5;241m=\u001b[39m\u001b[38;5;28mtype\u001b[39m(doc_like)))\n",
      "\u001b[1;31mValueError\u001b[0m: [E1041] Expected a string, Doc, or bytes as input, but got: <class 'list'>"
     ]
    }
   ],
   "source": [
    "sentences = mensajes[\"respuesta\"].tolist()"
   ]
  },
  {
   "cell_type": "code",
   "execution_count": 83,
   "id": "7f30076e",
   "metadata": {},
   "outputs": [
    {
     "name": "stdout",
     "output_type": "stream",
     "text": [
      "Reserva aceptada, son 500 bolivianos\n",
      "500\n",
      "confirmado\n",
      "Hemos confirmado su reserva, son 150 bolivianos\n",
      "150\n",
      "confirmado\n",
      "Deberá cancelar 200 bolivianos, reserva lista\n",
      "200\n",
      "confirmado\n"
     ]
    }
   ],
   "source": [
    "for sentence in sentences:\n",
    "    doc = nlp(sentence)\n",
    "    if (verificarLemmas(doc) == True):\n",
    "        print(getMoney(doc))\n",
    "        print(\"confirmado\")"
   ]
  },
  {
   "cell_type": "code",
   "execution_count": 85,
   "id": "414b7a3c",
   "metadata": {},
   "outputs": [
    {
     "name": "stdout",
     "output_type": "stream",
     "text": [
      "Reserva aceptada, son 500 bolivianos\n",
      "Hemos confirmado su reserva, son 150 bolivianos\n",
      "No hay problema, lo esperamos en otra oportunidad\n",
      "Deberá cancelar 200 bolivianos, reserva lista\n",
      "¿El asiento 9F o el 10A? ambos cuestan 310 boliviannos\n"
     ]
    }
   ],
   "source": [
    "dinero = mensajes[\"respuesta\"].apply(getMoney)"
   ]
  },
  {
   "cell_type": "code",
   "execution_count": null,
   "id": "e6cf696f",
   "metadata": {},
   "outputs": [],
   "source": [
    "def getMoney(text):\n",
    "    doc = nlp(text)\n",
    "    matcher = Matcher(nlp.vocab)\n",
    "    pattern = [{\"IS_DIGIT\":True},{\"LEMMA\":\"boliviano\"}]\n",
    "    matcher.add(\"aux_verb_pattern\", [pattern])\n",
    "    matches = matcher(doc)\n",
    "    for match_id, start, end in matches:\n",
    "        return doc[start]\n",
    "    return 0"
   ]
  },
  {
   "cell_type": "code",
   "execution_count": 86,
   "id": "41f13a16",
   "metadata": {},
   "outputs": [
    {
     "data": {
      "text/plain": [
       "0     500\n",
       "1     150\n",
       "2    None\n",
       "3     200\n",
       "4    None\n",
       "Name: respuesta, dtype: object"
      ]
     },
     "execution_count": 86,
     "metadata": {},
     "output_type": "execute_result"
    }
   ],
   "source": [
    "dinero"
   ]
  },
  {
   "cell_type": "code",
   "execution_count": null,
   "id": "38ac5a82",
   "metadata": {},
   "outputs": [],
   "source": []
  }
 ],
 "metadata": {
  "kernelspec": {
   "display_name": "Python 3 (ipykernel)",
   "language": "python",
   "name": "python3"
  },
  "language_info": {
   "codemirror_mode": {
    "name": "ipython",
    "version": 3
   },
   "file_extension": ".py",
   "mimetype": "text/x-python",
   "name": "python",
   "nbconvert_exporter": "python",
   "pygments_lexer": "ipython3",
   "version": "3.9.12"
  }
 },
 "nbformat": 4,
 "nbformat_minor": 5
}
