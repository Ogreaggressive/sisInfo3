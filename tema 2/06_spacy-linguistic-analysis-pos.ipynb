{
 "cells": [
  {
   "cell_type": "code",
   "execution_count": 1,
   "metadata": {},
   "outputs": [
    {
     "data": {
      "text/plain": [
       "'3.3.1'"
      ]
     },
     "execution_count": 1,
     "metadata": {},
     "output_type": "execute_result"
    }
   ],
   "source": [
    "import spacy\n",
    "spacy.__version__"
   ]
  },
  {
   "cell_type": "code",
   "execution_count": 2,
   "metadata": {},
   "outputs": [],
   "source": [
    "nlp = spacy.load(\"es_core_news_md\")"
   ]
  },
  {
   "cell_type": "markdown",
   "metadata": {},
   "source": [
    "# Análisis lingüístico\n"
   ]
  },
  {
   "cell_type": "markdown",
   "metadata": {},
   "source": [
    "## Etiquetado gramatical (POS tagging)\n",
    "Proceso en el que dado un texto, se asigna la __[categoría gramatical](https://es.wikipedia.org/wiki/Categor%C3%ADa_gramatical)__ a cada token (sustantivo, verbo, adjetivo, etc.),  tomando en cuenta el contexto de la palabra (una palabra puede variar su categoría gramatical dependiendo del contexto en el que aparece).\n",
    "\n",
    "- <code>Juan ha pescado un salmón</code>\n",
    "- <code>Juan come un pescado</code>\n",
    "\n",
    "\n",
    "El etiquetado gramatical puede ayudar a identificar la intención del usuario cuando la tokenización y la lematización no son suficientes. Por ejemplo, empleando sólamente lematización no es posible diferenciar entre estas dos oraciones\n",
    "- <code>Quise volar a Cocha</code>\n",
    "- <code>Quiero volar a Cocha</code>\n",
    "\n",
    "Luego de la lematización ambas oraciones resultarían en \"Querer volar a Cocha\"; sin embargo, sólo la segunda expresa la intención del cliente de reservar un boleto de avión a Cochabamba. Un análisis rápido revela que el tiempo del verbo es lo que permite establecer la diferencia.\n",
    "\n",
    "El etiquetado gramatical es extremadamente importante cuando se requiere identificar alguna entidad en una oración\n",
    "\n",
    "**Referencias**\n",
    "\n",
    "- __[Part-of-speech tagging](https://spacy.io/usage/linguistic-features#pos-tagging)__\n",
    "- __[SpaCy - MorphAnalysis class](https://spacy.io/api/morphology#morphanalysis)__\n",
    "- __[Universal POS tags](https://universaldependencies.org/u/pos/index.html)__"
   ]
  },
  {
   "cell_type": "code",
   "execution_count": 3,
   "metadata": {},
   "outputs": [
    {
     "name": "stdout",
     "output_type": "stream",
     "text": [
      "Juan (POS: PROPN / proper noun : \n",
      "[]\n",
      "ha (POS: AUX / auxiliary : Mood=Ind|Number=Sing|Person=3|Tense=Pres|VerbForm=Fin\n",
      "['Pres']\n",
      "pescado (POS: VERB / verb : Gender=Masc|Number=Sing|Tense=Past|VerbForm=Part\n",
      "['Past']\n",
      "un (POS: DET / determiner : Definite=Ind|Gender=Masc|Number=Sing|PronType=Art\n",
      "[]\n",
      "salmón (POS: NOUN / noun : Gender=Masc|Number=Sing\n",
      "[]\n"
     ]
    }
   ],
   "source": [
    "#Note que la categoría gramatical asociada a la palabra 'pescado' cambia dependiendo del contexto\n",
    "doc = nlp('Juan ha pescado un salmón')\n",
    "for token in doc:\n",
    "    print(f\"{token.text} (POS: {token.pos_} / {spacy.explain(token.pos_)} : {token.morph}\")\n",
    "    print(token.morph.get('Tense'))"
   ]
  },
  {
   "cell_type": "code",
   "execution_count": 11,
   "metadata": {},
   "outputs": [
    {
     "name": "stdout",
     "output_type": "stream",
     "text": [
      "Juan (POS: PROPN / proper noun : \n",
      "come (POS: VERB / verb : Mood=Ind|Number=Sing|Person=3|Tense=Past|VerbForm=Fin\n",
      "un (POS: DET / determiner : Definite=Ind|Gender=Masc|Number=Sing|PronType=Art\n",
      "pescado (POS: NOUN / noun : Gender=Masc|Number=Sing\n"
     ]
    }
   ],
   "source": [
    "doc = nlp('Juan come un pescado')\n",
    "for token in doc:\n",
    "    print(f\"{token.text} (POS: {token.pos_} / {spacy.explain(token.pos_)} : {token.morph}\")"
   ]
  },
  {
   "cell_type": "code",
   "execution_count": 12,
   "metadata": {},
   "outputs": [
    {
     "name": "stdout",
     "output_type": "stream",
     "text": [
      "Quise (POS: VERB / verb : Mood=Ind|Number=Sing|Person=1|Tense=Past|VerbForm=Fin\n",
      "volar (POS: VERB / verb : VerbForm=Inf\n",
      "a (POS: ADP / adposition : \n",
      "Cocha (POS: PROPN / proper noun : \n"
     ]
    }
   ],
   "source": [
    "doc = nlp('Quise volar a Cocha')\n",
    "for token in doc:\n",
    "    print(f\"{token.text} (POS: {token.pos_} / {spacy.explain(token.pos_)} : {token.morph}\")"
   ]
  },
  {
   "cell_type": "code",
   "execution_count": 13,
   "metadata": {},
   "outputs": [
    {
     "name": "stdout",
     "output_type": "stream",
     "text": [
      "Quiero (POS: VERB / verb : Mood=Ind|Number=Sing|Person=1|Tense=Pres|VerbForm=Fin\n",
      "volar (POS: VERB / verb : VerbForm=Inf\n",
      "a (POS: ADP / adposition : \n",
      "Cocha (POS: PROPN / proper noun : \n"
     ]
    }
   ],
   "source": [
    "doc = nlp('Quiero volar a Cocha')\n",
    "for token in doc:\n",
    "    print(f\"{token.text} (POS: {token.pos_} / {spacy.explain(token.pos_)} : {token.morph}\")"
   ]
  },
  {
   "cell_type": "markdown",
   "metadata": {},
   "source": [
    "### Ejercicios\n",
    "\n",
    "Empleando el etiquetado gramatical, agrupe las siguientes oraciones en dos categorías: reclamos y pedidos.\n",
    "\n",
    "- Volé a Lima hace tres días. Todavía no me enviaron la factura, por favor envíenla a la brevedad posible. \n",
    "- He volado a Lima esta mañana y olvidé mi laptop en el avión. Necesito recuperar mi laptop, por favor.\n",
    "- Estoy volando a Lima la siguiente semana. ¿Podría realizar una reserva?\n",
    "- Necesito volar a Lima. Tiene pasajes para el siguiente miércoles?\n"
   ]
  },
  {
   "cell_type": "code",
   "execution_count": 5,
   "metadata": {},
   "outputs": [
    {
     "name": "stdout",
     "output_type": "stream",
     "text": [
      "Volé (POS: VERB / verb : Mood=Ind|Number=Sing|Person=1|Tense=Past|VerbForm=Fin\n",
      "a (POS: ADP / adposition : \n",
      "Lima (POS: PROPN / proper noun : \n",
      "hace (POS: VERB / verb : Mood=Ind|Number=Sing|Person=3|Tense=Pres|VerbForm=Fin\n",
      "tres (POS: NUM / numeral : NumType=Card|Number=Plur\n",
      "días (POS: NOUN / noun : Gender=Masc|Number=Plur\n",
      ". (POS: PUNCT / punctuation : PunctType=Peri\n",
      "Todavía (POS: ADV / adverb : \n",
      "no (POS: ADV / adverb : Polarity=Neg\n",
      "me (POS: PRON / pronoun : Case=Dat|Number=Sing|Person=1|PrepCase=Npr|PronType=Prs\n",
      "enviaron (POS: VERB / verb : Mood=Ind|Number=Plur|Person=3|Tense=Past|VerbForm=Fin\n",
      "la (POS: DET / determiner : Definite=Def|Gender=Fem|Number=Sing|PronType=Art\n",
      "factura (POS: NOUN / noun : Gender=Fem|Number=Sing\n",
      ", (POS: PUNCT / punctuation : PunctType=Comm\n",
      "por (POS: ADP / adposition : \n",
      "favor (POS: NOUN / noun : \n",
      "envíenla (POS: NOUN / noun : Gender=Masc|Number=Sing\n",
      "a (POS: ADP / adposition : \n",
      "la (POS: DET / determiner : Definite=Def|Gender=Fem|Number=Sing|PronType=Art\n",
      "brevedad (POS: NOUN / noun : Gender=Fem|Number=Sing\n",
      "posible (POS: ADJ / adjective : Number=Sing\n",
      ". (POS: PUNCT / punctuation : PunctType=Peri\n"
     ]
    }
   ],
   "source": [
    "doc = nlp('Volé a Lima hace tres días. Todavía no me enviaron la factura, por favor envíenla a la brevedad posible.')\n",
    "for token in doc:\n",
    "    print(f\"{token.text} (POS: {token.pos_} / {spacy.explain(token.pos_)} : {token.morph}\")"
   ]
  },
  {
   "cell_type": "code",
   "execution_count": 6,
   "metadata": {},
   "outputs": [
    {
     "name": "stdout",
     "output_type": "stream",
     "text": [
      "He (POS: AUX / auxiliary : Mood=Ind|Number=Sing|Person=1|Tense=Pres|VerbForm=Fin\n",
      "volado (POS: VERB / verb : Gender=Masc|Number=Sing|Tense=Past|VerbForm=Part\n",
      "a (POS: ADP / adposition : \n",
      "Lima (POS: PROPN / proper noun : \n",
      "esta (POS: DET / determiner : Gender=Fem|Number=Sing|PronType=Dem\n",
      "mañana (POS: NOUN / noun : Gender=Fem|Number=Sing\n",
      "y (POS: CCONJ / coordinating conjunction : \n",
      "olvidé (POS: VERB / verb : Mood=Ind|Number=Sing|Person=3|Tense=Past|VerbForm=Fin\n",
      "mi (POS: DET / determiner : Number=Sing|Number[psor]=Sing|Person=1|Poss=Yes|PronType=Prs\n",
      "laptop (POS: PROPN / proper noun : \n",
      "en (POS: ADP / adposition : \n",
      "el (POS: DET / determiner : Definite=Def|Gender=Masc|Number=Sing|PronType=Art\n",
      "avión (POS: NOUN / noun : Gender=Masc|Number=Sing\n",
      ". (POS: PUNCT / punctuation : PunctType=Peri\n",
      "Necesito (POS: VERB / verb : Mood=Ind|Number=Sing|Person=1|Tense=Pres|VerbForm=Fin\n",
      "recuperar (POS: VERB / verb : VerbForm=Inf\n",
      "mi (POS: DET / determiner : Number=Sing|Number[psor]=Sing|Person=1|Poss=Yes|PronType=Prs\n",
      "laptop (POS: PROPN / proper noun : \n",
      ", (POS: PUNCT / punctuation : PunctType=Comm\n",
      "por (POS: ADP / adposition : \n",
      "favor (POS: NOUN / noun : \n",
      ". (POS: PUNCT / punctuation : PunctType=Peri\n"
     ]
    }
   ],
   "source": [
    "doc = nlp('He volado a Lima esta mañana y olvidé mi laptop en el avión. Necesito recuperar mi laptop, por favor.')\n",
    "for token in doc:\n",
    "    print(f\"{token.text} (POS: {token.pos_} / {spacy.explain(token.pos_)} : {token.morph}\")"
   ]
  },
  {
   "cell_type": "code",
   "execution_count": 7,
   "metadata": {},
   "outputs": [
    {
     "name": "stdout",
     "output_type": "stream",
     "text": [
      "Estoy (POS: AUX / auxiliary : Mood=Ind|Number=Sing|Person=1|Tense=Pres|VerbForm=Fin\n",
      "volando (POS: VERB / verb : VerbForm=Ger\n",
      "a (POS: ADP / adposition : \n",
      "Lima (POS: PROPN / proper noun : \n",
      "la (POS: DET / determiner : Definite=Def|Gender=Fem|Number=Sing|PronType=Art\n",
      "siguiente (POS: ADJ / adjective : Number=Sing\n",
      "semana (POS: NOUN / noun : Gender=Fem|Number=Sing\n",
      ". (POS: PUNCT / punctuation : PunctType=Peri\n",
      "¿ (POS: PUNCT / punctuation : PunctSide=Ini|PunctType=Qest\n",
      "Podría (POS: AUX / auxiliary : Mood=Cnd|Number=Sing|Person=3|VerbForm=Fin\n",
      "realizar (POS: VERB / verb : VerbForm=Inf\n",
      "una (POS: DET / determiner : Definite=Ind|Gender=Fem|Number=Sing|PronType=Art\n",
      "reserva (POS: NOUN / noun : Gender=Fem|Number=Sing\n",
      "? (POS: PUNCT / punctuation : PunctSide=Fin|PunctType=Qest\n"
     ]
    }
   ],
   "source": [
    "doc = nlp('Estoy volando a Lima la siguiente semana. ¿Podría realizar una reserva?')\n",
    "for token in doc:\n",
    "    print(f\"{token.text} (POS: {token.pos_} / {spacy.explain(token.pos_)} : {token.morph}\")"
   ]
  },
  {
   "cell_type": "code",
   "execution_count": 8,
   "metadata": {},
   "outputs": [
    {
     "name": "stdout",
     "output_type": "stream",
     "text": [
      "Necesito (POS: VERB / verb : Mood=Ind|Number=Sing|Person=1|Tense=Pres|VerbForm=Fin\n",
      "volar (POS: VERB / verb : VerbForm=Inf\n",
      "a (POS: ADP / adposition : \n",
      "Lima (POS: PROPN / proper noun : \n",
      ". (POS: PUNCT / punctuation : PunctType=Peri\n",
      "Tiene (POS: VERB / verb : Mood=Ind|Number=Sing|Person=3|Tense=Pres|VerbForm=Fin\n",
      "pasajes (POS: NOUN / noun : Gender=Masc|Number=Plur\n",
      "para (POS: ADP / adposition : \n",
      "el (POS: DET / determiner : Definite=Def|Gender=Masc|Number=Sing|PronType=Art\n",
      "siguiente (POS: ADJ / adjective : Number=Sing\n",
      "miércoles (POS: NOUN / noun : AdvType=Tim\n",
      "? (POS: PUNCT / punctuation : PunctSide=Fin|PunctType=Qest\n"
     ]
    }
   ],
   "source": [
    "doc = nlp('Necesito volar a Lima. Tiene pasajes para el siguiente miércoles?')\n",
    "for token in doc:\n",
    "    print(f\"{token.text} (POS: {token.pos_} / {spacy.explain(token.pos_)} : {token.morph}\")"
   ]
  },
  {
   "cell_type": "code",
   "execution_count": null,
   "metadata": {},
   "outputs": [],
   "source": []
  }
 ],
 "metadata": {
  "kernelspec": {
   "display_name": "Python 3 (ipykernel)",
   "language": "python",
   "name": "python3"
  },
  "language_info": {
   "codemirror_mode": {
    "name": "ipython",
    "version": 3
   },
   "file_extension": ".py",
   "mimetype": "text/x-python",
   "name": "python",
   "nbconvert_exporter": "python",
   "pygments_lexer": "ipython3",
   "version": "3.9.12"
  }
 },
 "nbformat": 4,
 "nbformat_minor": 4
}
