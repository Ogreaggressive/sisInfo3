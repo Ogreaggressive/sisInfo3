{
 "cells": [
  {
   "cell_type": "code",
   "execution_count": 18,
   "metadata": {},
   "outputs": [
    {
     "data": {
      "text/plain": [
       "'3.3.1'"
      ]
     },
     "execution_count": 18,
     "metadata": {},
     "output_type": "execute_result"
    }
   ],
   "source": [
    "import spacy\n",
    "spacy.__version__"
   ]
  },
  {
   "cell_type": "code",
   "execution_count": 19,
   "metadata": {},
   "outputs": [],
   "source": [
    "nlp = spacy.load(\"es_core_news_md\")"
   ]
  },
  {
   "cell_type": "markdown",
   "metadata": {},
   "source": [
    "# Análisis lingüístico\n"
   ]
  },
  {
   "cell_type": "markdown",
   "metadata": {},
   "source": [
    "### Reconocimiento de entidades nombradas (Named-entity recognition)\n",
    "\n",
    "El Reconocimiento de entidades nombradas (NER por sus siglas en inglés), también conocido como extracción de entidades, es una tarea de extracción de información que busca localizar y clasificar en categorías predefinidas, como personas, organizaciones, lugares, expresiones de tiempo y cantidades en un texto.\n",
    "\n",
    "La efectividad del NER depende en gran medida de __[los datos empleados para entrenar el algoritmo](https://catalog.ldc.upenn.edu/LDC2013T19)__ de extracción de entidades, por lo que podría no funcionar si el texto a procesar difiere mucho del corpus que se empleó para entrenar el modelo.\n",
    "\n",
    "spaCy incorpora un modelo de reconocimiento de entidades muy rápido; se puede acceder a estas entidades a través de la propiedad <code>.ents</code> del objeto <code>doc</code>.\n",
    "\n",
    "NER es un componente importante en el análisis semántico debido a que las entidades suelen estar vinculadas al mismo tópico. Por ejemplo, los nombres de presidentes suelen aparecen más temas relacionados a temas políticos.\n",
    "\n",
    "**Referencias**\n",
    "- __[Spacy - Named Entity Recognition](https://spacy.io/usage/linguistic-features#named-entities)__\n",
    "- __[Spacy - Displacy Ent](https://explosion.ai/demos/displacy-ent/)__"
   ]
  },
  {
   "cell_type": "code",
   "execution_count": 22,
   "metadata": {},
   "outputs": [
    {
     "data": {
      "text/plain": [
       "'Countries, cities, states'"
      ]
     },
     "execution_count": 22,
     "metadata": {},
     "output_type": "execute_result"
    }
   ],
   "source": [
    "spacy.explain(\"GPE\")"
   ]
  },
  {
   "cell_type": "code",
   "execution_count": 20,
   "metadata": {},
   "outputs": [
    {
     "name": "stdout",
     "output_type": "stream",
     "text": [
      "Esteban PER\n",
      "Arze PER\n",
      "Tarata LOC\n"
     ]
    }
   ],
   "source": [
    "doc = nlp('Esteban Arze nació en Tarata')\n",
    "for token in doc:\n",
    "  if token.ent_type != 0:\n",
    "    print(token.text, token.ent_type_)"
   ]
  },
  {
   "cell_type": "code",
   "execution_count": 23,
   "metadata": {},
   "outputs": [
    {
     "name": "stdout",
     "output_type": "stream",
     "text": [
      "Esteban Arze PER\n",
      "Tarata LOC\n"
     ]
    }
   ],
   "source": [
    "for ent in doc.ents:\n",
    "    # print the entity text and its label\n",
    "    print(ent.text, ent.label_)"
   ]
  },
  {
   "cell_type": "code",
   "execution_count": 24,
   "metadata": {},
   "outputs": [
    {
     "name": "stdout",
     "output_type": "stream",
     "text": [
      "Buenos LOC\n",
      "Aires LOC\n"
     ]
    }
   ],
   "source": [
    "doc = nlp('Quiero volar a Buenos Aires')\n",
    "for token in doc:\n",
    "  if token.ent_type != 0:\n",
    "    print(token.text, token.ent_type_)"
   ]
  },
  {
   "cell_type": "code",
   "execution_count": 25,
   "metadata": {},
   "outputs": [
    {
     "name": "stdout",
     "output_type": "stream",
     "text": [
      "Buenos Aires LOC\n"
     ]
    }
   ],
   "source": [
    "for ent in doc.ents:\n",
    "    # print the entity text and its label\n",
    "    print(ent.text, ent.label_)"
   ]
  },
  {
   "cell_type": "code",
   "execution_count": 26,
   "metadata": {},
   "outputs": [
    {
     "name": "stdout",
     "output_type": "stream",
     "text": [
      "Joe PER\n",
      "Biden PER\n",
      "París LOC\n",
      "Francia LOC\n"
     ]
    }
   ],
   "source": [
    "doc = nlp('El presidente Joe Biden visitó París, la capital de Francia')\n",
    "for token in doc:\n",
    "  if token.ent_type != 0:\n",
    "    print(token.text, token.ent_type_)"
   ]
  },
  {
   "cell_type": "code",
   "execution_count": 27,
   "metadata": {},
   "outputs": [
    {
     "name": "stdout",
     "output_type": "stream",
     "text": [
      "Joe Biden PER\n",
      "París LOC\n",
      "Francia LOC\n"
     ]
    }
   ],
   "source": [
    "doc = nlp('El presidente Joe Biden visitó París, la capital de Francia')\n",
    "for ent in doc.ents:\n",
    "    # print the entity text and its label\n",
    "    print(ent.text, ent.label_)"
   ]
  },
  {
   "cell_type": "code",
   "execution_count": 28,
   "metadata": {},
   "outputs": [
    {
     "name": "stdout",
     "output_type": "stream",
     "text": [
      "NASA ORG\n"
     ]
    }
   ],
   "source": [
    "doc = nlp('Trabajó en la NASA')\n",
    "for ent in doc.ents:\n",
    "    # print the entity text and its label\n",
    "    print(ent.text, ent.label_)"
   ]
  },
  {
   "cell_type": "code",
   "execution_count": 29,
   "metadata": {},
   "outputs": [
    {
     "data": {
      "text/plain": [
       "'Countries, cities, states'"
      ]
     },
     "execution_count": 29,
     "metadata": {},
     "output_type": "execute_result"
    }
   ],
   "source": [
    "spacy.explain(\"GPE\")"
   ]
  },
  {
   "cell_type": "markdown",
   "metadata": {},
   "source": [
    "# EntityRuler\n",
    "\n",
    "Es un elemento que se puede agregar al pipeline de procesamiento y permite agregar nuevas entidades."
   ]
  },
  {
   "cell_type": "code",
   "execution_count": 31,
   "metadata": {},
   "outputs": [
    {
     "name": "stdout",
     "output_type": "stream",
     "text": [
      "ciudad NOUN Gender=Fem|Number=Sing\n",
      "de ADP \n",
      "los DET Definite=Def|Gender=Masc|Number=Plur|PronType=Art\n",
      "cuatro NUM NumType=Card|Number=Plur\n",
      "nombres NOUN Gender=Masc|Number=Plur\n"
     ]
    }
   ],
   "source": [
    "doc = nlp(\"ciudad de los cuatro nombres\")\n",
    "for token in doc:\n",
    "    print(f\"{token.text} {token.pos_} {token.morph}\")"
   ]
  },
  {
   "cell_type": "code",
   "execution_count": 32,
   "metadata": {},
   "outputs": [
    {
     "name": "stdout",
     "output_type": "stream",
     "text": [
      "ciudad NOUN Gender=Fem|Number=Sing\n",
      "de ADP \n",
      "los DET Definite=Def|Gender=Masc|Number=Plur|PronType=Art\n",
      "4 NUM NumForm=Digit|NumType=Card\n",
      "nombres NOUN Gender=Masc|Number=Plur\n"
     ]
    }
   ],
   "source": [
    "doc = nlp(\"ciudad de los 4 nombres\")\n",
    "for token in doc:\n",
    "    print(f\"{token.text} {token.pos_} {token.morph}\")"
   ]
  },
  {
   "cell_type": "code",
   "execution_count": 33,
   "metadata": {},
   "outputs": [
    {
     "name": "stdout",
     "output_type": "stream",
     "text": [
      "Casa de Campo LOC\n"
     ]
    }
   ],
   "source": [
    "#Los nombre de la ciudad de los 4 nombres \n",
    "#“Charcas” hasta 1538, \n",
    "#“La Plata” desde 1538 a 1776, \n",
    "#“Chuquisaca” de 1776 a 1825, \n",
    "#“Sucre” desde el año 1825 hasta hoy en día\n",
    "\n",
    "doc = nlp(\"El restaurante Casa de Campo abre una sucursal en la ciudad de los cuatro nombres\")\n",
    "for ent in doc.ents:\n",
    "    # print the entity text and its label\n",
    "    print(ent.text, ent.label_)"
   ]
  },
  {
   "cell_type": "code",
   "execution_count": 34,
   "metadata": {},
   "outputs": [
    {
     "name": "stdout",
     "output_type": "stream",
     "text": [
      "Casa de Campo LOC\n",
      "ciudad de los cuatro nombres GPE\n"
     ]
    }
   ],
   "source": [
    "ruler = nlp.add_pipe(\"entity_ruler\")\n",
    "pattern = [{\"label\": \"GPE\", \"pattern\": [{\"LOWER\": \"ciudad\"}, {\"LOWER\": \"de\"}, {\"LOWER\": \"los\"},  {\"POS\": \"NUM\"}, {\"LOWER\": \"nombres\"}]}]\n",
    "ruler.add_patterns(pattern)\n",
    "\n",
    "doc = nlp(\"El restaurante Casa de Campo abre una sucursal en la ciudad de los cuatro nombres\")\n",
    "for ent in doc.ents:\n",
    "    # print the entity text and its label\n",
    "    print(ent.text, ent.label_)"
   ]
  },
  {
   "cell_type": "code",
   "execution_count": 16,
   "metadata": {},
   "outputs": [
    {
     "data": {
      "text/plain": [
       "'Countries, cities, states'"
      ]
     },
     "execution_count": 16,
     "metadata": {},
     "output_type": "execute_result"
    }
   ],
   "source": [
    "spacy.explain(\"GPE\")"
   ]
  },
  {
   "cell_type": "code",
   "execution_count": 17,
   "metadata": {},
   "outputs": [],
   "source": [
    "#https://realpython.com/natural-language-processing-spacy-python/#verb-phrase-detection\n",
    "#spaCy has no built-in functionality to extract verb phrases, so you’ll need a library called textacy."
   ]
  },
  {
   "cell_type": "code",
   "execution_count": null,
   "metadata": {},
   "outputs": [],
   "source": []
  }
 ],
 "metadata": {
  "kernelspec": {
   "display_name": "Python 3 (ipykernel)",
   "language": "python",
   "name": "python3"
  },
  "language_info": {
   "codemirror_mode": {
    "name": "ipython",
    "version": 3
   },
   "file_extension": ".py",
   "mimetype": "text/x-python",
   "name": "python",
   "nbconvert_exporter": "python",
   "pygments_lexer": "ipython3",
   "version": "3.9.12"
  }
 },
 "nbformat": 4,
 "nbformat_minor": 4
}
