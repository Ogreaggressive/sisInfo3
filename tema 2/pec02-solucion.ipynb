{
 "cells": [
  {
   "cell_type": "code",
   "execution_count": 148,
   "id": "088cf064",
   "metadata": {},
   "outputs": [],
   "source": [
    "#Habilitar intellisense\"\n",
    "%config IPCompleter.greedy = True"
   ]
  },
  {
   "cell_type": "markdown",
   "id": "37a084ec",
   "metadata": {},
   "source": [
    "- Completar los nombres de los integrantes del grupo\n",
    "- Pueden agregar más celdas para elaborar las respuestas (crear funciones de apoyo, definir resultados intermedios, etc)\n",
    "- Pueden apoyarse en búsquedas en internet y/o los notebooks para resolver los ejercicios.\n",
    "- *La expresividad y claridad del código serán tomadas en cuenta*.\n",
    "- Al finalizar, deberán enviar el notebook a jrocabado.t@ucb.edu.bo (**un** correo por grupo)\n",
    "- **Cada 5 minutos de retraso en la entrega se penalizará con 2 puntos. Si se envían múltiples correos sólo se tomará en cuenta el último.** "
   ]
  },
  {
   "cell_type": "code",
   "execution_count": 149,
   "id": "ab070551",
   "metadata": {},
   "outputs": [],
   "source": [
    "# Integrantes del grupo\n"
   ]
  },
  {
   "cell_type": "markdown",
   "id": "7939fac1",
   "metadata": {},
   "source": [
    "**Las conversaciones con los clientes que realizaron pedidos a un restaurante están registradas en el dataframe ```pedidos```; el restaurante necesita extraer los siguientes datos de esas conversaciones en otro dataframe:**\n",
    "\n",
    "- ```categoria```, valores posibles: ```venta```, ```consulta```\n",
    "- ```importe_bs```, el importe (numérico o literal) en bolivianos cuando se haya realizado una venta. Si no se ha realizado una venta el importe es cero.\n",
    "- ```item```, el item que se ha vendido (Ej. hamburguesas, sillpanchos, etc ). Si no se ha realizado una venta el item es ```ninguno```"
   ]
  },
  {
   "cell_type": "code",
   "execution_count": 150,
   "id": "10d95fee",
   "metadata": {},
   "outputs": [],
   "source": [
    "import numpy as np\n",
    "import pandas as pd\n",
    "import spacy\n",
    "from spacy import displacy\n",
    "nlp = spacy.load(\"es_core_news_md\")"
   ]
  },
  {
   "cell_type": "code",
   "execution_count": 151,
   "id": "81461cb4",
   "metadata": {},
   "outputs": [
    {
     "data": {
      "text/html": [
       "<div>\n",
       "<style scoped>\n",
       "    .dataframe tbody tr th:only-of-type {\n",
       "        vertical-align: middle;\n",
       "    }\n",
       "\n",
       "    .dataframe tbody tr th {\n",
       "        vertical-align: top;\n",
       "    }\n",
       "\n",
       "    .dataframe thead th {\n",
       "        text-align: right;\n",
       "    }\n",
       "</style>\n",
       "<table border=\"1\" class=\"dataframe\">\n",
       "  <thead>\n",
       "    <tr style=\"text-align: right;\">\n",
       "      <th></th>\n",
       "      <th>cliente</th>\n",
       "      <th>restaurante</th>\n",
       "    </tr>\n",
       "  </thead>\n",
       "  <tbody>\n",
       "    <tr>\n",
       "      <th>0</th>\n",
       "      <td>¿Todavía tiene pizza americana?</td>\n",
       "      <td>Sí</td>\n",
       "    </tr>\n",
       "    <tr>\n",
       "      <th>1</th>\n",
       "      <td>Queremos dos hamburguesas dobles</td>\n",
       "      <td>Ok, son 70 Bs.</td>\n",
       "    </tr>\n",
       "    <tr>\n",
       "      <th>2</th>\n",
       "      <td>¿Todavía están recibiendo pedidos?</td>\n",
       "      <td>Así es, atenderemos media hora más</td>\n",
       "    </tr>\n",
       "    <tr>\n",
       "      <th>3</th>\n",
       "      <td>Por favor, envíen dos sillpanchos especiales</td>\n",
       "      <td>Ok, le enviaremos la factura por 40 bolivianos</td>\n",
       "    </tr>\n",
       "    <tr>\n",
       "      <th>4</th>\n",
       "      <td>Por favor, envíen</td>\n",
       "      <td>Perdón, ¿enviar qué?</td>\n",
       "    </tr>\n",
       "    <tr>\n",
       "      <th>5</th>\n",
       "      <td>Queremos un pique especial</td>\n",
       "      <td>Son cien Bs., le enviaremos en 10 minutos</td>\n",
       "    </tr>\n",
       "    <tr>\n",
       "      <th>6</th>\n",
       "      <td>Pique especial</td>\n",
       "      <td>No entiendo, ¿quiere realizar un pedido?</td>\n",
       "    </tr>\n",
       "  </tbody>\n",
       "</table>\n",
       "</div>"
      ],
      "text/plain": [
       "                                        cliente  \\\n",
       "0               ¿Todavía tiene pizza americana?   \n",
       "1              Queremos dos hamburguesas dobles   \n",
       "2            ¿Todavía están recibiendo pedidos?   \n",
       "3  Por favor, envíen dos sillpanchos especiales   \n",
       "4                             Por favor, envíen   \n",
       "5                    Queremos un pique especial   \n",
       "6                                Pique especial   \n",
       "\n",
       "                                      restaurante  \n",
       "0                                              Sí  \n",
       "1                                  Ok, son 70 Bs.  \n",
       "2              Así es, atenderemos media hora más  \n",
       "3  Ok, le enviaremos la factura por 40 bolivianos  \n",
       "4                            Perdón, ¿enviar qué?  \n",
       "5       Son cien Bs., le enviaremos en 10 minutos  \n",
       "6        No entiendo, ¿quiere realizar un pedido?  "
      ]
     },
     "execution_count": 151,
     "metadata": {},
     "output_type": "execute_result"
    }
   ],
   "source": [
    "pedidos = pd.read_csv(\"log_pedidos.csv\")\n",
    "pedidos"
   ]
  },
  {
   "cell_type": "markdown",
   "id": "c24efc35",
   "metadata": {},
   "source": [
    "**Funciones de extracción**"
   ]
  },
  {
   "cell_type": "code",
   "execution_count": 152,
   "id": "ee19d2f0",
   "metadata": {},
   "outputs": [],
   "source": [
    "from spacy.matcher import Matcher\n",
    "#Add more lemmas as required\n",
    "ORDER_VERBS_LEMMAS = [\"querer\", \"enviar\", \"pedir\", \"comprar\"]\n",
    "nlp.get_pipe('attribute_ruler').add([[{\"LOWER\":\"envíen\"}]],{\"LEMMA\":\"enviar\"})\n",
    "nlp.get_pipe('attribute_ruler').add([[{\"TEXT\":\"Bs\"}]],{\"LEMMA\":\"boliviano\"})\n",
    "\n",
    "def has_question_mark(doc):\n",
    "    return len([ t for t in doc if \"PunctType=Qest\" in t.morph]) > 0\n",
    "\n",
    "\n",
    "def extract_item(doc):\n",
    "    nouns = [t for t in doc if \"NOUN\" == t.pos_]\n",
    "    nouns_with_order_verb_as_parent = [t for t in nouns if \"VERB\" == t.head.pos_ and t.head.lemma_ in ORDER_VERBS_LEMMAS ]\n",
    "    return nouns_with_order_verb_as_parent[0] if len(nouns_with_order_verb_as_parent) > 0 else None\n",
    "    \n",
    "def extract_order_item(client_message):\n",
    "    doc = nlp(client_message)\n",
    "    return None if has_question_mark(doc) else extract_item(doc)\n",
    "\n",
    "\n",
    "def extract_category(client_message):    \n",
    "    order_item = extract_order_item(client_message)\n",
    "\n",
    "    return \"consulta\" if order_item is None else \"venta\"\n",
    "    \n",
    "def extract_bs_amount(restaurant_answer):\n",
    "    doc = nlp(restaurant_answer)\n",
    "    matcher = Matcher(nlp.vocab)\n",
    "    pattern = [{\"LIKE_NUM\":True},{\"LEMMA\":\"boliviano\"}]\n",
    "    matcher.add(\"bs_amount_pattern\", [pattern])\n",
    "    matches = matcher(doc)\n",
    "    for match_id, start, end in matches:\n",
    "        return doc[start].text    \n",
    "    \n",
    "    \n",
    "def extract_paid_amount(order_row):\n",
    "    client_message = order_row[\"cliente\"]\n",
    "    restaurant_answer = order_row[\"restaurante\"]\n",
    "    category = extract_category(client_message)\n",
    "    return 0 if \"consulta\" == category else extract_bs_amount(restaurant_answer)\n",
    "\n",
    "\n",
    "def extract_ordered_item(order_row):\n",
    "    client_message = order_row[\"cliente\"]\n",
    "    category = extract_category(client_message)\n",
    "    return \"ninguno\" if \"consulta\" == category else extract_order_item(client_message)\n",
    "    "
   ]
  },
  {
   "cell_type": "markdown",
   "id": "6739dca1",
   "metadata": {},
   "source": [
    "**Extracción de datos**"
   ]
  },
  {
   "cell_type": "code",
   "execution_count": 153,
   "id": "7c933bb9",
   "metadata": {},
   "outputs": [
    {
     "data": {
      "text/plain": [
       "0    consulta\n",
       "1       venta\n",
       "2    consulta\n",
       "3       venta\n",
       "4    consulta\n",
       "5       venta\n",
       "6    consulta\n",
       "Name: cliente, dtype: object"
      ]
     },
     "execution_count": 153,
     "metadata": {},
     "output_type": "execute_result"
    }
   ],
   "source": [
    "category = pedidos[\"cliente\"].apply(extract_category)\n",
    "category"
   ]
  },
  {
   "cell_type": "code",
   "execution_count": 154,
   "id": "245ee9c6",
   "metadata": {},
   "outputs": [
    {
     "data": {
      "text/plain": [
       "0       0\n",
       "1      70\n",
       "2       0\n",
       "3      40\n",
       "4       0\n",
       "5    cien\n",
       "6       0\n",
       "dtype: object"
      ]
     },
     "execution_count": 154,
     "metadata": {},
     "output_type": "execute_result"
    }
   ],
   "source": [
    "paid_amount = pedidos.apply(extract_paid_amount,axis='columns')\n",
    "paid_amount"
   ]
  },
  {
   "cell_type": "code",
   "execution_count": 155,
   "id": "297d3a85",
   "metadata": {},
   "outputs": [
    {
     "data": {
      "text/plain": [
       "0         ninguno\n",
       "1    hamburguesas\n",
       "2         ninguno\n",
       "3     sillpanchos\n",
       "4         ninguno\n",
       "5           pique\n",
       "6         ninguno\n",
       "dtype: object"
      ]
     },
     "execution_count": 155,
     "metadata": {},
     "output_type": "execute_result"
    }
   ],
   "source": [
    "ordered_item = pedidos.apply(extract_ordered_item,axis='columns')\n",
    "ordered_item"
   ]
  },
  {
   "cell_type": "code",
   "execution_count": 156,
   "id": "af5633b6",
   "metadata": {},
   "outputs": [
    {
     "data": {
      "text/html": [
       "<div>\n",
       "<style scoped>\n",
       "    .dataframe tbody tr th:only-of-type {\n",
       "        vertical-align: middle;\n",
       "    }\n",
       "\n",
       "    .dataframe tbody tr th {\n",
       "        vertical-align: top;\n",
       "    }\n",
       "\n",
       "    .dataframe thead th {\n",
       "        text-align: right;\n",
       "    }\n",
       "</style>\n",
       "<table border=\"1\" class=\"dataframe\">\n",
       "  <thead>\n",
       "    <tr style=\"text-align: right;\">\n",
       "      <th></th>\n",
       "      <th>categoria</th>\n",
       "      <th>importe_bs</th>\n",
       "      <th>item</th>\n",
       "    </tr>\n",
       "  </thead>\n",
       "  <tbody>\n",
       "    <tr>\n",
       "      <th>0</th>\n",
       "      <td>consulta</td>\n",
       "      <td>0</td>\n",
       "      <td>ninguno</td>\n",
       "    </tr>\n",
       "    <tr>\n",
       "      <th>1</th>\n",
       "      <td>venta</td>\n",
       "      <td>70</td>\n",
       "      <td>hamburguesas</td>\n",
       "    </tr>\n",
       "    <tr>\n",
       "      <th>2</th>\n",
       "      <td>consulta</td>\n",
       "      <td>0</td>\n",
       "      <td>ninguno</td>\n",
       "    </tr>\n",
       "    <tr>\n",
       "      <th>3</th>\n",
       "      <td>venta</td>\n",
       "      <td>40</td>\n",
       "      <td>sillpanchos</td>\n",
       "    </tr>\n",
       "    <tr>\n",
       "      <th>4</th>\n",
       "      <td>consulta</td>\n",
       "      <td>0</td>\n",
       "      <td>ninguno</td>\n",
       "    </tr>\n",
       "    <tr>\n",
       "      <th>5</th>\n",
       "      <td>venta</td>\n",
       "      <td>cien</td>\n",
       "      <td>pique</td>\n",
       "    </tr>\n",
       "    <tr>\n",
       "      <th>6</th>\n",
       "      <td>consulta</td>\n",
       "      <td>0</td>\n",
       "      <td>ninguno</td>\n",
       "    </tr>\n",
       "  </tbody>\n",
       "</table>\n",
       "</div>"
      ],
      "text/plain": [
       "  categoria importe_bs          item\n",
       "0  consulta          0       ninguno\n",
       "1     venta         70  hamburguesas\n",
       "2  consulta          0       ninguno\n",
       "3     venta         40   sillpanchos\n",
       "4  consulta          0       ninguno\n",
       "5     venta       cien         pique\n",
       "6  consulta          0       ninguno"
      ]
     },
     "execution_count": 156,
     "metadata": {},
     "output_type": "execute_result"
    }
   ],
   "source": [
    "extracted_order_data = pd.DataFrame({\"categoria\":category, \"importe_bs\":paid_amount, \"item\": ordered_item})\n",
    "extracted_order_data"
   ]
  },
  {
   "cell_type": "code",
   "execution_count": null,
   "id": "7f3f05b8",
   "metadata": {},
   "outputs": [],
   "source": []
  }
 ],
 "metadata": {
  "kernelspec": {
   "display_name": "Python 3 (ipykernel)",
   "language": "python",
   "name": "python3"
  },
  "language_info": {
   "codemirror_mode": {
    "name": "ipython",
    "version": 3
   },
   "file_extension": ".py",
   "mimetype": "text/x-python",
   "name": "python",
   "nbconvert_exporter": "python",
   "pygments_lexer": "ipython3",
   "version": "3.8.13"
  }
 },
 "nbformat": 4,
 "nbformat_minor": 5
}
