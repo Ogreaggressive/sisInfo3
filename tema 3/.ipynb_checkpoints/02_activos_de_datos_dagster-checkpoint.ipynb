{
 "cells": [
  {
   "cell_type": "markdown",
   "id": "d8b20094",
   "metadata": {},
   "source": [
    "# Componentes básicos de un proyecto Dagster\n",
    "\n",
    "Dagster define una serie de asbtracciones fundamentales para diseñar y desarrollar aplicaciones de datos. \n",
    "\n",
    "## Activos de datos (data assets)\n",
    "\n",
    "Un activo de datos es un objeto en almacenamiento persistente que es relevante para la aplicación (archivos, reportes, bases de datos, modelos predictivos) y se define de manera tal que se vincula el activo con la función (*Op*) y los activos requeridos para producir su contenido. La definición de los activos y sus relaciones es información sobre cómo generar dichos activos. \n",
    "\n",
    "**Materializar** un activo es el acto de ejecutar su *Op* y guardar los resultados en almacenamiento persistente. Por defecto, los activos se materializan en archivos pickle en el sistema de archivos local, pero el comportamiento de la materialización se puede personalizar completamente usando gestores de entrada/salida.\n",
    "\n",
    "\n",
    "[Ejemplos](https://docs.dagster.io/concepts/assets/software-defined-assets#assets-with-dependencies) en la documentación de Dagster.\n",
    "\n",
    "\n",
    "\n",
    "<img src=\"05_data-asset-materialization.png\" width=\"800px\"/>\n"
   ]
  },
  {
   "cell_type": "markdown",
   "id": "5e79343b",
   "metadata": {},
   "source": [
    "## Dagit - la consola de admistración de Dagster\n",
    "\n",
    "- Ver las relaciones entre activos (lineage)\n",
    "- Materializar algunos o todos los activos de un grafo\n",
    "- Ver información sobre las ejecuciones empleadas para materializar activos"
   ]
  },
  {
   "cell_type": "markdown",
   "id": "c51d3315",
   "metadata": {},
   "source": [
    "## Por defecto, los activos de materializan en formato pickle"
   ]
  },
  {
   "cell_type": "code",
   "execution_count": 2,
   "id": "eefa43fd",
   "metadata": {},
   "outputs": [
    {
     "data": {
      "text/plain": [
       "[{'nombre': 'Casa de Campo',\n",
       "  'especialidades': ['Pique Macho', 'Pique Lobo', 'Picantes'],\n",
       "  'telefono': '4243937',\n",
       "  'direccion': {'calle': 'Pasaje Boulevard de la Recoleta', 'numero': '618'}},\n",
       " {'nombre': 'Doña Fely',\n",
       "  'especialidades': ['Chorizo Chuquisaqueño',\n",
       "   'Puchero',\n",
       "   'Ranga',\n",
       "   'Fricase',\n",
       "   'Menudito',\n",
       "   'Picantes'],\n",
       "  'telefono': '4582972',\n",
       "  'direccion': {'calle': 'Tumusla entre Calama y Ladislao Cabrera',\n",
       "   'numero': '544'}},\n",
       " {'nombre': 'Doña Pola',\n",
       "  'especialidades': ['Escabeche', 'Enrollado', 'Chicharrón', 'Humintas'],\n",
       "  'telefono': '4281015',\n",
       "  'direccion': {'calle': 'Av. América esq. Av. Gualberto Villarroel',\n",
       "   'numero': '275'}},\n",
       " {'nombre': 'Jacarandá',\n",
       "  'especialidades': ['Pique Macho', 'Charque', 'Picante de Lengua'],\n",
       "  'telefono': '4286424',\n",
       "  'direccion': {'calle': 'Av. Tadeo Haenke', 'numero': '2150'}},\n",
       " {'nombre': 'La Gaviota',\n",
       "  'especialidades': ['Buffet Criollo',\n",
       "   'Intendente',\n",
       "   'Matambre',\n",
       "   'Picante de Lengua',\n",
       "   'Habas Pejtu',\n",
       "   'Plato del Bicentenario'],\n",
       "  'telefono': '4424497',\n",
       "  'direccion': {'calle': 'C. Azanaqueo. Av. América Oeste final',\n",
       "   'numero': '1000'}},\n",
       " {'nombre': 'Felicidad',\n",
       "  'especialidades': ['Fideos Uchu', 'Picante de Pollo', 'Variedad de Chichas'],\n",
       "  'telefono': '4446591',\n",
       "  'direccion': {'calle': 'Av. Beneméritos del Chaco, lado puente Killman'}},\n",
       " {'nombre': 'Tunari',\n",
       "  'especialidades': ['Chorizo Criollo',\n",
       "   'Ranga',\n",
       "   'Sopa de maní',\n",
       "   'Riñón',\n",
       "   'Lomo'],\n",
       "  'telefono': '4528588',\n",
       "  'direccion': {'calle': 'Av. Ballivian', 'numero': '676'}},\n",
       " {'nombre': 'Miraflores',\n",
       "  'especialidades': ['Pique Macho', 'Lechón'],\n",
       "  'telefono': '4248780',\n",
       "  'direccion': {'calle': 'c. Tarija casi Av. Aniceto Padilla'}},\n",
       " {'nombre': 'Todo al Horno',\n",
       "  'especialidades': ['Lechon', 'Pato', 'Pollo', 'Pavo al horno'],\n",
       "  'telefono': '4409347',\n",
       "  'direccion': {'calle': 'Av. Melchor Pérez de Olguín esq. Nueva Castilla',\n",
       "   'numero': '2114'}},\n",
       " {'nombre': 'El Palmar',\n",
       "  'especialidades': ['Lapping', 'Pampaku'],\n",
       "  'telefono': '4246224',\n",
       "  'direccion': {'calle': 'c. Man Césped entre Tarcos y Algarrobos',\n",
       "   'numero': '549'}}]"
      ]
     },
     "execution_count": 2,
     "metadata": {},
     "output_type": "execute_result"
    }
   ],
   "source": [
    "import pickle\n",
    "\n",
    "with open(r\"C:\\Tareas\\2022\\SisInfo3\\dagster\\dagster-data-app\\tmpfot5a04q\\storage\\restaurants\", \"rb\") as data_asset_pickle_file:\n",
    "    data_asset = pickle.load(data_asset_pickle_file)\n",
    "\n",
    "data_asset"
   ]
  },
  {
   "cell_type": "markdown",
   "id": "3f65f270",
   "metadata": {},
   "source": [
    "## Dependencias entre activos de datos"
   ]
  },
  {
   "cell_type": "code",
   "execution_count": 5,
   "id": "d7e8c5d1",
   "metadata": {},
   "outputs": [
    {
     "data": {
      "text/plain": [
       "'100% Bran'"
      ]
     },
     "execution_count": 5,
     "metadata": {},
     "output_type": "execute_result"
    }
   ],
   "source": [
    "#cereals -> nabisco_cereals\n",
    "with open(r\"C:\\Tareas\\2022\\SisInfo3\\dagster\\dagster-data-app\\tmpfot5a04q\\storage\\restaurants\", \"rb\") as data_asset_pickle_file:\n",
    "    data_asset = pickle.load(data_asset_pickle_file)\n",
    "\n",
    "data_asset"
   ]
  },
  {
   "cell_type": "code",
   "execution_count": null,
   "id": "28fe56ae",
   "metadata": {},
   "outputs": [],
   "source": [
    "#cereals -> nabisco_cereals\n",
    "with open(r\"C:\\Tareas\\2022\\SisInfo3\\dagster\\dagster-data-app\\tmpfot5a04q\\storage\\restaurants\", \"rb\") as data_asset_pickle_file:\n",
    "    data_asset = pickle.load(data_asset_pickle_file)\n",
    "\n",
    "data_asset"
   ]
  },
  {
   "cell_type": "markdown",
   "id": "99794d24",
   "metadata": {},
   "source": [
    "## Ejercicio\n",
    "\n",
    "Crear un grafo de activos que para obtener los siguientes resultados a partir de la lista de diccionarios ```restaurantes```.\n",
    "\n",
    "- lista de restaurantes con más de 5 especialidades\n",
    "- lista de restaurantes que están en una Avenida\n",
    "- lista de restaurantes que NO tienen un número en los datos de la dirección"
   ]
  },
  {
   "cell_type": "code",
   "execution_count": 2,
   "id": "5f1f112e",
   "metadata": {},
   "outputs": [],
   "source": [
    "restaurantes =[\n",
    "\t{\n",
    "\t\t\"nombre\": \"Casa de Campo\",\n",
    "\t\t\"especialidades\": [\n",
    "\t\t\t\"Pique Macho\",\n",
    "\t\t\t\"Pique Lobo\",\n",
    "\t\t\t\"Picantes\"\n",
    "\t\t],\n",
    "\t\t\"telefono\": \"4243937\",\n",
    "\t\t\"direccion\": {\n",
    "\t\t\t\"calle\": \"Pasaje Boulevard de la Recoleta\",\n",
    "\t\t\t\"numero\": \"618\"\n",
    "\t\t}\n",
    "\t},\n",
    "\t{\n",
    "\t\t\"nombre\": \"Doña Fely\",\n",
    "\t\t\"especialidades\": [\n",
    "\t\t\t\"Chorizo Chuquisaqueño\",\n",
    "\t\t\t\"Puchero\",\n",
    "\t\t\t\"Ranga\",\n",
    "\t\t\t\"Fricase\",\n",
    "\t\t\t\"Menudito\",\n",
    "\t\t\t\"Picantes\"\n",
    "\t\t],\n",
    "\t\t\"telefono\": \"4582972\",\n",
    "\t\t\"direccion\": {\n",
    "\t\t\t\"calle\": \"Tumusla entre Calama y Ladislao Cabrera\",\n",
    "\t\t\t\"numero\": \"544\"\n",
    "\t\t}\n",
    "\t},\n",
    "\t{\n",
    "\t\t\"nombre\": \"Doña Pola\",\n",
    "\t\t\"especialidades\": [\n",
    "\t\t\t\"Escabeche\",\n",
    "\t\t\t\"Enrollado\",\n",
    "\t\t\t\"Chicharrón\",\n",
    "\t\t\t\"Humintas\"\n",
    "\t\t],\n",
    "\t\t\"telefono\": \"4281015\",\n",
    "\t\t\"direccion\": {\n",
    "\t\t\t\"calle\": \"Av. América esq. Av. Gualberto Villarroel\",\n",
    "\t\t\t\"numero\": \"275\"\n",
    "\t\t}\n",
    "\t},\n",
    "\t{\n",
    "\t\t\"nombre\": \"Jacarandá\",\n",
    "\t\t\"especialidades\": [\n",
    "\t\t\t\"Pique Macho\",\n",
    "\t\t\t\"Charque\",\n",
    "\t\t\t\"Picante de Lengua\"\n",
    "\t\t],\n",
    "\t\t\"telefono\": \"4286424\",\n",
    "\t\t\"direccion\": {\n",
    "\t\t\t\"calle\": \"Av. Tadeo Haenke\",\n",
    "\t\t\t\"numero\": \"2150\"\n",
    "\t\t}\n",
    "\t},\n",
    "\t{\n",
    "\t\t\"nombre\": \"La Gaviota\",\n",
    "\t\t\"especialidades\": [\n",
    "\t\t\t\"Buffet Criollo\",\n",
    "\t\t\t\"Intendente\",\n",
    "\t\t\t\"Matambre\",\n",
    "\t\t\t\"Picante de Lengua\",\n",
    "\t\t\t\"Habas Pejtu\",\n",
    "\t\t\t\"Plato del Bicentenario\"\n",
    "\t\t],\n",
    "\t\t\"telefono\": \"4424497\",\n",
    "\t\t\"direccion\": {\n",
    "\t\t\t\"calle\": \"C. Azanaqueo. Av. América Oeste final\",\n",
    "\t\t\t\"numero\": \"1000\"\n",
    "\t\t}\n",
    "\t},\n",
    "\t{\n",
    "\t\t\"nombre\": \"Felicidad\",\n",
    "\t\t\"especialidades\": [\n",
    "\t\t\t\"Fideos Uchu\",\n",
    "\t\t\t\"Picante de Pollo\",\n",
    "\t\t\t\"Variedad de Chichas\"\n",
    "\t\t],\n",
    "\t\t\"telefono\": \"4446591\",\n",
    "\t\t\"direccion\": {\n",
    "\t\t\t\"calle\": \"Av. Beneméritos del Chaco, lado puente Killman\"\n",
    "\t\t}\n",
    "\t},\n",
    "\t{\n",
    "\t\t\"nombre\": \"Tunari\",\n",
    "\t\t\"especialidades\": [\n",
    "\t\t\t\"Chorizo Criollo\",\n",
    "\t\t\t\"Ranga\",\n",
    "\t\t\t\"Sopa de maní\",\n",
    "\t\t\t\"Riñón\",\n",
    "\t\t\t\"Lomo\"\n",
    "\t\t],\n",
    "\t\t\"telefono\": \"4528588\",\n",
    "\t\t\"direccion\": {\n",
    "\t\t\t\"calle\": \"Av. Ballivian\",\n",
    "\t\t\t\"numero\": \"676\"\n",
    "\t\t}\n",
    "\t},\n",
    "\t{\n",
    "\t\t\"nombre\": \"Miraflores\",\n",
    "\t\t\"especialidades\": [\n",
    "\t\t\t\"Pique Macho\",\n",
    "\t\t\t\"Lechón\"\n",
    "\t\t],\n",
    "\t\t\"telefono\": \"4248780\",\n",
    "\t\t\"direccion\": {\n",
    "\t\t\t\"calle\": \"c. Tarija casi Av. Aniceto Padilla\"\n",
    "\t\t}\n",
    "\t},\n",
    "\t{\n",
    "\t\t\"nombre\": \"Todo al Horno\",\n",
    "\t\t\"especialidades\": [\n",
    "\t\t\t\"Lechon\",\n",
    "\t\t\t\"Pato\",\n",
    "\t\t\t\"Pollo\",\n",
    "\t\t\t\"Pavo al horno\"\n",
    "\t\t],\n",
    "\t\t\"telefono\": \"4409347\",\n",
    "\t\t\"direccion\": {\n",
    "\t\t\t\"calle\": \"Av. Melchor Pérez de Olguín esq. Nueva Castilla\",\n",
    "\t\t\t\"numero\": \"2114\"\n",
    "\t\t}\n",
    "\t},\n",
    "\t{\n",
    "\t\t\"nombre\": \"El Palmar\",\n",
    "\t\t\"especialidades\": [\n",
    "\t\t\t\"Lapping\",\n",
    "\t\t\t\"Pampaku\"\n",
    "\t\t],\n",
    "\t\t\"telefono\": \"4246224\",\n",
    "\t\t\"direccion\": {\n",
    "\t\t\t\"calle\": \"c. Man Césped entre Tarcos y Algarrobos\",\n",
    "\t\t\t\"numero\": \"549\"\n",
    "\t\t}\n",
    "\t}\n",
    "]"
   ]
  },
  {
   "cell_type": "markdown",
   "id": "06fadae5",
   "metadata": {},
   "source": [
    "# Referencias\n",
    "\n",
    "- [The Python pickle Module: How to Persist Objects in Python](https://realpython.com/python-pickle-module/)\n",
    "- [Software Defined Assets Explainer](https://www.youtube.com/watch?v=In4CUoFKOfY)\n"
   ]
  },
  {
   "cell_type": "code",
   "execution_count": 1,
   "id": "fae6c3a6",
   "metadata": {},
   "outputs": [],
   "source": [
    "import csv"
   ]
  },
  {
   "cell_type": "code",
   "execution_count": 3,
   "id": "43b653de",
   "metadata": {},
   "outputs": [],
   "source": [
    "info = ['nombre', 'especialidades', 'telefono','direccion']"
   ]
  },
  {
   "cell_type": "code",
   "execution_count": 5,
   "id": "b691ba8d",
   "metadata": {},
   "outputs": [],
   "source": [
    "with open('test4.csv', 'w') as csvfile:\n",
    "    writer = csv.DictWriter(csvfile, fieldnames = info)\n",
    "    writer.writeheader()\n",
    "    writer.writerows(restaurantes)"
   ]
  },
  {
   "cell_type": "code",
   "execution_count": 6,
   "id": "2ec658a7",
   "metadata": {},
   "outputs": [],
   "source": [
    "import pandas as pd"
   ]
  },
  {
   "cell_type": "code",
   "execution_count": 7,
   "id": "69b1406f",
   "metadata": {},
   "outputs": [],
   "source": [
    "df = pd.DataFrame.from_dict(restaurantes) \n",
    "df.to_csv (r'test8.csv', index = False, header=True)"
   ]
  },
  {
   "cell_type": "code",
   "execution_count": null,
   "id": "065efa35",
   "metadata": {},
   "outputs": [],
   "source": []
  }
 ],
 "metadata": {
  "kernelspec": {
   "display_name": "Python 3 (ipykernel)",
   "language": "python",
   "name": "python3"
  },
  "language_info": {
   "codemirror_mode": {
    "name": "ipython",
    "version": 3
   },
   "file_extension": ".py",
   "mimetype": "text/x-python",
   "name": "python",
   "nbconvert_exporter": "python",
   "pygments_lexer": "ipython3",
   "version": "3.9.12"
  },
  "vscode": {
   "interpreter": {
    "hash": "85c576d62e5a69baba7dcae6282c7bf6fba6f8d537c9cbb11ca984aece3c77a0"
   }
  }
 },
 "nbformat": 4,
 "nbformat_minor": 5
}
