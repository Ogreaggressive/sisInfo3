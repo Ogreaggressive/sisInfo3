{
 "cells": [
  {
   "cell_type": "markdown",
   "id": "4965eff2",
   "metadata": {},
   "source": [
    "# Aplicación de datos (Data Application)\n",
    "\n",
    "Una aplicación de datos es un [grafo](https://es.wikipedia.org/wiki/Grafo_ac%C3%ADclico_dirigido) de funciones que producen y consumen activos de datos como archivos, bases de datos, reportes o modelos predictivos.\n",
    "\n",
    "\n",
    "[Dagster](https://dagster.io/blog/introducing-dagster) es una herramienta que gestiona y coordina la ejecución de la funciones de un aplicación de datos. (orquestador)\n",
    "\n",
    "## Instalar Dagster\n",
    "\n",
    "Crear un directorio para los proyectos Dagster. Ej. (```C:\\dev\\workspace-python\\```). Desde la consola de Anaconda y estando en el directorio recién creado, [Crear y activar un nuevo entorno de Python](https://conda.io/projects/conda/en/latest/user-guide/tasks/manage-environments.html) con el nombre del proyecto:\n",
    "\n",
    "```\n",
    "conda create --name dagster-data-app python=3.8\n",
    "conda activate dagster-data-app\n",
    "```\n",
    "\n",
    "Instalar ```dagster``` y ```dagit```:\n",
    "\n",
    "```\n",
    "pip install dagster dagit\n",
    "```\n",
    "\n",
    "A partir de este punto, ya tenemos un entorno base para comenzar a desarrollar con Dagster. Podemos instalar cualquier otro paquete requerido por nuestro proyecto y exportar el entorno con este comando:\n",
    "\n",
    "```\n",
    "pip freeze > requirements.txt\n",
    "```\n",
    "\n",
    "Para eliminar el entorno:\n",
    "\n",
    "```\n",
    "conda activate base\n",
    "conda env remove --name dagster-data-app\n",
    "```"
   ]
  },
  {
   "cell_type": "markdown",
   "id": "c8fc2f9e",
   "metadata": {},
   "source": [
    "## Crear un proyecto Dagster\n",
    "\n",
    "Crear un proyecto con la estructura base empleando la [interfaz de línea de comandos de Dagster](https://docs.dagster.io/_apidocs/cli) \n",
    "\n",
    "```\n",
    "dagster project scaffold --name dagster-data-app\n",
    "```\n",
    "\n",
    "El resultado debería ser similar al siguiente:\n",
    "\n",
    "<img src=\"01_dagster-base-project-creation.png\" width=\"800px\"/>\n",
    "\n",
    "Luego, ejecutar el comando ```dagit```, el resultado debería ser similar a:\n",
    "\n",
    "<img src=\"02_run_dagster-dagit.png\" width=\"800px\"/>\n",
    "\n",
    "Y la interfaz web de Dagster debería ser accesible en ```http://localhost:3000/```\n",
    "\n",
    "<img src=\"03_open_dagster-dagit.png\" width=\"800px\"/>\n",
    "\n",
    "Finalmente, abrir el directorio del proyecto en el entorno de desarrollo PyCharm para confirmar que se ha creado un [proyecto base con la estructura de directorios adecuada](https://docs.dagster.io/getting-started/create-new-project#option-1-starting-with-the-default-project-skeleton):\n",
    "\n",
    "<img src=\"04_dagster-data-app-in-pycharm.png\" width=\"800px\"/>"
   ]
  },
  {
   "cell_type": "markdown",
   "id": "06fadae5",
   "metadata": {},
   "source": [
    "# Referencias\n",
    "\n",
    "- [Dagster - Guia de iniciación](https://docs.dagster.io/getting-started/install)\n",
    "- [Dagster - Documentación](https://docs.dagster.io/getting-started)"
   ]
  },
  {
   "cell_type": "code",
   "execution_count": null,
   "id": "fae6c3a6",
   "metadata": {},
   "outputs": [],
   "source": []
  }
 ],
 "metadata": {
  "kernelspec": {
   "display_name": "Python 3.10.0 64-bit",
   "language": "python",
   "name": "python3"
  },
  "language_info": {
   "codemirror_mode": {
    "name": "ipython",
    "version": 3
   },
   "file_extension": ".py",
   "mimetype": "text/x-python",
   "name": "python",
   "nbconvert_exporter": "python",
   "pygments_lexer": "ipython3",
   "version": "3.10.0"
  },
  "vscode": {
   "interpreter": {
    "hash": "85c576d62e5a69baba7dcae6282c7bf6fba6f8d537c9cbb11ca984aece3c77a0"
   }
  }
 },
 "nbformat": 4,
 "nbformat_minor": 5
}
