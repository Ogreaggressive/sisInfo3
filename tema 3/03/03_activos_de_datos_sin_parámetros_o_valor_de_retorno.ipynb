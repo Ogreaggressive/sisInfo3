{
 "cells": [
  {
   "cell_type": "markdown",
   "id": "d8b20094",
   "metadata": {},
   "source": [
    "# Activos sin parámetros y/o valores de retorno\n",
    "\n",
    "\n",
    "Cuando la operación (```Op```) asociada a un activo *B* incluye un parámetro con un nombre que coincide con el nombre de otro activo *A*, Dagster establece una relación que muestra que *B* depende de *A* ```(A -> B)```. Antes de ejecutar la operación del activo *B*, el contenido del activo *A* se carga en memoria desde su última materialización y se pasa como parámetro a dicha operación.\n",
    "\n",
    "Sin embargo, hay escenarios en los que **NO** es necesario o deseable cargar el contenido de un activo en memoria. Por ejemplo, cuando el activo se \"calcula\" copiando un archivo, creando una tabla o ejecutando una tarea en una interfaz de línea de comandos ([cmd](https://learn.microsoft.com/en-us/windows-server/administration/windows-commands/cmd), [bash](https://opensource.com/resources/what-bash), [powershell](https://learn.microsoft.com/en-us/powershell/scripting/overview) o similar)\n",
    "\n",
    "Para esas situaciones, se deben definir activos cuyas operaciones no tienen valores de retorno o argumentos; es posible combinar estos activos con activos que retornan valores o incluyen parámetros. \n",
    "\n",
    "Toda función en Python retorna un valor; cuando no se retorna un valor explícitamente, la función retorna ```None```. Para evitar que Dagster materialize ```None``` como el contenido de un activo que NO retorna un valor hay que [anotar la función](https://ellibrodepython.com/function-annotations) de la siguiente manera:\n",
    "\n",
    "```\n",
    "@asset\n",
    "def no_return() -> None:\n",
    "    print(\"No explicit return\")\n",
    "```\n",
    "\n",
    "Finalmente, para establecer una relación de dependencia con un activo que NO retorna un valor, es necesario emplear el parámetro ```non_argument_deps``` del decorador ```@asset```."
   ]
  },
  {
   "cell_type": "code",
   "execution_count": 3,
   "id": "79bad946",
   "metadata": {},
   "outputs": [
    {
     "name": "stdout",
     "output_type": "stream",
     "text": [
      "No explicit return\n",
      "None\n"
     ]
    }
   ],
   "source": [
    "#Toda función retorna un valor\n",
    "def no_return():\n",
    "    print(\"No explicit return\")\n",
    "    \n",
    "print(no_return())"
   ]
  },
  {
   "cell_type": "markdown",
   "id": "c51d3315",
   "metadata": {},
   "source": [
    "## Por defecto, los activos de materializan en formato pickle"
   ]
  },
  {
   "cell_type": "code",
   "execution_count": 1,
   "id": "eefa43fd",
   "metadata": {},
   "outputs": [
    {
     "data": {
      "text/plain": [
       "{'100% Bran': '68.402973',\n",
       " 'Cream of Wheat (Quick)': '64.533816',\n",
       " 'Shredded Wheat': '68.235885',\n",
       " \"Shredded Wheat 'n'Bran\": '74.472949',\n",
       " 'Shredded Wheat spoon size': '72.801787',\n",
       " 'Strawberry Fruit Wheats': '59.363993'}"
      ]
     },
     "execution_count": 1,
     "metadata": {},
     "output_type": "execute_result"
    }
   ],
   "source": [
    "import pickle\n",
    "\n",
    "with open(r\"C:\\dev\\workspace-python\\dagster-data-app\\tmpyz1ktips\\storage\\nabisco_cereal_ratings\", \"rb\") as data_asset_pickle_file:\n",
    "    data_asset = pickle.load(data_asset_pickle_file)\n",
    "\n",
    "data_asset"
   ]
  },
  {
   "cell_type": "markdown",
   "id": "417f090b",
   "metadata": {},
   "source": [
    "## Ejercicio\n",
    "\n",
    "Implementar los siguientes requerimientos de la primera prueba de evaluación continua como una aplicación de datos en Dagster.\n",
    "\n",
    "Para verificar si un paquete Python está instalado en el entorno ```dagster-data-app``` active entorno y ejecute: ```pip list | findStr beautifulsoup4```"
   ]
  },
  {
   "cell_type": "markdown",
   "id": "582139ad",
   "metadata": {},
   "source": [
    "**Extraer la masa, densidad, gravedad y duración del día de la siguiente fuente**"
   ]
  },
  {
   "cell_type": "code",
   "execution_count": 8,
   "id": "0e887334",
   "metadata": {},
   "outputs": [
    {
     "data": {
      "text/plain": [
       "<Response [200]>"
      ]
     },
     "execution_count": 8,
     "metadata": {},
     "output_type": "execute_result"
    }
   ],
   "source": [
    "import requests\n",
    "\n",
    "response = requests.get(\"http://localhost:8000/Planetary_Fact_Sheet.html\")\n",
    "response"
   ]
  },
  {
   "cell_type": "code",
   "execution_count": 19,
   "id": "458530f5",
   "metadata": {},
   "outputs": [
    {
     "data": {
      "text/plain": [
       "['MERCURY',\n",
       " 'VENUS',\n",
       " 'EARTH',\n",
       " 'MOON',\n",
       " 'MARS',\n",
       " 'JUPITER',\n",
       " 'SATURN',\n",
       " 'URANUS',\n",
       " 'NEPTUNE',\n",
       " 'PLUTO']"
      ]
     },
     "execution_count": 19,
     "metadata": {},
     "output_type": "execute_result"
    }
   ],
   "source": [
    "import pickle\n",
    "with open(r\"C:\\Tareas\\2022\\SisInfo3\\dagster\\dagster-data-app\\tmp8uj0a7n6\\storage\\namesRow\", \"rb\") as data_asset_pickle_file:\n",
    "    data_asset_Names = pickle.load(data_asset_pickle_file)\n",
    "    \n",
    "data_asset_Names"
   ]
  },
  {
   "cell_type": "code",
   "execution_count": 11,
   "id": "8a5248f0",
   "metadata": {},
   "outputs": [
    {
     "data": {
      "text/plain": [
       "[5429.0, 5243.0, 5514.0, 3340.0, 3934.0, 1326.0, 687.0, 1270.0, 1638.0, 1850.0]"
      ]
     },
     "execution_count": 11,
     "metadata": {},
     "output_type": "execute_result"
    }
   ],
   "source": [
    "#density\n",
    "with open(r\"C:\\Tareas\\2022\\SisInfo3\\dagster\\dagster-data-app\\tmp8uj0a7n6\\storage\\densityRow\", \"rb\") as data_asset_pickle_file:\n",
    "    data_asset_Density = pickle.load(data_asset_pickle_file)\n",
    "\n",
    "data_asset_Density"
   ]
  },
  {
   "cell_type": "code",
   "execution_count": 12,
   "id": "484dd539",
   "metadata": {},
   "outputs": [
    {
     "data": {
      "text/plain": [
       "[3.7, 8.9, 9.8, 1.6, 3.7, 23.1, 9.0, 8.7, 11.0, 0.7]"
      ]
     },
     "execution_count": 12,
     "metadata": {},
     "output_type": "execute_result"
    }
   ],
   "source": [
    "#gravity\n",
    "with open(r\"C:\\Tareas\\2022\\SisInfo3\\dagster\\dagster-data-app\\tmp8uj0a7n6\\storage\\gravityRow\", \"rb\") as data_asset_pickle_file:\n",
    "    data_asset_gravity = pickle.load(data_asset_pickle_file)\n",
    "\n",
    "data_asset_gravity"
   ]
  },
  {
   "cell_type": "code",
   "execution_count": 13,
   "id": "88bb86e2",
   "metadata": {},
   "outputs": [
    {
     "data": {
      "text/plain": [
       "[4222.6, 2802.0, 24.0, 708.7, 24.7, 9.9, 10.7, 17.2, 16.1, 153.3]"
      ]
     },
     "execution_count": 13,
     "metadata": {},
     "output_type": "execute_result"
    }
   ],
   "source": [
    "#length \n",
    "with open(r\"C:\\Tareas\\2022\\SisInfo3\\dagster\\dagster-data-app\\tmp8uj0a7n6\\storage\\lengthOfDayRow\", \"rb\") as data_asset_pickle_file:\n",
    "    data_asset_length = pickle.load(data_asset_pickle_file)\n",
    "\n",
    "data_asset_length"
   ]
  },
  {
   "cell_type": "code",
   "execution_count": 14,
   "id": "7eda5802",
   "metadata": {},
   "outputs": [
    {
     "data": {
      "text/plain": [
       "[0.33, 4.87, 5.97, 0.073, 0.642, 1898.0, 568.0, 86.8, 102.0, 0.013]"
      ]
     },
     "execution_count": 14,
     "metadata": {},
     "output_type": "execute_result"
    }
   ],
   "source": [
    "#mass\n",
    "with open(r\"C:\\Tareas\\2022\\SisInfo3\\dagster\\dagster-data-app\\tmp8uj0a7n6\\storage\\massRow\", \"rb\") as data_asset_pickle_file:\n",
    "    data_asset_mass = pickle.load(data_asset_pickle_file)\n",
    "\n",
    "data_asset_mass"
   ]
  },
  {
   "cell_type": "code",
   "execution_count": 15,
   "id": "20b3249b",
   "metadata": {},
   "outputs": [],
   "source": [
    "#dictionary of all info\n",
    "def getAllExtractedInfo(namesRow, massRow, densityRow, gravityRow, lengthOfDayRow):\n",
    "    list_of_lists = [namesRow, massRow, densityRow, gravityRow, lengthOfDayRow]\n",
    "    planet_dictionary = {z[0]: list(z[1:]) for z in zip(*list_of_lists)} \n",
    "    return planet_dictionary"
   ]
  },
  {
   "cell_type": "code",
   "execution_count": 16,
   "id": "788cccdd",
   "metadata": {},
   "outputs": [
    {
     "name": "stdout",
     "output_type": "stream",
     "text": [
      "{'MERCURY': [0.33, 5429.0, 3.7, 4222.6], 'VENUS': [4.87, 5243.0, 8.9, 2802.0], 'EARTH': [5.97, 5514.0, 9.8, 24.0], 'MOON': [0.073, 3340.0, 1.6, 708.7], 'MARS': [0.642, 3934.0, 3.7, 24.7], 'JUPITER': [1898.0, 1326.0, 23.1, 9.9], 'SATURN': [568.0, 687.0, 9.0, 10.7], 'URANUS': [86.8, 1270.0, 8.7, 17.2], 'NEPTUNE': [102.0, 1638.0, 11.0, 16.1], 'PLUTO': [0.013, 1850.0, 0.7, 153.3]}\n"
     ]
    }
   ],
   "source": [
    "print(getAllExtractedInfo(data_asset_Names,data_asset_mass, data_asset_Density, data_asset_gravity, data_asset_length))"
   ]
  },
  {
   "cell_type": "code",
   "execution_count": 17,
   "id": "6b9b23da",
   "metadata": {},
   "outputs": [
    {
     "data": {
      "text/plain": [
       "{'MERCURY': [0.33, 5429.0, 3.7, 4222.6],\n",
       " 'VENUS': [4.87, 5243.0, 8.9, 2802.0],\n",
       " 'EARTH': [5.97, 5514.0, 9.8, 24.0],\n",
       " 'MOON': [0.073, 3340.0, 1.6, 708.7],\n",
       " 'MARS': [0.642, 3934.0, 3.7, 24.7],\n",
       " 'JUPITER': [1898.0, 1326.0, 23.1, 9.9],\n",
       " 'SATURN': [568.0, 687.0, 9.0, 10.7],\n",
       " 'URANUS': [86.8, 1270.0, 8.7, 17.2],\n",
       " 'NEPTUNE': [102.0, 1638.0, 11.0, 16.1],\n",
       " 'PLUTO': [0.013, 1850.0, 0.7, 153.3]}"
      ]
     },
     "execution_count": 17,
     "metadata": {},
     "output_type": "execute_result"
    }
   ],
   "source": [
    "#mass\n",
    "with open(r\"C:\\Tareas\\2022\\SisInfo3\\dagster\\dagster-data-app\\tmp8uj0a7n6\\storage\\getAllExtractedInfo\", \"rb\") as data_asset_pickle_file:\n",
    "    data_asset_all = pickle.load(data_asset_pickle_file)\n",
    "\n",
    "data_asset_all"
   ]
  },
  {
   "cell_type": "markdown",
   "id": "796fbe99",
   "metadata": {},
   "source": [
    "**Obtener los datos de los tres planetas con mayor duración del día que La Tierra ordenados de manera descendente (por duración del día)**"
   ]
  },
  {
   "cell_type": "code",
   "execution_count": 30,
   "id": "c79f18e9",
   "metadata": {},
   "outputs": [
    {
     "data": {
      "text/plain": [
       "[('MERCURY', [0.33, 5429.0, 3.7, 4222.6]),\n",
       " ('VENUS', [4.87, 5243.0, 8.9, 2802.0]),\n",
       " ('MOON', [0.073, 3340.0, 1.6, 708.7])]"
      ]
     },
     "execution_count": 30,
     "metadata": {},
     "output_type": "execute_result"
    }
   ],
   "source": [
    "with open(r\"C:\\Tareas\\2022\\SisInfo3\\dagster\\dagster-data-app\\tmp8uj0a7n6\\storage\\planets_with_most_day_length\", \"rb\") as data_asset_pickle_file:\n",
    "    data_asset_planets = pickle.load(data_asset_pickle_file)\n",
    "\n",
    "data_asset_planets"
   ]
  },
  {
   "cell_type": "markdown",
   "id": "1b24ae21",
   "metadata": {},
   "source": [
    "**Obtener los datos de los tres planetas con menor masa que La Tierra ordenados de manera ascendente por su masa**"
   ]
  },
  {
   "cell_type": "code",
   "execution_count": 33,
   "id": "c2a72add",
   "metadata": {},
   "outputs": [
    {
     "data": {
      "text/plain": [
       "[('PLUTO', [0.013, 1850.0, 0.7, 153.3]),\n",
       " ('MOON', [0.073, 3340.0, 1.6, 708.7]),\n",
       " ('MERCURY', [0.33, 5429.0, 3.7, 4222.6]),\n",
       " ('MARS', [0.642, 3934.0, 3.7, 24.7]),\n",
       " ('VENUS', [4.87, 5243.0, 8.9, 2802.0])]"
      ]
     },
     "execution_count": 33,
     "metadata": {},
     "output_type": "execute_result"
    }
   ],
   "source": [
    "with open(r\"C:\\Tareas\\2022\\SisInfo3\\dagster\\dagster-data-app\\tmp8uj0a7n6\\storage\\planets_with_less_mass_than_earth\", \"rb\") as data_asset_pickle_file:\n",
    "     data_asset_planets = pickle.load(data_asset_pickle_file)\n",
    "\n",
    "data_asset_planets"
   ]
  },
  {
   "cell_type": "markdown",
   "id": "06fadae5",
   "metadata": {},
   "source": [
    "# Referencias\n",
    "\n",
    "- [PEP 3107 – Function Annotations](https://peps.python.org/pep-3107/#fundamentals-of-function-annotations)\n"
   ]
  },
  {
   "cell_type": "code",
   "execution_count": null,
   "id": "fae6c3a6",
   "metadata": {},
   "outputs": [],
   "source": []
  }
 ],
 "metadata": {
  "kernelspec": {
   "display_name": "Python 3 (ipykernel)",
   "language": "python",
   "name": "python3"
  },
  "language_info": {
   "codemirror_mode": {
    "name": "ipython",
    "version": 3
   },
   "file_extension": ".py",
   "mimetype": "text/x-python",
   "name": "python",
   "nbconvert_exporter": "python",
   "pygments_lexer": "ipython3",
   "version": "3.9.12"
  },
  "vscode": {
   "interpreter": {
    "hash": "85c576d62e5a69baba7dcae6282c7bf6fba6f8d537c9cbb11ca984aece3c77a0"
   }
  }
 },
 "nbformat": 4,
 "nbformat_minor": 5
}
