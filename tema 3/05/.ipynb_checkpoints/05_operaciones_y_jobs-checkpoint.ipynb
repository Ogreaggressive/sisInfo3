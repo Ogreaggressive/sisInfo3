{
 "cells": [
  {
   "cell_type": "markdown",
   "id": "d8b20094",
   "metadata": {},
   "source": [
    "# Operaciones y jobs\n",
    "\n",
    "\n",
    "La funcionalidad de activos de datos en Dagster se ejecuta sobre un motor de orquestación de propósito general que se puede usar para tareas distintas a la creación y el mantenimiento de activos. Las operaciones son las unidades básicas de ejecución y pueden combinarse en un grafo para formar jobs.\n",
    "\n",
    "Para que Dagit pueda encontrar un job, este deben ser [incluido en un repositorio](https://docs.dagster.io/concepts/ops-jobs-graphs/jobs#including-jobs-in-repositories):\n",
    "\n",
    "<img src=\"08_dagit-showing-jobs.png\" width=\"800px\"/>"
   ]
  },
  {
   "cell_type": "markdown",
   "id": "ff5b7a94",
   "metadata": {},
   "source": [
    "\n",
    "## Dagster también materializa en resultado de cada operación en un job\n",
    "\n",
    "Al igual que con los activos de datos, esto permite separar la operación de funcionalidades de E/S, generando operaciones más portables y fáciles de probar.\n"
   ]
  },
  {
   "cell_type": "code",
   "execution_count": 1,
   "id": "813c6d7e",
   "metadata": {},
   "outputs": [
    {
     "data": {
      "text/plain": [
       "{'pyproject.toml': 84,\n",
       " 'README.md': 2130,\n",
       " 'setup.cfg': 37,\n",
       " 'setup.py': 315,\n",
       " 'workspace.yaml': 50}"
      ]
     },
     "execution_count": 1,
     "metadata": {},
     "output_type": "execute_result"
    }
   ],
   "source": [
    "import pickle\n",
    "\n",
    "with open(r\"C:\\dev\\workspace-python\\dagster-data-app\\tmpijof8dxl\\storage\\3675d685-3cf2-4fab-b0ab-bed6647bc8d9\\get_file_sizes\\result\", \"rb\") as pickle_file:\n",
    "    op_result = pickle.load(pickle_file)\n",
    "    \n",
    "op_result"
   ]
  },
  {
   "cell_type": "markdown",
   "id": "20d22cda",
   "metadata": {},
   "source": [
    "## Pruebas \n",
    "\n",
    "Al igual que para las operaciones de los activos, también se pueden crear pruebas para un job y las operaciones que inluye:\n",
    "\n",
    "```pytest test_jobs.py```"
   ]
  },
  {
   "cell_type": "markdown",
   "id": "417f090b",
   "metadata": {},
   "source": [
    "## Ejercicio\n",
    "\n",
    "Desarrolle un job y sus respectivas pruebas para implementar los siguientes requerimientos.\n",
    "\n",
    "- Cargar la lista de direcciones IP del archivo ```lista_direcciones_ip.txt```\n",
    "- Generar un archivo ```datos_direcciones_ip.csv``` con las siguientes columnas (estos datos están presentes en la respuesta del siguiente servivio ```GET http://free.ipwhois.io/json/<direccion-ip>```)\n",
    "\n",
    "\n",
    "1. ip \n",
    "2. continent\n",
    "3. country\n",
    "4. region\n",
    "5. city\n",
    "6. isp\n",
    "7. currency"
   ]
  },
  {
   "cell_type": "code",
   "execution_count": 1,
   "id": "c2a72add",
   "metadata": {},
   "outputs": [
    {
     "data": {
      "text/plain": [
       "['181.65.208.173\\n',\n",
       " '98.138.219.232\\n',\n",
       " '204.89.63.104\\n',\n",
       " '200.27.68.60\\n',\n",
       " '200.16.89.104\\n',\n",
       " '18.231.15.51\\n',\n",
       " '200.58.77.90']"
      ]
     },
     "execution_count": 1,
     "metadata": {},
     "output_type": "execute_result"
    }
   ],
   "source": [
    "import pickle\n",
    "\n",
    "with open(r\"C:\\Tareas\\2022\\SisInfo3\\dagster\\dagster-data-app\\tmphcj00o0v\\storage\\ips\", \"rb\") as pickle_file:\n",
    "    op_result = pickle.load(pickle_file)\n",
    "    \n",
    "op_result"
   ]
  },
  {
   "cell_type": "markdown",
   "id": "06fadae5",
   "metadata": {},
   "source": [
    "# Referencias\n",
    "\n",
    "- [Dagster Job Tutorial](https://docs.dagster.io/tutorial/ops-jobs/single-op-job)\n",
    "- [Dagster Operation documentation](https://docs.dagster.io/concepts/ops-jobs-graphs/ops)\n",
    "- [Dagster Job documentation](https://docs.dagster.io/concepts/ops-jobs-graphs/jobs)\n"
   ]
  },
  {
   "cell_type": "code",
   "execution_count": null,
   "id": "fae6c3a6",
   "metadata": {},
   "outputs": [],
   "source": []
  }
 ],
 "metadata": {
  "kernelspec": {
   "display_name": "Python 3 (ipykernel)",
   "language": "python",
   "name": "python3"
  },
  "language_info": {
   "codemirror_mode": {
    "name": "ipython",
    "version": 3
   },
   "file_extension": ".py",
   "mimetype": "text/x-python",
   "name": "python",
   "nbconvert_exporter": "python",
   "pygments_lexer": "ipython3",
   "version": "3.9.12"
  },
  "vscode": {
   "interpreter": {
    "hash": "85c576d62e5a69baba7dcae6282c7bf6fba6f8d537c9cbb11ca984aece3c77a0"
   }
  }
 },
 "nbformat": 4,
 "nbformat_minor": 5
}
