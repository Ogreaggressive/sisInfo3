{
 "cells": [
  {
   "cell_type": "markdown",
   "id": "d8b20094",
   "metadata": {},
   "source": [
    "# Operaciones y jobs\n",
    "\n",
    "\n",
    "La funcionalidad de activos de datos en Dagster se ejecuta sobre un motor de orquestación de propósito general que se puede usar para tareas distintas a la creación y el mantenimiento de activos. Las operaciones son las unidades básicas de ejecución y pueden combinarse en un grafo para formar jobs.\n",
    "\n",
    "Para que Dagit pueda encontrar un job, este deben ser [incluido en un repositorio](https://docs.dagster.io/concepts/ops-jobs-graphs/jobs#including-jobs-in-repositories):\n",
    "\n",
    "<img src=\"08_dagit-showing-jobs.png\" width=\"800px\"/>"
   ]
  },
  {
   "cell_type": "markdown",
   "id": "ff5b7a94",
   "metadata": {},
   "source": [
    "\n",
    "## Dagster también materializa en resultado de cada operación en un job\n",
    "\n",
    "Al igual que con los activos de datos, esto permite separar la operación de funcionalidades de E/S, generando operaciones más portables y fáciles de probar.\n"
   ]
  },
  {
   "cell_type": "code",
   "execution_count": 1,
   "id": "813c6d7e",
   "metadata": {},
   "outputs": [
    {
     "data": {
      "text/plain": [
       "{'pyproject.toml': 84,\n",
       " 'README.md': 2130,\n",
       " 'setup.cfg': 37,\n",
       " 'setup.py': 315,\n",
       " 'workspace.yaml': 50}"
      ]
     },
     "execution_count": 1,
     "metadata": {},
     "output_type": "execute_result"
    }
   ],
   "source": [
    "import pickle\n",
    "\n",
    "with open(r\"C:\\dev\\workspace-python\\dagster-data-app\\tmpijof8dxl\\storage\\3675d685-3cf2-4fab-b0ab-bed6647bc8d9\\get_file_sizes\\result\", \"rb\") as pickle_file:\n",
    "    op_result = pickle.load(pickle_file)\n",
    "    \n",
    "op_result"
   ]
  },
  {
   "cell_type": "markdown",
   "id": "20d22cda",
   "metadata": {},
   "source": [
    "## Pruebas \n",
    "\n",
    "Al igual que para las operaciones de los activos, también se pueden crear pruebas para un job y las operaciones que inluye:\n",
    "\n",
    "```pytest test_jobs.py```"
   ]
  },
  {
   "cell_type": "markdown",
   "id": "417f090b",
   "metadata": {},
   "source": [
    "## Ejercicio\n",
    "\n",
    "Desarrolle un job y sus respectivas pruebas para implementar los siguientes requerimientos.\n",
    "\n",
    "- Cargar la lista de direcciones IP del archivo ```lista_direcciones_ip.txt```\n",
    "- Generar un archivo ```datos_direcciones_ip.csv``` con las siguientes columnas (estos datos están presentes en la respuesta del siguiente servivio ```GET http://free.ipwhois.io/json/<direccion-ip>```)\n",
    "\n",
    "\n",
    "1. ip \n",
    "2. continent\n",
    "3. country\n",
    "4. region\n",
    "5. city\n",
    "6. isp\n",
    "7. currency"
   ]
  },
  {
   "cell_type": "code",
   "execution_count": 3,
   "id": "c2a72add",
   "metadata": {},
   "outputs": [
    {
     "data": {
      "text/plain": [
       "['181.65.208.173',\n",
       " '98.138.219.232',\n",
       " '204.89.63.104',\n",
       " '200.27.68.60',\n",
       " '200.16.89.104',\n",
       " '18.231.15.51',\n",
       " '200.58.77.90']"
      ]
     },
     "execution_count": 3,
     "metadata": {},
     "output_type": "execute_result"
    }
   ],
   "source": [
    "import pickle\n",
    "\n",
    "with open(r\"C:\\Tareas\\2022\\SisInfo3\\dagster\\dagster-data-app\\tmphcj00o0v\\storage\\ips\", \"rb\") as pickle_file:\n",
    "    op_result = pickle.load(pickle_file)\n",
    "    \n",
    "op_result"
   ]
  },
  {
   "cell_type": "code",
   "execution_count": 6,
   "id": "51634a65",
   "metadata": {},
   "outputs": [
    {
     "data": {
      "text/plain": [
       "[{'ip': '181.65.208.173',\n",
       "  'success': True,\n",
       "  'type': 'IPv4',\n",
       "  'continent': 'South America',\n",
       "  'continent_code': 'SA',\n",
       "  'country': 'Peru',\n",
       "  'country_code': 'PE',\n",
       "  'country_flag': 'https://cdn.ipwhois.io/flags/pe.svg',\n",
       "  'country_capital': 'Lima',\n",
       "  'country_phone': '+51',\n",
       "  'country_neighbours': 'BO,BR,CL,CO,EC',\n",
       "  'region': 'Lima',\n",
       "  'city': 'Lima District',\n",
       "  'latitude': -12.046374,\n",
       "  'longitude': -77.0427934,\n",
       "  'asn': 'AS6147',\n",
       "  'org': 'Telefonica del Peru S.A.A.',\n",
       "  'isp': 'Telefonica del Peru S.A.A.',\n",
       "  'timezone': 'America/Lima',\n",
       "  'timezone_name': '-05',\n",
       "  'timezone_dstOffset': 0,\n",
       "  'timezone_gmtOffset': -18000,\n",
       "  'timezone_gmt': '-05:00',\n",
       "  'currency': 'Peruvian Nuevo Sol',\n",
       "  'currency_code': 'PEN',\n",
       "  'currency_symbol': 'S/',\n",
       "  'currency_rates': 3.949,\n",
       "  'currency_plural': 'Peruvian nuevos soles'},\n",
       " {'ip': '98.138.219.232',\n",
       "  'success': True,\n",
       "  'type': 'IPv4',\n",
       "  'continent': 'North America',\n",
       "  'continent_code': 'NA',\n",
       "  'country': 'United States',\n",
       "  'country_code': 'US',\n",
       "  'country_flag': 'https://cdn.ipwhois.io/flags/us.svg',\n",
       "  'country_capital': 'Washington D.C.',\n",
       "  'country_phone': '+1',\n",
       "  'country_neighbours': 'CA,MX',\n",
       "  'region': 'Nebraska',\n",
       "  'city': 'Omaha',\n",
       "  'latitude': 41.2523634,\n",
       "  'longitude': -95.9979883,\n",
       "  'asn': 'AS36646',\n",
       "  'org': 'Oath Holdings Inc.',\n",
       "  'isp': 'Oath Holdings Inc.',\n",
       "  'timezone': 'America/Chicago',\n",
       "  'timezone_name': 'CDT',\n",
       "  'timezone_dstOffset': 3600,\n",
       "  'timezone_gmtOffset': -18000,\n",
       "  'timezone_gmt': '-05:00',\n",
       "  'currency': 'US Dollar',\n",
       "  'currency_code': 'USD',\n",
       "  'currency_symbol': '$',\n",
       "  'currency_rates': 1,\n",
       "  'currency_plural': 'US dollars'},\n",
       " {'ip': '204.89.63.104',\n",
       "  'success': True,\n",
       "  'type': 'IPv4',\n",
       "  'continent': 'North America',\n",
       "  'continent_code': 'NA',\n",
       "  'country': 'United States',\n",
       "  'country_code': 'US',\n",
       "  'country_flag': 'https://cdn.ipwhois.io/flags/us.svg',\n",
       "  'country_capital': 'Washington D.C.',\n",
       "  'country_phone': '+1',\n",
       "  'country_neighbours': 'CA,MX',\n",
       "  'region': 'Pennsylvania',\n",
       "  'city': 'King of Prussia',\n",
       "  'latitude': 40.1012856,\n",
       "  'longitude': -75.3835525,\n",
       "  'asn': 'AS25843',\n",
       "  'org': 'EvolveIP, LLC',\n",
       "  'isp': 'EvolveIP, LLC',\n",
       "  'timezone': 'America/New_York',\n",
       "  'timezone_name': 'EDT',\n",
       "  'timezone_dstOffset': 3600,\n",
       "  'timezone_gmtOffset': -14400,\n",
       "  'timezone_gmt': '-04:00',\n",
       "  'currency': 'US Dollar',\n",
       "  'currency_code': 'USD',\n",
       "  'currency_symbol': '$',\n",
       "  'currency_rates': 1,\n",
       "  'currency_plural': 'US dollars'},\n",
       " {'ip': '200.27.68.60',\n",
       "  'success': True,\n",
       "  'type': 'IPv4',\n",
       "  'continent': 'South America',\n",
       "  'continent_code': 'SA',\n",
       "  'country': 'Chile',\n",
       "  'country_code': 'CL',\n",
       "  'country_flag': 'https://cdn.ipwhois.io/flags/cl.svg',\n",
       "  'country_capital': 'Santiago',\n",
       "  'country_phone': '+56',\n",
       "  'country_neighbours': 'AR,BO,PE',\n",
       "  'region': 'Biobío Region',\n",
       "  'city': 'Concepción',\n",
       "  'latitude': -36.8201352,\n",
       "  'longitude': -73.0443904,\n",
       "  'asn': 'AS6429',\n",
       "  'org': 'Telmex Chile Internet S.A.',\n",
       "  'isp': 'Telmex Chile Internet S.A.',\n",
       "  'timezone': 'America/Santiago',\n",
       "  'timezone_name': '-03',\n",
       "  'timezone_dstOffset': 3600,\n",
       "  'timezone_gmtOffset': -10800,\n",
       "  'timezone_gmt': '-03:00',\n",
       "  'currency': 'Chilean Peso',\n",
       "  'currency_code': 'CLP',\n",
       "  'currency_symbol': '$',\n",
       "  'currency_rates': 972.75,\n",
       "  'currency_plural': 'Chilean Pesos'},\n",
       " {'ip': '200.16.89.104',\n",
       "  'success': True,\n",
       "  'type': 'IPv4',\n",
       "  'continent': 'South America',\n",
       "  'continent_code': 'SA',\n",
       "  'country': 'Argentina',\n",
       "  'country_code': 'AR',\n",
       "  'country_flag': 'https://cdn.ipwhois.io/flags/ar.svg',\n",
       "  'country_capital': 'Buenos Aires',\n",
       "  'country_phone': '+54',\n",
       "  'country_neighbours': 'BO,BR,CL,PY,UY',\n",
       "  'region': 'Buenos Aires',\n",
       "  'city': 'Buenos Aires',\n",
       "  'latitude': -34.6036844,\n",
       "  'longitude': -58.3815591,\n",
       "  'asn': 'AS52318',\n",
       "  'org': 'Agencia de Sistemas de Informacion, Gobierno de la Ciudad Autónoma de Buenos Aires',\n",
       "  'isp': 'Agencia de Sistemas de Informacion, Gobierno de la Ciudad Autónoma de Buenos Aires',\n",
       "  'timezone': 'America/Buenos_Aires',\n",
       "  'timezone_name': '-03',\n",
       "  'timezone_dstOffset': 0,\n",
       "  'timezone_gmtOffset': -10800,\n",
       "  'timezone_gmt': '-03:00',\n",
       "  'currency': 'Argentine Peso',\n",
       "  'currency_code': 'ARS',\n",
       "  'currency_symbol': '$',\n",
       "  'currency_rates': 153.795,\n",
       "  'currency_plural': 'Argentine Pesos'},\n",
       " {'ip': '18.231.15.51',\n",
       "  'success': True,\n",
       "  'type': 'IPv4',\n",
       "  'continent': 'South America',\n",
       "  'continent_code': 'SA',\n",
       "  'country': 'Brazil',\n",
       "  'country_code': 'BR',\n",
       "  'country_flag': 'https://cdn.ipwhois.io/flags/br.svg',\n",
       "  'country_capital': 'Brasília',\n",
       "  'country_phone': '+55',\n",
       "  'country_neighbours': 'AR,BO,CO,GF,GY,PE,PY,SR,UY,VE',\n",
       "  'region': 'State of São Paulo',\n",
       "  'city': 'São Paulo',\n",
       "  'latitude': -23.5505199,\n",
       "  'longitude': -46.6333094,\n",
       "  'asn': 'AS16509',\n",
       "  'org': 'Amazon Data Services Brazil',\n",
       "  'isp': 'Amazon.com, Inc.',\n",
       "  'timezone': 'America/Sao_Paulo',\n",
       "  'timezone_name': '-03',\n",
       "  'timezone_dstOffset': 0,\n",
       "  'timezone_gmtOffset': -10800,\n",
       "  'timezone_gmt': '-03:00',\n",
       "  'currency': 'Brazilian Real',\n",
       "  'currency_code': 'BRL',\n",
       "  'currency_symbol': '$',\n",
       "  'currency_rates': 5.165,\n",
       "  'currency_plural': 'Brazilian reals'},\n",
       " {'ip': '200.58.77.90',\n",
       "  'success': True,\n",
       "  'type': 'IPv4',\n",
       "  'continent': 'South America',\n",
       "  'continent_code': 'SA',\n",
       "  'country': 'Bolivia',\n",
       "  'country_code': 'BO',\n",
       "  'country_flag': 'https://cdn.ipwhois.io/flags/bo.svg',\n",
       "  'country_capital': 'Sucre',\n",
       "  'country_phone': '+591',\n",
       "  'country_neighbours': 'AR,BR,CL,PE,PY',\n",
       "  'region': 'Cochabamba',\n",
       "  'city': 'Cochabamba',\n",
       "  'latitude': -17.4139766,\n",
       "  'longitude': -66.1653224,\n",
       "  'asn': 'AS27839',\n",
       "  'org': 'Comteco Ltda',\n",
       "  'isp': 'Comteco Ltda',\n",
       "  'timezone': 'America/La_Paz',\n",
       "  'timezone_name': '-04',\n",
       "  'timezone_dstOffset': 0,\n",
       "  'timezone_gmtOffset': -14400,\n",
       "  'timezone_gmt': '-04:00',\n",
       "  'currency': 'Bolivian Boliviano',\n",
       "  'currency_code': 'BOB',\n",
       "  'currency_symbol': '$',\n",
       "  'currency_rates': 6.833,\n",
       "  'currency_plural': 'Bolivian bolivianos'}]"
      ]
     },
     "execution_count": 6,
     "metadata": {},
     "output_type": "execute_result"
    }
   ],
   "source": [
    "with open(r\"C:\\Tareas\\2022\\SisInfo3\\dagster\\dagster-data-app\\tmphcj00o0v\\storage\\getJsonFromIps\", \"rb\") as pickle_file:\n",
    "    op_result = pickle.load(pickle_file)\n",
    "    \n",
    "op_result"
   ]
  },
  {
   "cell_type": "code",
   "execution_count": 7,
   "id": "b6257351",
   "metadata": {},
   "outputs": [
    {
     "data": {
      "text/plain": [
       "['181.65.208.173',\n",
       " '98.138.219.232',\n",
       " '204.89.63.104',\n",
       " '200.27.68.60',\n",
       " '200.16.89.104',\n",
       " '18.231.15.51',\n",
       " '200.58.77.90']"
      ]
     },
     "execution_count": 7,
     "metadata": {},
     "output_type": "execute_result"
    }
   ],
   "source": [
    "with open(r\"C:\\Tareas\\2022\\SisInfo3\\dagster\\dagster-data-app\\tmphcj00o0v\\storage\\getIpFromJson\", \"rb\") as pickle_file:\n",
    "    op_result = pickle.load(pickle_file)\n",
    "    \n",
    "op_result"
   ]
  },
  {
   "cell_type": "code",
   "execution_count": 8,
   "id": "d5948ca5",
   "metadata": {},
   "outputs": [
    {
     "data": {
      "text/plain": [
       "['South America',\n",
       " 'North America',\n",
       " 'North America',\n",
       " 'South America',\n",
       " 'South America',\n",
       " 'South America',\n",
       " 'South America']"
      ]
     },
     "execution_count": 8,
     "metadata": {},
     "output_type": "execute_result"
    }
   ],
   "source": [
    "with open(r\"C:\\Tareas\\2022\\SisInfo3\\dagster\\dagster-data-app\\tmphcj00o0v\\storage\\getContinentFromJson\", \"rb\") as pickle_file:\n",
    "    op_result = pickle.load(pickle_file)\n",
    "    \n",
    "op_result"
   ]
  },
  {
   "cell_type": "code",
   "execution_count": 9,
   "id": "81667726",
   "metadata": {},
   "outputs": [
    {
     "data": {
      "text/plain": [
       "['Peru',\n",
       " 'United States',\n",
       " 'United States',\n",
       " 'Chile',\n",
       " 'Argentina',\n",
       " 'Brazil',\n",
       " 'Bolivia']"
      ]
     },
     "execution_count": 9,
     "metadata": {},
     "output_type": "execute_result"
    }
   ],
   "source": [
    "with open(r\"C:\\Tareas\\2022\\SisInfo3\\dagster\\dagster-data-app\\tmphcj00o0v\\storage\\getCountryFromJson\", \"rb\") as pickle_file:\n",
    "    op_result = pickle.load(pickle_file)\n",
    "    \n",
    "op_result"
   ]
  },
  {
   "cell_type": "code",
   "execution_count": 10,
   "id": "e62d5b6c",
   "metadata": {},
   "outputs": [
    {
     "data": {
      "text/plain": [
       "['Lima',\n",
       " 'Nebraska',\n",
       " 'Pennsylvania',\n",
       " 'Biobío Region',\n",
       " 'Buenos Aires',\n",
       " 'State of São Paulo',\n",
       " 'Cochabamba']"
      ]
     },
     "execution_count": 10,
     "metadata": {},
     "output_type": "execute_result"
    }
   ],
   "source": [
    "with open(r\"C:\\Tareas\\2022\\SisInfo3\\dagster\\dagster-data-app\\tmphcj00o0v\\storage\\getRegionFromJson\", \"rb\") as pickle_file:\n",
    "    op_result = pickle.load(pickle_file)\n",
    "    \n",
    "op_result"
   ]
  },
  {
   "cell_type": "code",
   "execution_count": 11,
   "id": "7c28177c",
   "metadata": {},
   "outputs": [
    {
     "data": {
      "text/plain": [
       "['Lima District',\n",
       " 'Omaha',\n",
       " 'King of Prussia',\n",
       " 'Concepción',\n",
       " 'Buenos Aires',\n",
       " 'São Paulo',\n",
       " 'Cochabamba']"
      ]
     },
     "execution_count": 11,
     "metadata": {},
     "output_type": "execute_result"
    }
   ],
   "source": [
    "with open(r\"C:\\Tareas\\2022\\SisInfo3\\dagster\\dagster-data-app\\tmphcj00o0v\\storage\\getCityFromJson\", \"rb\") as pickle_file:\n",
    "    op_result = pickle.load(pickle_file)\n",
    "    \n",
    "op_result"
   ]
  },
  {
   "cell_type": "code",
   "execution_count": 13,
   "id": "6fd9f794",
   "metadata": {},
   "outputs": [
    {
     "data": {
      "text/plain": [
       "['Telefonica del Peru S.A.A.',\n",
       " 'Oath Holdings Inc.',\n",
       " 'EvolveIP, LLC',\n",
       " 'Telmex Chile Internet S.A.',\n",
       " 'Agencia de Sistemas de Informacion, Gobierno de la Ciudad Autónoma de Buenos Aires',\n",
       " 'Amazon.com, Inc.',\n",
       " 'Comteco Ltda']"
      ]
     },
     "execution_count": 13,
     "metadata": {},
     "output_type": "execute_result"
    }
   ],
   "source": [
    "with open(r\"C:\\Tareas\\2022\\SisInfo3\\dagster\\dagster-data-app\\tmphcj00o0v\\storage\\getIspFromJson\", \"rb\") as pickle_file:\n",
    "    op_result = pickle.load(pickle_file)\n",
    "    \n",
    "op_result"
   ]
  },
  {
   "cell_type": "code",
   "execution_count": 14,
   "id": "667676d4",
   "metadata": {},
   "outputs": [
    {
     "data": {
      "text/plain": [
       "['Peruvian Nuevo Sol',\n",
       " 'US Dollar',\n",
       " 'US Dollar',\n",
       " 'Chilean Peso',\n",
       " 'Argentine Peso',\n",
       " 'Brazilian Real',\n",
       " 'Bolivian Boliviano']"
      ]
     },
     "execution_count": 14,
     "metadata": {},
     "output_type": "execute_result"
    }
   ],
   "source": [
    "with open(r\"C:\\Tareas\\2022\\SisInfo3\\dagster\\dagster-data-app\\tmphcj00o0v\\storage\\getCurrencyFromJson\", \"rb\") as pickle_file:\n",
    "    op_result = pickle.load(pickle_file)\n",
    "    \n",
    "op_result"
   ]
  },
  {
   "cell_type": "code",
   "execution_count": 15,
   "id": "079c3789",
   "metadata": {},
   "outputs": [],
   "source": [
    "with open(r\"C:\\Tareas\\2022\\SisInfo3\\dagster\\dagster-data-app\\tmphcj00o0v\\storage\\saveInfoToCSV\", \"rb\") as pickle_file:\n",
    "    op_result = pickle.load(pickle_file)\n",
    "    \n",
    "op_result"
   ]
  },
  {
   "cell_type": "code",
   "execution_count": 19,
   "id": "c03bb6dc",
   "metadata": {},
   "outputs": [
    {
     "data": {
      "text/html": [
       "<div>\n",
       "<style scoped>\n",
       "    .dataframe tbody tr th:only-of-type {\n",
       "        vertical-align: middle;\n",
       "    }\n",
       "\n",
       "    .dataframe tbody tr th {\n",
       "        vertical-align: top;\n",
       "    }\n",
       "\n",
       "    .dataframe thead th {\n",
       "        text-align: right;\n",
       "    }\n",
       "</style>\n",
       "<table border=\"1\" class=\"dataframe\">\n",
       "  <thead>\n",
       "    <tr style=\"text-align: right;\">\n",
       "      <th></th>\n",
       "      <th>ip</th>\n",
       "      <th>continent</th>\n",
       "      <th>country</th>\n",
       "      <th>region</th>\n",
       "      <th>city</th>\n",
       "      <th>isp</th>\n",
       "      <th>currency</th>\n",
       "    </tr>\n",
       "  </thead>\n",
       "  <tbody>\n",
       "    <tr>\n",
       "      <th>0</th>\n",
       "      <td>181.65.208.173</td>\n",
       "      <td>South America</td>\n",
       "      <td>Peru</td>\n",
       "      <td>Lima</td>\n",
       "      <td>Lima District</td>\n",
       "      <td>Telefonica del Peru S.A.A.</td>\n",
       "      <td>Peruvian Nuevo Sol</td>\n",
       "    </tr>\n",
       "    <tr>\n",
       "      <th>1</th>\n",
       "      <td>98.138.219.232</td>\n",
       "      <td>North America</td>\n",
       "      <td>United States</td>\n",
       "      <td>Nebraska</td>\n",
       "      <td>Omaha</td>\n",
       "      <td>Oath Holdings Inc.</td>\n",
       "      <td>US Dollar</td>\n",
       "    </tr>\n",
       "    <tr>\n",
       "      <th>2</th>\n",
       "      <td>204.89.63.104</td>\n",
       "      <td>North America</td>\n",
       "      <td>United States</td>\n",
       "      <td>Pennsylvania</td>\n",
       "      <td>King of Prussia</td>\n",
       "      <td>EvolveIP, LLC</td>\n",
       "      <td>US Dollar</td>\n",
       "    </tr>\n",
       "    <tr>\n",
       "      <th>3</th>\n",
       "      <td>200.27.68.60</td>\n",
       "      <td>South America</td>\n",
       "      <td>Chile</td>\n",
       "      <td>Biobío Region</td>\n",
       "      <td>Concepción</td>\n",
       "      <td>Telmex Chile Internet S.A.</td>\n",
       "      <td>Chilean Peso</td>\n",
       "    </tr>\n",
       "    <tr>\n",
       "      <th>4</th>\n",
       "      <td>200.16.89.104</td>\n",
       "      <td>South America</td>\n",
       "      <td>Argentina</td>\n",
       "      <td>Buenos Aires</td>\n",
       "      <td>Buenos Aires</td>\n",
       "      <td>Agencia de Sistemas de Informacion, Gobierno d...</td>\n",
       "      <td>Argentine Peso</td>\n",
       "    </tr>\n",
       "    <tr>\n",
       "      <th>5</th>\n",
       "      <td>18.231.15.51</td>\n",
       "      <td>South America</td>\n",
       "      <td>Brazil</td>\n",
       "      <td>State of São Paulo</td>\n",
       "      <td>São Paulo</td>\n",
       "      <td>Amazon.com, Inc.</td>\n",
       "      <td>Brazilian Real</td>\n",
       "    </tr>\n",
       "    <tr>\n",
       "      <th>6</th>\n",
       "      <td>200.58.77.90</td>\n",
       "      <td>South America</td>\n",
       "      <td>Bolivia</td>\n",
       "      <td>Cochabamba</td>\n",
       "      <td>Cochabamba</td>\n",
       "      <td>Comteco Ltda</td>\n",
       "      <td>Bolivian Boliviano</td>\n",
       "    </tr>\n",
       "  </tbody>\n",
       "</table>\n",
       "</div>"
      ],
      "text/plain": [
       "               ip      continent        country              region  \\\n",
       "0  181.65.208.173  South America           Peru                Lima   \n",
       "1  98.138.219.232  North America  United States            Nebraska   \n",
       "2   204.89.63.104  North America  United States        Pennsylvania   \n",
       "3    200.27.68.60  South America          Chile       Biobío Region   \n",
       "4   200.16.89.104  South America      Argentina        Buenos Aires   \n",
       "5    18.231.15.51  South America         Brazil  State of São Paulo   \n",
       "6    200.58.77.90  South America        Bolivia          Cochabamba   \n",
       "\n",
       "              city                                                isp  \\\n",
       "0    Lima District                         Telefonica del Peru S.A.A.   \n",
       "1            Omaha                                 Oath Holdings Inc.   \n",
       "2  King of Prussia                                      EvolveIP, LLC   \n",
       "3       Concepción                         Telmex Chile Internet S.A.   \n",
       "4     Buenos Aires  Agencia de Sistemas de Informacion, Gobierno d...   \n",
       "5        São Paulo                                   Amazon.com, Inc.   \n",
       "6       Cochabamba                                       Comteco Ltda   \n",
       "\n",
       "             currency  \n",
       "0  Peruvian Nuevo Sol  \n",
       "1           US Dollar  \n",
       "2           US Dollar  \n",
       "3        Chilean Peso  \n",
       "4      Argentine Peso  \n",
       "5      Brazilian Real  \n",
       "6  Bolivian Boliviano  "
      ]
     },
     "execution_count": 19,
     "metadata": {},
     "output_type": "execute_result"
    }
   ],
   "source": [
    "import pandas as pd\n",
    "data = pd.read_csv(\"IpInfo.csv\")\n",
    "data"
   ]
  },
  {
   "cell_type": "markdown",
   "id": "06fadae5",
   "metadata": {},
   "source": [
    "# Referencias\n",
    "\n",
    "- [Dagster Job Tutorial](https://docs.dagster.io/tutorial/ops-jobs/single-op-job)\n",
    "- [Dagster Operation documentation](https://docs.dagster.io/concepts/ops-jobs-graphs/ops)\n",
    "- [Dagster Job documentation](https://docs.dagster.io/concepts/ops-jobs-graphs/jobs)\n"
   ]
  },
  {
   "cell_type": "code",
   "execution_count": null,
   "id": "fae6c3a6",
   "metadata": {},
   "outputs": [],
   "source": []
  }
 ],
 "metadata": {
  "kernelspec": {
   "display_name": "Python 3 (ipykernel)",
   "language": "python",
   "name": "python3"
  },
  "language_info": {
   "codemirror_mode": {
    "name": "ipython",
    "version": 3
   },
   "file_extension": ".py",
   "mimetype": "text/x-python",
   "name": "python",
   "nbconvert_exporter": "python",
   "pygments_lexer": "ipython3",
   "version": "3.10.0"
  },
  "vscode": {
   "interpreter": {
    "hash": "85c576d62e5a69baba7dcae6282c7bf6fba6f8d537c9cbb11ca984aece3c77a0"
   }
  }
 },
 "nbformat": 4,
 "nbformat_minor": 5
}
