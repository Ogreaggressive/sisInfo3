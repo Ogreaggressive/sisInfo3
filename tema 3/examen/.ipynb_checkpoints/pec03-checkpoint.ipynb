{
 "cells": [
  {
   "cell_type": "code",
   "execution_count": 5,
   "id": "088cf064",
   "metadata": {},
   "outputs": [],
   "source": [
    "#Habilitar intellisense\"\n",
    "%config IPCompleter.greedy = True"
   ]
  },
  {
   "cell_type": "markdown",
   "id": "37a084ec",
   "metadata": {},
   "source": [
    "- Completar los nombres de los integrantes del grupo\n",
    "- Pueden agregar más celdas para elaborar las respuestas (crear funciones de apoyo, definir resultados intermedios, etc)\n",
    "- Pueden apoyarse en búsquedas en internet y/o los notebooks para resolver los ejercicios.\n",
    "- *La expresividad y claridad del código serán tomadas en cuenta*.\n",
    "- Al finalizar, deberán enviar el archivo 'holidays.py' a jrocabado.t@ucb.edu.bo (**un** correo por grupo)\n",
    "- **Cada 5 minutos de retraso en la entrega se penalizará con 2 puntos. Si se envían múltiples correos sólo se tomará en cuenta el último.** "
   ]
  },
  {
   "cell_type": "code",
   "execution_count": 6,
   "id": "ab070551",
   "metadata": {},
   "outputs": [],
   "source": [
    "# Integrantes del grupo\n"
   ]
  },
  {
   "cell_type": "markdown",
   "id": "7939fac1",
   "metadata": {},
   "source": [
    "**Completar el código de grafo de activos en el archivo holidays.py. Es fundamental NO cambiar las entradas y salidas de los activos**\n",
    "\n"
   ]
  },
  {
   "cell_type": "code",
   "execution_count": 1,
   "id": "d97729b5",
   "metadata": {},
   "outputs": [],
   "source": [
    "import requests"
   ]
  },
  {
   "cell_type": "code",
   "execution_count": 2,
   "id": "e1821518",
   "metadata": {},
   "outputs": [],
   "source": [
    "def extract_holiday_data(country):\n",
    "    https_string = \"https://date.nager.at/api/v2/publicholidays/2022/\"\n",
    "    country_code_string = country[\"code\"]\n",
    "    response = requests.get(https_string + country_code_string)\n",
    "    return response.json"
   ]
  },
  {
   "cell_type": "code",
   "execution_count": 3,
   "id": "110182ab",
   "metadata": {},
   "outputs": [],
   "source": [
    "def holiday_data(country_data):\n",
    "    holidays = []\n",
    "    for country in country_data:\n",
    "        holidays.extend(extract_holiday_data(country))\n",
    "\n",
    "    return holidays"
   ]
  },
  {
   "cell_type": "code",
   "execution_count": null,
   "id": "d4d595ca",
   "metadata": {},
   "outputs": [],
   "source": [
    "country_data = \"SA:BO,BOL:068, Bolivia, Plurinational State of\""
   ]
  }
 ],
 "metadata": {
  "kernelspec": {
   "display_name": "Python 3 (ipykernel)",
   "language": "python",
   "name": "python3"
  },
  "language_info": {
   "codemirror_mode": {
    "name": "ipython",
    "version": 3
   },
   "file_extension": ".py",
   "mimetype": "text/x-python",
   "name": "python",
   "nbconvert_exporter": "python",
   "pygments_lexer": "ipython3",
   "version": "3.9.12"
  }
 },
 "nbformat": 4,
 "nbformat_minor": 5
}
