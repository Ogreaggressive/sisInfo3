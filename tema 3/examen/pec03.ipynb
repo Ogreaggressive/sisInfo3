{
 "cells": [
  {
   "cell_type": "code",
   "execution_count": 5,
   "id": "088cf064",
   "metadata": {},
   "outputs": [],
   "source": [
    "#Habilitar intellisense\"\n",
    "%config IPCompleter.greedy = True"
   ]
  },
  {
   "cell_type": "markdown",
   "id": "37a084ec",
   "metadata": {},
   "source": [
    "- Completar los nombres de los integrantes del grupo\n",
    "- Pueden agregar más celdas para elaborar las respuestas (crear funciones de apoyo, definir resultados intermedios, etc)\n",
    "- Pueden apoyarse en búsquedas en internet y/o los notebooks para resolver los ejercicios.\n",
    "- *La expresividad y claridad del código serán tomadas en cuenta*.\n",
    "- Al finalizar, deberán enviar el archivo 'holidays.py' a jrocabado.t@ucb.edu.bo (**un** correo por grupo)\n",
    "- **Cada 5 minutos de retraso en la entrega se penalizará con 2 puntos. Si se envían múltiples correos sólo se tomará en cuenta el último.** "
   ]
  },
  {
   "cell_type": "code",
   "execution_count": 6,
   "id": "ab070551",
   "metadata": {},
   "outputs": [],
   "source": [
    "# Integrantes del grupo\n"
   ]
  },
  {
   "cell_type": "markdown",
   "id": "7939fac1",
   "metadata": {},
   "source": [
    "**Completar el código de grafo de activos en el archivo holidays.py. Es fundamental NO cambiar las entradas y salidas de los activos**\n",
    "\n"
   ]
  },
  {
   "cell_type": "code",
   "execution_count": 32,
   "id": "d97729b5",
   "metadata": {},
   "outputs": [],
   "source": [
    "import requests\n",
    "import json"
   ]
  },
  {
   "cell_type": "code",
   "execution_count": 39,
   "id": "6ff57678",
   "metadata": {},
   "outputs": [],
   "source": [
    "def extract_holiday_data(country):\n",
    "    https_string = \"https://date.nager.at/api/v2/publicholidays/2022/\"\n",
    "    country_code_string = country[\"code\"]\n",
    "    response = requests.get(https_string + country_code_string)\n",
    "    data = response.json()\n",
    "    return data"
   ]
  },
  {
   "cell_type": "code",
   "execution_count": 47,
   "id": "eaa67e9c",
   "metadata": {},
   "outputs": [],
   "source": [
    "def holiday_data(country_data):\n",
    "    holidays = []\n",
    "    for country in country_data:\n",
    "        holidays.extend(extract_holiday_data(country))\n",
    "\n",
    "    return holidays"
   ]
  },
  {
   "cell_type": "code",
   "execution_count": 48,
   "id": "07b381f8",
   "metadata": {},
   "outputs": [],
   "source": [
    "country_data = [{\"code\": \"BO\", \"country\": \"Bolivia, Plurinational State of\"}]"
   ]
  },
  {
   "cell_type": "code",
   "execution_count": 50,
   "id": "73bcb772",
   "metadata": {},
   "outputs": [
    {
     "name": "stdout",
     "output_type": "stream",
     "text": [
      "[{'date': '2022-01-01', 'localName': 'Año Nuevo', 'name': \"New Year's Day\", 'countryCode': 'BO', 'fixed': True, 'global': True, 'counties': None, 'launchYear': None, 'type': 'Public'}, {'date': '2022-02-02', 'localName': 'Fiesta de la Virgen de Candelaria', 'name': 'Feast of the Virgin of Candelaria', 'countryCode': 'BO', 'fixed': True, 'global': True, 'counties': None, 'launchYear': None, 'type': 'Public'}, {'date': '2022-02-28', 'localName': 'Feriado por Carnaval', 'name': 'Carnival', 'countryCode': 'BO', 'fixed': False, 'global': True, 'counties': None, 'launchYear': None, 'type': 'Public'}, {'date': '2022-03-01', 'localName': 'Feriado por Carnaval', 'name': 'Carnival', 'countryCode': 'BO', 'fixed': False, 'global': True, 'counties': None, 'launchYear': None, 'type': 'Public'}, {'date': '2022-04-15', 'localName': 'Viernes Santo', 'name': 'Good Friday', 'countryCode': 'BO', 'fixed': False, 'global': True, 'counties': None, 'launchYear': None, 'type': 'Public'}, {'date': '2022-05-01', 'localName': 'Dia del trabajo', 'name': 'Labour Day', 'countryCode': 'BO', 'fixed': True, 'global': True, 'counties': None, 'launchYear': None, 'type': 'Public'}, {'date': '2022-06-16', 'localName': 'Corpus Christi', 'name': 'Corpus Christi', 'countryCode': 'BO', 'fixed': False, 'global': True, 'counties': None, 'launchYear': None, 'type': 'Public'}, {'date': '2022-06-21', 'localName': 'Año Nuevo Andino', 'name': 'Andean New Year', 'countryCode': 'BO', 'fixed': True, 'global': True, 'counties': None, 'launchYear': None, 'type': 'Public'}, {'date': '2022-08-02', 'localName': 'Día de la Revolución Agraria', 'name': 'Agrarian Reform Day', 'countryCode': 'BO', 'fixed': True, 'global': True, 'counties': None, 'launchYear': None, 'type': 'Public'}, {'date': '2022-08-06', 'localName': 'Dia de la Patria', 'name': 'Independence Day', 'countryCode': 'BO', 'fixed': True, 'global': True, 'counties': None, 'launchYear': None, 'type': 'Public'}, {'date': '2022-11-02', 'localName': 'Todos Santos', 'name': \"All Saints' Day\", 'countryCode': 'BO', 'fixed': True, 'global': True, 'counties': None, 'launchYear': None, 'type': 'Public'}, {'date': '2022-12-25', 'localName': 'Navidad', 'name': 'Christmas Day', 'countryCode': 'BO', 'fixed': True, 'global': True, 'counties': None, 'launchYear': None, 'type': 'Public'}]\n"
     ]
    }
   ],
   "source": [
    "print(holiday_data(country_data))\n",
    "country =holiday_data(country_data)"
   ]
  },
  {
   "cell_type": "code",
   "execution_count": 43,
   "id": "95dc5236",
   "metadata": {},
   "outputs": [
    {
     "name": "stdout",
     "output_type": "stream",
     "text": [
      "[{'date': '2022-01-01', 'localName': 'Año Nuevo', 'name': \"New Year's Day\", 'countryCode': 'BO', 'fixed': True, 'global': True, 'counties': None, 'launchYear': None, 'type': 'Public'}, {'date': '2022-02-02', 'localName': 'Fiesta de la Virgen de Candelaria', 'name': 'Feast of the Virgin of Candelaria', 'countryCode': 'BO', 'fixed': True, 'global': True, 'counties': None, 'launchYear': None, 'type': 'Public'}, {'date': '2022-02-28', 'localName': 'Feriado por Carnaval', 'name': 'Carnival', 'countryCode': 'BO', 'fixed': False, 'global': True, 'counties': None, 'launchYear': None, 'type': 'Public'}, {'date': '2022-03-01', 'localName': 'Feriado por Carnaval', 'name': 'Carnival', 'countryCode': 'BO', 'fixed': False, 'global': True, 'counties': None, 'launchYear': None, 'type': 'Public'}, {'date': '2022-04-15', 'localName': 'Viernes Santo', 'name': 'Good Friday', 'countryCode': 'BO', 'fixed': False, 'global': True, 'counties': None, 'launchYear': None, 'type': 'Public'}, {'date': '2022-05-01', 'localName': 'Dia del trabajo', 'name': 'Labour Day', 'countryCode': 'BO', 'fixed': True, 'global': True, 'counties': None, 'launchYear': None, 'type': 'Public'}, {'date': '2022-06-16', 'localName': 'Corpus Christi', 'name': 'Corpus Christi', 'countryCode': 'BO', 'fixed': False, 'global': True, 'counties': None, 'launchYear': None, 'type': 'Public'}, {'date': '2022-06-21', 'localName': 'Año Nuevo Andino', 'name': 'Andean New Year', 'countryCode': 'BO', 'fixed': True, 'global': True, 'counties': None, 'launchYear': None, 'type': 'Public'}, {'date': '2022-08-02', 'localName': 'Día de la Revolución Agraria', 'name': 'Agrarian Reform Day', 'countryCode': 'BO', 'fixed': True, 'global': True, 'counties': None, 'launchYear': None, 'type': 'Public'}, {'date': '2022-08-06', 'localName': 'Dia de la Patria', 'name': 'Independence Day', 'countryCode': 'BO', 'fixed': True, 'global': True, 'counties': None, 'launchYear': None, 'type': 'Public'}, {'date': '2022-11-02', 'localName': 'Todos Santos', 'name': \"All Saints' Day\", 'countryCode': 'BO', 'fixed': True, 'global': True, 'counties': None, 'launchYear': None, 'type': 'Public'}, {'date': '2022-12-25', 'localName': 'Navidad', 'name': 'Christmas Day', 'countryCode': 'BO', 'fixed': True, 'global': True, 'counties': None, 'launchYear': None, 'type': 'Public'}]\n"
     ]
    }
   ],
   "source": [
    "print(extract_holiday_data(country_data))"
   ]
  },
  {
   "cell_type": "code",
   "execution_count": 53,
   "id": "4979058e",
   "metadata": {},
   "outputs": [],
   "source": [
    "def get_Name_Info(country):\n",
    "    infoExtracted = []\n",
    "    for info in country:\n",
    "        infoExtracted.append(info[\"name\"])\n",
    "    return infoExtracted"
   ]
  },
  {
   "cell_type": "code",
   "execution_count": 54,
   "id": "cf5909b6",
   "metadata": {},
   "outputs": [
    {
     "name": "stdout",
     "output_type": "stream",
     "text": [
      "[\"New Year's Day\", 'Feast of the Virgin of Candelaria', 'Carnival', 'Carnival', 'Good Friday', 'Labour Day', 'Corpus Christi', 'Andean New Year', 'Agrarian Reform Day', 'Independence Day', \"All Saints' Day\", 'Christmas Day']\n"
     ]
    }
   ],
   "source": [
    "print(get_Name_Info(country))"
   ]
  },
  {
   "cell_type": "code",
   "execution_count": null,
   "id": "acfc3f1e",
   "metadata": {},
   "outputs": [],
   "source": []
  }
 ],
 "metadata": {
  "kernelspec": {
   "display_name": "Python 3 (ipykernel)",
   "language": "python",
   "name": "python3"
  },
  "language_info": {
   "codemirror_mode": {
    "name": "ipython",
    "version": 3
   },
   "file_extension": ".py",
   "mimetype": "text/x-python",
   "name": "python",
   "nbconvert_exporter": "python",
   "pygments_lexer": "ipython3",
   "version": "3.9.12"
  }
 },
 "nbformat": 4,
 "nbformat_minor": 5
}
