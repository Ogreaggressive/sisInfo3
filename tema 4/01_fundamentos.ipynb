{
 "cells": [
  {
   "cell_type": "code",
   "execution_count": 1,
   "metadata": {},
   "outputs": [],
   "source": [
    "#Habilitar intellisense\n",
    "%config IPCompleter.greedy = True"
   ]
  },
  {
   "cell_type": "markdown",
   "metadata": {},
   "source": [
    "## Aprendizaje Automático (Machine Learning)\n",
    "\n",
    "### ¿Qué es aprender?\n",
    "\n",
    "__[Aprendizaje Automático](https://es.wikipedia.org/wiki/Aprendizaje_autom%C3%A1tico)__\n",
    "\n",
    "\n",
    "### Ejemplo de un problema de clasificación supervisado\n",
    "<img src=\"01_spam-detection.png\" style=\"width:600px\"/>\n",
    "\n",
    "### Variables independientes (features) y variable objetivo (response/tag/class)\n",
    "<img src=\"02_features-input-output.png\" style=\"width:600px\"/>\n",
    "\n",
    "<img src=\"03_feature.png\" style=\"width:600px\"/>\n",
    "<hr\\>\n",
    "El proceso de \"entrenamiento\" busca obtener un artefacto que sea capaz de clasificar nuevas observaciones/casos. A mayor cantidad de ejemplos, se espera un mejor desempeño.\n",
    "<img src=\"04_generalizacion.png\" style=\"width:600px\"/>\n",
    "\n",
    "### Aprendizaje supervisado (clasificación vs regresión)\n",
    "__[Algoritmos de aprendizaje supervisado](https://en.wikipedia.org/wiki/Supervised_learning#Algorithms)__\n",
    "\n",
    "<img src=\"05_supervised_classification.png\" style=\"width:600px\"/>\n",
    "<hr\\>\n",
    "<img src=\"06_supervised_regression.png\" style=\"width:600px\"/>\n",
    "\n",
    "### Aprendizaje no supervisado\n",
    "<img src=\"07_unsupervised-clustering.png\" style=\"width:600px\"/>\n"
   ]
  },
  {
   "cell_type": "markdown",
   "metadata": {},
   "source": [
    "## Aprendizaje Automático vs Sistemas Basados en Reglas\n",
    "<img src=\"03_ml_vs_rules.png\" style=\"width:700px\"/>\n",
    "\n",
    "ML. Pro: adecuado (probablemente la única alternativa) en escenarios con reglas dinámicas y dependiente del contexto. Con: requiere cantidad considerable de datos históricos de buena calidad y la selección de buenos vectores de características (esto requiere experiencia y conocimiento de el funcionamiento de los algoritmos de ML)\n",
    "\n",
    "Reglas. Pro: adecuado en escenarios con reglas relativamente estáticas o cuando no se dispone de cantidad considerable de datos históricos (en cuyo caso es la única opción). Con: pobre desempeño a la hora de capturar reglas que dependen del contexto, es muchos escencario se requiere de expertos que provean las reglas."
   ]
  },
  {
   "cell_type": "markdown",
   "metadata": {},
   "source": [
    "## Evaluación del desempeño de un clasificador (binario)\n",
    "\n",
    "### Accuracy (Exactitud)\n",
    "<img src=\"08_accuracy.png\" style=\"width:700px\"/>\n",
    "\n",
    "__[Cuando la exactitud no es suficiente](https://machinelearningmastery.com/classification-accuracy-is-not-enough-more-performance-measures-you-can-use/)__\n",
    "\n",
    "__[Matriz de Confusión](https://es.wikipedia.org/wiki/Matriz_de_confusi%C3%B3n)__\n",
    "\n",
    "\n",
    "###  Precisión\n",
    "<img src=\"09_precision.png\" style=\"width:700px\"/>\n",
    "\n",
    "- **¿Qué proporción de clasificaciones positivas fue correcta?**\n",
    "- **A mayor presición, menor cantidad de falsos positivos**\n",
    "\n",
    "###  Recall (Exhaustividad) \n",
    "<img src=\"10_recall.png\" style=\"width:600px\"/>\n",
    "\n",
    "\n",
    "- **¿Qué proporción de positivos reales se clasificó correctamente?**\n",
    "- **A mayor recall, menor cantidad de falsos negativos**\n",
    "\n",
    "###  Preguntas sobre precisión y exhaustividad\n",
    "\n",
    "Con un clasificador (digamos un test para detectar una enfermedad) de alta exhaustividad, es más o menos probable fallar en la detección de la enfermedad?\n",
    "\n",
    "Con un clasificador (digamos un test para detectar una enfermedad) de alta exhaustividad, es más o menos probable \"detectar\" la enfermedad en personas que no la tienen?\n",
    "\n",
    "Si la enfermedad es mortal, qué es preferible: alta Presición o alta Exhaustividad?"
   ]
  },
  {
   "cell_type": "markdown",
   "metadata": {},
   "source": [
    "## Fuentes de datos \n",
    "\n",
    "- [UC Irvine Machine Learning Repository](https://archive.ics.uci.edu/ml/index.php)\n",
    "- [Google’s Datasets Search Engine](https://datasetsearch.research.google.com/)\n",
    "- [Kaggle Datasets](https://www.kaggle.com/datasets)"
   ]
  }
 ],
 "metadata": {
  "kernelspec": {
   "display_name": "Python 3 (ipykernel)",
   "language": "python",
   "name": "python3"
  },
  "language_info": {
   "codemirror_mode": {
    "name": "ipython",
    "version": 3
   },
   "file_extension": ".py",
   "mimetype": "text/x-python",
   "name": "python",
   "nbconvert_exporter": "python",
   "pygments_lexer": "ipython3",
   "version": "3.8.12"
  }
 },
 "nbformat": 4,
 "nbformat_minor": 2
}
