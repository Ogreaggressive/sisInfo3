{
 "cells": [
  {
   "cell_type": "markdown",
   "id": "3e5d0bfe",
   "metadata": {},
   "source": [
    "# Agrupamiento\n",
    "\n",
    "Es posible instalar [complementos](https://leafletjs.com/plugins.html) para extender la funcionalidad de Leaflet. Uno de los complemetos más útiles para visualizar gran cantidad de features es [Leaflet.markercluster](https://github.com/Leaflet/Leaflet.markercluster)."
   ]
  },
  {
   "cell_type": "code",
   "execution_count": null,
   "id": "9b3f38c4",
   "metadata": {},
   "outputs": [],
   "source": []
  },
  {
   "cell_type": "markdown",
   "id": "178cf1f2",
   "metadata": {},
   "source": [
    "## Ejercicio\n",
    "\n",
    "- Mostrar la lista de unidades educativas en el municipio de Cochabamba\n",
    "- Experimentar con las siguientes opciones complemento [Leaflet.markercluster](https://github.com/Leaflet/Leaflet.markercluster#other-options):\n",
    "    - ```disableClusteringAtZoom```\n",
    "    - ```maxClusterRadius```\n"
   ]
  },
  {
   "cell_type": "code",
   "execution_count": null,
   "id": "a8bb27f1",
   "metadata": {},
   "outputs": [],
   "source": []
  }
 ],
 "metadata": {
  "kernelspec": {
   "display_name": "Python 3 (ipykernel)",
   "language": "python",
   "name": "python3"
  },
  "language_info": {
   "codemirror_mode": {
    "name": "ipython",
    "version": 3
   },
   "file_extension": ".py",
   "mimetype": "text/x-python",
   "name": "python",
   "nbconvert_exporter": "python",
   "pygments_lexer": "ipython3",
   "version": "3.8.13"
  }
 },
 "nbformat": 4,
 "nbformat_minor": 5
}
