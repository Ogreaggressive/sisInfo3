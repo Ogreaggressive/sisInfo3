{
 "cells": [
  {
   "cell_type": "markdown",
   "id": "3e5d0bfe",
   "metadata": {},
   "source": [
    "# GeoJson\n",
    "\n",
    "GeoJSON es un formato estándar abierto diseñado para representar elementos geográficos sencillos, junto con sus atributos no espaciales, basado en [JavaScript Object Notation](https://es.wikipedia.org/wiki/JSON). El formato es **ampliamente utilizado en aplicaciones de cartografía en entornos web** al permitir el intercambio de datos de manera rápida, ligera y sencilla.\n",
    "\n",
    "GeoJSON soporta los siguientes tipos/objetos geométricos: ```Point```, ```LineString```, ```Polygon```, ```MultiPoint```, ```MultiLineString``` y ```MultiPolygon```. Todo objeto geométrico con propiedades adicionales forma un objeto ```Feature```. Un conjunto de objetos ```Feature``` está contenido en un objeto ```FeatureCollection```.\n",
    "\n",
    "Ejemplo:\n",
    "\n",
    "```\n",
    "{\n",
    "    \"type\": \"Feature\",\n",
    "    \"properties\": {\n",
    "        \"name\": \"Coors Field\",\n",
    "        \"amenity\": \"Baseball Stadium\",\n",
    "        \"popupContent\": \"This is where the Rockies play!\"\n",
    "    },\n",
    "    \"geometry\": {\n",
    "        \"type\": \"Point\",\n",
    "        \"coordinates\": [-104.99404, 39.75621]\n",
    "    }\n",
    "}\n",
    "```\n",
    "\n",
    "Leaflet tiene un muy buen [soporte para mostrar contenido en formato GeoJSon](https://leafletjs.com/examples/geojson/)."
   ]
  },
  {
   "cell_type": "code",
   "execution_count": null,
   "id": "9b3f38c4",
   "metadata": {},
   "outputs": [],
   "source": []
  },
  {
   "cell_type": "markdown",
   "id": "178cf1f2",
   "metadata": {},
   "source": [
    "## Ejercicio\n",
    "\n",
    "Obtener la lista de terremotos del servicio ```GET https://earthquake.usgs.gov/fdsnws/event/1/query?format=geojson&starttime=2022-10-01&endtime=2022-10-02```\n",
    "\n",
    "- Mostras únicamente los terremotos con magnitud superior a 3.0\n",
    "- Si la magnitud es mayor que 4.5 mostrar la ubicación con un marker rojo; si es mejor o igual a 4.5 mostrar la ubicación con un marker naranja\n",
    "\n"
   ]
  },
  {
   "cell_type": "raw",
   "id": "16c948cf",
   "metadata": {},
   "source": []
  },
  {
   "cell_type": "markdown",
   "id": "29e2fc82",
   "metadata": {},
   "source": [
    "# Referencias\n",
    "\n",
    "- [Manual de jQuery](https://mundosica.github.io/tutorial_hispano_jQuery/)"
   ]
  },
  {
   "cell_type": "code",
   "execution_count": null,
   "id": "05935d99",
   "metadata": {},
   "outputs": [],
   "source": []
  }
 ],
 "metadata": {
  "kernelspec": {
   "display_name": "Python 3 (ipykernel)",
   "language": "python",
   "name": "python3"
  },
  "language_info": {
   "codemirror_mode": {
    "name": "ipython",
    "version": 3
   },
   "file_extension": ".py",
   "mimetype": "text/x-python",
   "name": "python",
   "nbconvert_exporter": "python",
   "pygments_lexer": "ipython3",
   "version": "3.8.13"
  }
 },
 "nbformat": 4,
 "nbformat_minor": 5
}
